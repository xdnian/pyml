{
 "cells": [
  {
   "cell_type": "markdown",
   "metadata": {
    "slideshow": {
     "slide_type": "slide"
    }
   },
   "source": [
    "# Neural Art\n",
    "\n",
    "Some experiments with neural network art."
   ]
  },
  {
   "cell_type": "code",
   "execution_count": 1,
   "metadata": {
    "collapsed": false,
    "slideshow": {
     "slide_type": "skip"
    }
   },
   "outputs": [
    {
     "name": "stderr",
     "output_type": "stream",
     "text": [
      "Using Theano backend.\n"
     ]
    },
    {
     "name": "stdout",
     "output_type": "stream",
     "text": [
      "last updated: 2016-10-11 \n",
      "\n",
      "CPython 3.5.2\n",
      "IPython 4.2.0\n",
      "\n",
      "numpy 1.11.1\n",
      "matplotlib 1.5.1\n",
      "theano 0.8.2\n",
      "keras 1.1.0\n"
     ]
    }
   ],
   "source": [
    "%load_ext watermark\n",
    "%watermark -a '' -u -d -v -p numpy,matplotlib,theano,keras\n",
    "\n",
    "%matplotlib inline"
   ]
  },
  {
   "cell_type": "code",
   "execution_count": 2,
   "metadata": {
    "collapsed": false,
    "slideshow": {
     "slide_type": "fragment"
    }
   },
   "outputs": [],
   "source": [
    "from keras.models import Sequential\n",
    "from keras.layers.core import Dense\n",
    "from keras.optimizers import SGD\n",
    "\n",
    "# dims: an array of number of nodes for all layers\n",
    "def sequential_dense_network(dims, init='lecun_uniform'):\n",
    "    model = Sequential()\n",
    "    \n",
    "    for index in range(len(dims)-1):\n",
    "        input_dim = dims[index]\n",
    "        output_dim = dims[index+1]\n",
    "        \n",
    "        if index < len(dims)-2:\n",
    "            activation = 'tanh'\n",
    "        else:\n",
    "            activation = 'sigmoid'\n",
    "        \n",
    "        layer = Dense(input_dim = input_dim,\n",
    "                      output_dim = output_dim,\n",
    "                      init = init,\n",
    "                      activation = activation)\n",
    "        model.add(layer)\n",
    "        \n",
    "    return model"
   ]
  },
  {
   "cell_type": "code",
   "execution_count": 3,
   "metadata": {
    "collapsed": true,
    "slideshow": {
     "slide_type": "fragment"
    }
   },
   "outputs": [],
   "source": [
    "import numpy as np\n",
    "from keras import initializations\n",
    "\n",
    "def unit_uniform(shape, name=None):\n",
    "    #return np.random.uniform(size = shape)\n",
    "    return initializations.uniform(shape, scale=1.0, name=name)"
   ]
  },
  {
   "cell_type": "code",
   "execution_count": 4,
   "metadata": {
    "collapsed": false,
    "slideshow": {
     "slide_type": "fragment"
    }
   },
   "outputs": [],
   "source": [
    "import numpy as np\n",
    "\n",
    "np.random.seed(13) \n",
    "\n",
    "weight_init = 'lecun_uniform'\n",
    "weight_init = unit_uniform\n",
    "\n",
    "num_coords = 2\n",
    "num_colors = 3\n",
    "num_hidden_nodes = 16\n",
    "num_hidden_layers = 8\n",
    "\n",
    "hidden_dims = [num_hidden_nodes for k in range(num_hidden_layers)]\n",
    "\n",
    "# need bias for input as well\n",
    "dims = [num_coords + 1] +  hidden_dims + [num_colors]\n",
    "\n",
    "model = sequential_dense_network(dims, init = weight_init)\n",
    "\n",
    "model.compile(loss = \"mean_squared_error\", optimizer = 'sgd', metrics = [\"accuracy\"])\n"
   ]
  },
  {
   "cell_type": "code",
   "execution_count": 5,
   "metadata": {
    "collapsed": false,
    "slideshow": {
     "slide_type": "fragment"
    }
   },
   "outputs": [
    {
     "name": "stdout",
     "output_type": "stream",
     "text": [
      "x range: [-0.500000, 0.500000]\n",
      "y range: [-0.500000, 0.500000]\n",
      "output range: [0.003662, 0.992965]\n"
     ]
    }
   ],
   "source": [
    "width = 64\n",
    "height = width\n",
    "\n",
    "x_coords, y_coords = np.meshgrid(np.linspace(0, 1, width)-0.5, np.linspace(0, 1, height)-0.5)\n",
    "print('x range: [%f, %f]' % (np.min(x_coords), np.max(x_coords)))\n",
    "print('y range: [%f, %f]' % (np.min(y_coords), np.max(y_coords)))\n",
    "\n",
    "input_coords = np.array([x_coords.ravel(), y_coords.ravel(), np.ones(height*width)]).transpose()\n",
    "\n",
    "output_colors = model.predict(input_coords)\n",
    "\n",
    "output_image = output_colors.reshape(height, width, num_colors)\n",
    "\n",
    "#print(input_coords.shape)\n",
    "#print(output_colors.shape)\n",
    "# print(output_image.shape)\n",
    "print('output range: [%f, %f]' % (np.min(output_image), np.max(output_image)))"
   ]
  },
  {
   "cell_type": "code",
   "execution_count": 6,
   "metadata": {
    "collapsed": false,
    "slideshow": {
     "slide_type": "fragment"
    }
   },
   "outputs": [
    {
     "data": {
      "image/png": "[encoded data removed]",
      "text/plain": [
       "<matplotlib.figure.Figure at 0x1b524e14cf8>"
      ]
     },
     "metadata": {},
     "output_type": "display_data"
    }
   ],
   "source": [
    "import matplotlib.pyplot as plt\n",
    "\n",
    "plt.imshow(output_image, interpolation='nearest')\n",
    "plt.axis('off')\n",
    "plt.tight_layout()\n",
    "plt.show()"
   ]
  }
 ],
 "metadata": {
  "anaconda-cloud": {},
  "celltoolbar": "Slideshow",
  "kernelspec": {
   "display_name": "Python [Root]",
   "language": "python",
   "name": "Python [Root]"
  },
  "language_info": {
   "codemirror_mode": {
    "name": "ipython",
    "version": 3
   },
   "file_extension": ".py",
   "mimetype": "text/x-python",
   "name": "python",
   "nbconvert_exporter": "python",
   "pygments_lexer": "ipython3",
   "version": "3.5.2"
  }
 },
 "nbformat": 4,
 "nbformat_minor": 0
}

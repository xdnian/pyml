{
 "cells": [
  {
   "cell_type": "markdown",
   "metadata": {
    "slideshow": {
     "slide_type": "skip"
    }
   },
   "source": [
    "Copyright (c) 2015, 2016 [Sebastian Raschka](sebastianraschka.com)\n",
    "<br>\n",
    "2016 [Li-Yi Wei](http://www.liyiwei.org/)\n",
    "\n",
    "https://github.com/1iyiwei/pyml\n",
    "\n",
    "[MIT License](https://github.com/1iyiwei/pyml/blob/master/LICENSE.txt)"
   ]
  },
  {
   "cell_type": "markdown",
   "metadata": {
    "slideshow": {
     "slide_type": "skip"
    }
   },
   "source": [
    "# Python Machine Learning - Code Examples"
   ]
  },
  {
   "cell_type": "markdown",
   "metadata": {
    "slideshow": {
     "slide_type": "slide"
    }
   },
   "source": [
    "# Chapter 11 - Working with Unlabeled Data – Clustering Analysis\n",
    "\n",
    "Supervised learning\n",
    "* classification\n",
    "<img src = \"./images/01_03.png\">\n",
    "* regression\n",
    "<img src = \"./images/01_04.png\" width=50%>\n",
    "\n",
    "Unsupervised learning\n",
    "* dimensionality reduction\n",
    "<img src=\"./images/01_07.png\">\n",
    "* clustering\n",
    "<img src=\"./images/01_06.png\" width=50%>"
   ]
  },
  {
   "cell_type": "markdown",
   "metadata": {
    "slideshow": {
     "slide_type": "skip"
    }
   },
   "source": [
    "Note that the optional watermark extension is a small IPython notebook plugin that I developed to make the code reproducible. You can just skip the following line(s)."
   ]
  },
  {
   "cell_type": "code",
   "execution_count": 1,
   "metadata": {
    "collapsed": false,
    "slideshow": {
     "slide_type": "skip"
    }
   },
   "outputs": [
    {
     "name": "stdout",
     "output_type": "stream",
     "text": [
      "last updated: 2016-11-15 \n",
      "\n",
      "CPython 3.5.2\n",
      "IPython 4.2.0\n",
      "\n",
      "numpy 1.11.1\n",
      "pandas 0.18.1\n",
      "matplotlib 1.5.1\n",
      "scipy 0.17.1\n",
      "sklearn 0.18\n"
     ]
    }
   ],
   "source": [
    "%load_ext watermark\n",
    "%watermark -a '' -u -d -v -p numpy,pandas,matplotlib,scipy,sklearn"
   ]
  },
  {
   "cell_type": "markdown",
   "metadata": {
    "collapsed": true,
    "slideshow": {
     "slide_type": "skip"
    }
   },
   "source": [
    "*The use of `watermark` is optional. You can install this IPython extension via \"`pip install watermark`\". For more information, please see: https://github.com/rasbt/watermark.*"
   ]
  },
  {
   "cell_type": "markdown",
   "metadata": {
    "slideshow": {
     "slide_type": "subslide"
    }
   },
   "source": [
    "### Overview\n",
    "\n",
    "- [Grouping objects by similarity using k-means](#Grouping-objects-by-similarity-using-k-means)\n",
    "  - [K-means++](#K-means++)\n",
    "  - [Hard versus soft clustering](#Hard-versus-soft-clustering)\n",
    "  - [Using the elbow method to find the optimal number of clusters](#Using-the-elbow-method-to-find-the-optimal-number-of-clusters)\n",
    "  - [Quantifying the quality of clustering via silhouette plots](#Quantifying-the-quality-of-clustering-via-silhouette-plots)\n",
    "- [Organizing clusters as a hierarchical tree](#Organizing-clusters-as-a-hierarchical-tree)\n",
    "  - [Performing hierarchical clustering on a distance matrix](#Performing-hierarchical-clustering-on-a-distance-matrix)\n",
    "  - [Attaching dendrograms to a heat map](#Attaching-dendrograms-to-a-heat-map)\n",
    "  - [Applying agglomerative clustering via scikit-learn](#Applying-agglomerative-clustering-via-scikit-learn)\n",
    "- [Locating regions of high density via DBSCAN](#Locating-regions-of-high-density-via-DBSCAN)\n",
    "- [Summary](#Summary)"
   ]
  },
  {
   "cell_type": "code",
   "execution_count": 2,
   "metadata": {
    "collapsed": true,
    "slideshow": {
     "slide_type": "skip"
    }
   },
   "outputs": [],
   "source": [
    "from IPython.display import Image"
   ]
  },
  {
   "cell_type": "code",
   "execution_count": 3,
   "metadata": {
    "collapsed": true,
    "slideshow": {
     "slide_type": "skip"
    }
   },
   "outputs": [],
   "source": [
    "%matplotlib inline"
   ]
  },
  {
   "cell_type": "markdown",
   "metadata": {
    "slideshow": {
     "slide_type": "slide"
    }
   },
   "source": [
    "# Grouping objects by similarity using k-means\n",
    "\n",
    "Cluster similar objects (data samples) $\\mathbf{X}$ together\n",
    "* documents, music, video\n",
    "* users with similar profiles or interests\n",
    "\n",
    "The number of cluster (k) is a hyper-parameter\n",
    "* manual specification\n",
    "* automatic determination\n",
    "\n",
    "The distance measure $d(x^{(i)}, x^{(j)})$ can be another hyper-parameter\n",
    "* Euclidean ($L_2$) is a common choice\n",
    "\n",
    "<img src=\"./images/01_06.png\" width=50%>"
   ]
  },
  {
   "cell_type": "markdown",
   "metadata": {
    "slideshow": {
     "slide_type": "subslide"
    }
   },
   "source": [
    "## K-means clustering example"
   ]
  },
  {
   "cell_type": "markdown",
   "metadata": {
    "slideshow": {
     "slide_type": "fragment"
    }
   },
   "source": [
    "### Create and visualize the data set"
   ]
  },
  {
   "cell_type": "code",
   "execution_count": 4,
   "metadata": {
    "collapsed": true,
    "slideshow": {
     "slide_type": "fragment"
    }
   },
   "outputs": [],
   "source": [
    "from sklearn.datasets import make_blobs\n",
    "\n",
    "X, y = make_blobs(n_samples=150, \n",
    "                  n_features=2, \n",
    "                  centers=3, \n",
    "                  cluster_std=0.5, \n",
    "                  shuffle=True, \n",
    "                  random_state=0)"
   ]
  },
  {
   "cell_type": "code",
   "execution_count": 5,
   "metadata": {
    "collapsed": false,
    "slideshow": {
     "slide_type": "fragment"
    }
   },
   "outputs": [
    {
     "data": {
      "image/png": "[encoded data removed]",
      "text/plain": [
       "<matplotlib.figure.Figure at 0x1e27d4d2470>"
      ]
     },
     "metadata": {},
     "output_type": "display_data"
    }
   ],
   "source": [
    "import matplotlib.pyplot as plt\n",
    "\n",
    "plt.scatter(X[:, 0], X[:, 1], c='white', marker='o', s=50)\n",
    "plt.grid()\n",
    "plt.tight_layout()\n",
    "#plt.savefig('./figures/spheres.png', dpi=300)\n",
    "plt.show()"
   ]
  },
  {
   "cell_type": "code",
   "execution_count": 6,
   "metadata": {
    "collapsed": true,
    "slideshow": {
     "slide_type": "subslide"
    }
   },
   "outputs": [],
   "source": [
    "import matplotlib.pyplot as plt\n",
    "import numpy as np\n",
    "\n",
    "# global plot options for consistency\n",
    "def plot_options():\n",
    "    markers = ('s', 'x', 'o', '^', 'v')\n",
    "    #colors = ('red', 'blue', 'lightgreen', 'gray', 'cyan')\n",
    "    colors = ['lightgreen', 'orange', 'lightblue', 'gray', 'cyan']\n",
    "    center_marker = '*'\n",
    "    center_color = 'red'\n",
    "    \n",
    "    return markers, colors, center_marker, center_color\n",
    "\n",
    "def plot_clusters(X, y, centers):\n",
    "    \n",
    "    markers, colors, center_marker, center_color = plot_options()\n",
    "    \n",
    "    num_clusters = np.unique(y).shape[0]\n",
    "    \n",
    "    for k in range(num_clusters):\n",
    "        color = colors[k]\n",
    "        marker = markers[k]\n",
    "        plt.scatter(X[y == k, 0], X[y == k, 1], \n",
    "                    s=50, c=color, marker=marker,\n",
    "                    label = 'cluster ' + str(k+1))\n",
    "    \n",
    "    plt.scatter(centers[:, 0], centers[:, 1],\n",
    "                s=250, marker=center_marker, c=center_color, \n",
    "                label='centroids')"
   ]
  },
  {
   "cell_type": "code",
   "execution_count": 7,
   "metadata": {
    "collapsed": true,
    "slideshow": {
     "slide_type": "subslide"
    }
   },
   "outputs": [],
   "source": [
    "# same code from the classifiers\n",
    "# applicable to any model with predict() method\n",
    "# here, y is the cluster labels, \n",
    "# instead of ground truth as in supervised classification\n",
    "from matplotlib.colors import ListedColormap\n",
    "\n",
    "def plot_decision_regions(X, y, model, resolution=0.02):\n",
    "\n",
    "    # setup marker generator and color map\n",
    "    \n",
    "    markers, colors, center_marker, center_color = plot_options()\n",
    "    cmap = ListedColormap(colors[:len(np.unique(y))])\n",
    "\n",
    "    # plot the decision surface\n",
    "    x1_min, x1_max = X[:, 0].min() - 1, X[:, 0].max() + 1\n",
    "    x2_min, x2_max = X[:, 1].min() - 1, X[:, 1].max() + 1\n",
    "    xx1, xx2 = np.meshgrid(np.arange(x1_min, x1_max, resolution),\n",
    "                           np.arange(x2_min, x2_max, resolution))\n",
    "    Z = model.predict(np.array([xx1.ravel(), xx2.ravel()]).T)\n",
    "    Z = Z.reshape(xx1.shape)\n",
    "    plt.contourf(xx1, xx2, Z, alpha=0.4, cmap=cmap)\n",
    "    plt.xlim(xx1.min(), xx1.max())\n",
    "    plt.ylim(xx2.min(), xx2.max())"
   ]
  },
  {
   "cell_type": "markdown",
   "metadata": {
    "slideshow": {
     "slide_type": "subslide"
    }
   },
   "source": [
    "### First iteration\n",
    "\n",
    "Not good clustering\n",
    "\n",
    "### More iterations\n",
    "\n",
    "Better clustering results"
   ]
  },
  {
   "cell_type": "code",
   "execution_count": 8,
   "metadata": {
    "collapsed": false,
    "slideshow": {
     "slide_type": "fragment"
    }
   },
   "outputs": [
    {
     "data": {
      "image/png": "[encoded data removed]",
      "text/plain": [
       "<matplotlib.figure.Figure at 0x1e27d57edd8>"
      ]
     },
     "metadata": {},
     "output_type": "display_data"
    },
    {
     "data": {
      "image/png": "[encoded data removed]",
      "text/plain": [
       "<matplotlib.figure.Figure at 0x1e27f595978>"
      ]
     },
     "metadata": {},
     "output_type": "display_data"
    },
    {
     "data": {
      "image/png": "[encoded data removed]",
      "text/plain": [
       "<matplotlib.figure.Figure at 0x1e200348c88>"
      ]
     },
     "metadata": {},
     "output_type": "display_data"
    }
   ],
   "source": [
    "from sklearn.cluster import KMeans\n",
    "\n",
    "num_clusters = 3\n",
    "num_iterations = 3\n",
    "\n",
    "for iteration in range(num_iterations):\n",
    "    km = KMeans(n_clusters=num_clusters, \n",
    "                init='random',\n",
    "                n_init=1, \n",
    "                max_iter=iteration+1,\n",
    "                tol=1e-04,\n",
    "                random_state=0)\n",
    "    y_km = km.fit_predict(X)\n",
    "\n",
    "    plot_decision_regions(X, y_km, km)\n",
    "    plot_clusters(X, y_km, km.cluster_centers_)\n",
    "    plt.legend()\n",
    "    plt.title('# of iteration: ' + str(iteration))\n",
    "    plt.grid()\n",
    "    plt.tight_layout()\n",
    "    plt.show()"
   ]
  },
  {
   "cell_type": "code",
   "execution_count": 9,
   "metadata": {
    "collapsed": false,
    "slideshow": {
     "slide_type": "fragment"
    }
   },
   "outputs": [
    {
     "data": {
      "image/png": "[encoded data removed]",
      "text/plain": [
       "<matplotlib.figure.Figure at 0x1e2000d76a0>"
      ]
     },
     "metadata": {},
     "output_type": "display_data"
    }
   ],
   "source": [
    "# estimate inertia, i.e. sum of distances from samples to nearest cluster centers\n",
    "\n",
    "num_trials = 5\n",
    "num_iterations = 10\n",
    "\n",
    "inertia = np.zeros(num_iterations)\n",
    "\n",
    "for iteration in range(num_iterations):\n",
    "    cost = 0\n",
    "    for trial in range(num_trials):\n",
    "        km = KMeans(n_clusters=num_clusters, \n",
    "                    init='random',\n",
    "                    n_init=1, \n",
    "                    max_iter=iteration+1,\n",
    "                    tol=1e-04,\n",
    "                    random_state=0)\n",
    "        y_km = km.fit_predict(X)\n",
    "        cost = cost + km.inertia_\n",
    "    inertia[iteration] = cost/num_trials\n",
    "    \n",
    "#print(inertia)\n",
    "\n",
    "plt.plot(range(1, len(inertia)+1), inertia, marker='o')\n",
    "plt.xlabel('iterations')\n",
    "plt.ylabel('sum of distances of samples to closest centroids')\n",
    "plt.tight_layout()\n",
    "plt.show()"
   ]
  },
  {
   "cell_type": "markdown",
   "metadata": {
    "slideshow": {
     "slide_type": "subslide"
    }
   },
   "source": [
    "## K-means clustering algorithm\n",
    "\n",
    "Input: a set of samples $\\mathbf{X}$\n",
    "* without labels $\\mathbf{y}$ as in supervised classification\n",
    "\n",
    "Distance measure: assume $L_2$ for simplicity and commonality\n",
    "$$\n",
    "\\begin{align}\n",
    "d\\left(x^{(i)}, x^{(j)}\\right) \n",
    "&= \\|x^{(i)} - x^{(j)} \\|_2\n",
    "\\\\\n",
    "&= \\sqrt{\\sum_k \\left(x^{(i)}_k - x^{(j)}_k \\right)^2}\n",
    "\\end{align}\n",
    "$$"
   ]
  },
  {
   "cell_type": "markdown",
   "metadata": {
    "slideshow": {
     "slide_type": "fragment"
    }
   },
   "source": [
    "Steps:\n",
    "* Initialization: pick (e.g. randomly) $k$ centroids $\\mathbf{U} = \\{\\mu^{(j)}\\}, j \\in \\{1, \\cdots, k \\}$ from $\\mathbf{X}$ as initial cluster centers \n",
    "\n",
    "* Voronoi: assign each sample $x^{(i)} \\in \\mathbf{X}$ to the nearest centroid $\\mu\\left(x^{(i)}\\right)$\n",
    "$$\n",
    "\\begin{align}\n",
    "\\mu\\left(x^{(i)}\\right) = argmin_{\\mu \\in \\mathbf{U}} d(x^{(i)}, \\mu)\n",
    "\\end{align}\n",
    "$$\n",
    "\n",
    "* Centroid: move each $\\mu^{(j)} \\in \\mathbf{U}$ to the center of the samples that were assigned to it (i.e. the cluster of $\\mu^{(j)}$)\n",
    "$$\n",
    "\\begin{align}\n",
    "\\mu^{(j)} &= \\frac{1}{\\sum w_{ij}} \\sum w_{ij} x^{(i)} \n",
    "\\\\\n",
    "w_{ij} &=\n",
    "\\begin{cases}\n",
    "1 \\; if \\mu\\left( x^{(i)}\\right) = \\mu^{(j)}\n",
    "\\\\\n",
    "0 \\; else\n",
    "\\end{cases}\n",
    "\\end{align}\n",
    "$$\n",
    "\n",
    "* Repeat the Vornoi and centroid steps until the cluster assignments do not change much or a maximum number of iterations is reached"
   ]
  },
  {
   "cell_type": "markdown",
   "metadata": {
    "slideshow": {
     "slide_type": "fragment"
    }
   },
   "source": [
    "## Visualizing the clustering process\n",
    "\n",
    "https://www.youtube.com/watch?v=S0sAnabdCLg"
   ]
  },
  {
   "cell_type": "code",
   "execution_count": 10,
   "metadata": {
    "collapsed": false,
    "slideshow": {
     "slide_type": "skip"
    }
   },
   "outputs": [
    {
     "data": {
      "image/jpeg": "[encoded data removed]",
      "text/html": [
       "\n",
       "        <iframe\n",
       "            width=\"400\"\n",
       "            height=\"300\"\n",
       "            src=\"https://www.youtube.com/embed/S0sAnabdCLg\"\n",
       "            frameborder=\"0\"\n",
       "            allowfullscreen\n",
       "        ></iframe>\n",
       "        "
      ],
      "text/plain": [
       "<IPython.lib.display.YouTubeVideo at 0x1e27d379320>"
      ]
     },
     "execution_count": 10,
     "metadata": {},
     "output_type": "execute_result"
    }
   ],
   "source": [
    "from IPython.display import YouTubeVideo\n",
    "YouTubeVideo('S0sAnabdCLg')"
   ]
  },
  {
   "cell_type": "markdown",
   "metadata": {
    "slideshow": {
     "slide_type": "fragment"
    }
   },
   "source": [
    "## aka <a href=\"https://en.wikipedia.org/wiki/Lloyd%27s_algorithm\">Lloyd's algorithm</a>\n",
    "\n",
    "Maroon dot: previous centers\n",
    "\n",
    "Black cross: next centers\n",
    "\n",
    "Iteration 1:\n",
    "<img src=\"https://upload.wikimedia.org/wikipedia/commons/thumb/5/5a/LloydsMethod1.svg/200px-LloydsMethod1.svg.png\">\n",
    "\n",
    "Iteration 2:\n",
    "<img src=\"https://upload.wikimedia.org/wikipedia/commons/thumb/7/77/LloydsMethod2.svg/200px-LloydsMethod2.svg.png\">\n",
    "\n",
    "Iteration 3:\n",
    "<img src=\"https://upload.wikimedia.org/wikipedia/commons/thumb/f/fb/LloydsMethod3.svg/200px-LloydsMethod3.svg.png\">\n",
    "\n",
    "Iteration 15:\n",
    "<img src=\"https://upload.wikimedia.org/wikipedia/commons/thumb/3/3b/LloydsMethod15.svg/200px-LloydsMethod15.svg.png\">"
   ]
  },
  {
   "cell_type": "markdown",
   "metadata": {
    "slideshow": {
     "slide_type": "subslide"
    }
   },
   "source": [
    "## Background and intuition\n",
    "\n",
    "$\\mathbf{X} = \\{x^{(i)}\\}$: data samples\n",
    "\n",
    "$\\mathbf{U} = \\{\\mu^{(j)} \\}$: cluster centers\n",
    "\n",
    "The goal is to minimize the following objective function:\n",
    "$$\n",
    "\\begin{align}\n",
    "E\\left(\\mathbf{X} , \\mathbf{U} \\right)\n",
    "&=\n",
    "\\sum_i \\sum_j w_{ij} d^2\\left(x^{(i)}, \\mu^{(j)}\\right)\n",
    "\\end{align}\n",
    "$$\n",
    "Subject to the constraint that each sample is assigned to one cluster:\n",
    "$$\n",
    "\\begin{align}\n",
    "\\sum_j w_{ij} &= 1\n",
    "\\\\\n",
    "w_{ij} &\\in \\{0,  1\\}\n",
    "\\end{align}\n",
    "$$"
   ]
  },
  {
   "cell_type": "markdown",
   "metadata": {
    "slideshow": {
     "slide_type": "fragment"
    }
   },
   "source": [
    "Intuitively, we want to find a set of centroids (cluster centers) $\\mathbf{U}$ to minimize the total distance of each sample $x^{(i)} \\in \\mathbf{X}$ with the nearest centroid $\\mu^{(j)} \\in \\mathbf{U}$.\n",
    "\n",
    "So that the clusters are as tight as possible."
   ]
  },
  {
   "cell_type": "markdown",
   "metadata": {
    "slideshow": {
     "slide_type": "fragment"
    }
   },
   "source": [
    "For $L_2$ distance we have\n",
    "$$\n",
    "\\begin{align}\n",
    "E\\left(\\mathbf{X} , \\mathbf{U} \\right)\n",
    "&=\n",
    "\\sum_i \\sum_j w_{ij} \\|x^{(i)} - \\mu^{(j)}\\|^2\n",
    "\\\\\n",
    "&=\n",
    "\\sum_j \\sum_i w_{ij} \\|x^{(i)} - \\mu^{(j)} \\|^2\n",
    "\\end{align}\n",
    "$$\n",
    "\n",
    "<a href=\"https://en.wikipedia.org/wiki/Voronoi_diagram\">\n",
    "<img src=\"https://upload.wikimedia.org/wikipedia/commons/thumb/5/54/Euclidean_Voronoi_diagram.svg/220px-Euclidean_Voronoi_diagram.svg.png\" align=right>\n",
    "</a>\n",
    "\n",
    "For the <b>Voronoi</b> step, we try to minimize each inner term of the $\\sum_i \\sum_j$ order:\n",
    "$$\n",
    "\\begin{align}\n",
    "\\sum_j w_{ij} \\| x^{(i)} - \\mu^{(j)} \\|^2\n",
    "\\end{align}\n",
    "$$\n",
    "Note that the constraints on $w_{ij}$ forces us to choose only one $\\mu^{(j)}$.\n",
    "\n",
    "For the <b>centroid</b> step, we try to minimize the inner term of the $\\sum_j \\sum_i$ order:\n",
    "$$\n",
    "\\begin{align}\n",
    "\\sum_i w_{ij} \\| x^{(i)} - \\mu^{(j)} \\|^2\n",
    "\\end{align}\n",
    "$$\n",
    "Only samples assign to cluster $j$ matters, i.e. $w_{ij} = 1$, so via calculus we know the optimal solution is to put $\\mu_{(j)}$ at the center of all $x^{(i)}$ assigned to it.\n",
    "$$\n",
    "\\begin{align}\n",
    "\\mu^{(j)} &= \\frac{1}{\\sum w_{ij}} \\sum w_{ij} x^{(i)} \n",
    "\\end{align}\n",
    "$$"
   ]
  },
  {
   "cell_type": "markdown",
   "metadata": {
    "slideshow": {
     "slide_type": "slide"
    }
   },
   "source": [
    "## K-means++ intialization\n",
    "\n",
    "Random selection \n",
    "* might not be the best way to initialize the cluster centers\n",
    "* badly (unluckily) placed centroids can cause convergence issues\n",
    "* multiple random initialization can help\n",
    "\n",
    "More systematic approach\n",
    "* choose initial cluster centers to be as far away from one another as possible\n",
    "* sequential process, during which the next cluster center is chosen to be the data sample farthest away from all existing centers\n",
    "\n",
    "This is just for initialization\n",
    "* the rest, Vornoi and centroid steps, remain the same"
   ]
  },
  {
   "cell_type": "markdown",
   "metadata": {
    "slideshow": {
     "slide_type": "subslide"
    }
   },
   "source": [
    "## Example differences for initialization"
   ]
  },
  {
   "cell_type": "code",
   "execution_count": 11,
   "metadata": {
    "collapsed": false,
    "slideshow": {
     "slide_type": "fragment"
    }
   },
   "outputs": [
    {
     "data": {
      "image/png": "[encoded data removed]",
      "text/plain": [
       "<matplotlib.figure.Figure at 0x1e27d555c50>"
      ]
     },
     "metadata": {},
     "output_type": "display_data"
    },
    {
     "data": {
      "image/png": "[encoded data removed]",
      "text/plain": [
       "<matplotlib.figure.Figure at 0x1e200007b38>"
      ]
     },
     "metadata": {},
     "output_type": "display_data"
    }
   ],
   "source": [
    "from sklearn.cluster import KMeans\n",
    "\n",
    "init_options = ['random', 'k-means++']\n",
    "\n",
    "for init_option in init_options:\n",
    "    \n",
    "    km = KMeans(n_clusters=3, \n",
    "                init=init_option,\n",
    "                n_init=1, # just one trial to help visualization\n",
    "                max_iter=1, # just 1 iteration to help visualize the initial condition\n",
    "                tol=1e-04,\n",
    "                random_state=0)\n",
    "    y_km = km.fit_predict(X)\n",
    "\n",
    "    plot_decision_regions(X, y_km, km)\n",
    "    plot_clusters(X, y_km, km.cluster_centers_)\n",
    "    plt.title(init_option)\n",
    "    plt.legend()\n",
    "    plt.grid()\n",
    "    plt.tight_layout()\n",
    "    plt.show()"
   ]
  },
  {
   "cell_type": "markdown",
   "metadata": {
    "slideshow": {
     "slide_type": "subslide"
    }
   },
   "source": [
    "## K-means++ initialization algorithm\n",
    "\n",
    "$\\mathbf{U}$: set of centroids, intially empty:\n",
    "$\\mathbf{U} \\leftarrow \\emptyset$\n",
    "\n",
    "$\\mathbf{U} \\leftarrow x^{(i)} \\in \\mathbf{X}$ via random selection\n",
    "\n",
    "While $\\|\\mathbf{U}\\| < k$, the target number of clusters\n",
    "* compute $d^2\\left(x^{(i)}, \\mathbf{U} \\right)$ for each $x^{(i)} \\in \\mathbf{X}$ to the nearest member in $\\mathbf{U}$\n",
    "* $\\mu^{(j)} \\leftarrow$ random selection with probability \n",
    "$\\frac{d^2\\left(x, \\mathbf{U} \\right)}{\\sum_i d^2\\left(x^{(i)}, \\mathbf{U} \\right)}$\n",
    "for $x \\in \\mathbf{X}$\n",
    "* $\\mathbf{U} \\leftarrow \\mathbf{U} \\bigcup \\mu^{(j)}$"
   ]
  },
  {
   "cell_type": "markdown",
   "metadata": {
    "slideshow": {
     "slide_type": "subslide"
    }
   },
   "source": [
    "## Challenges with k-means\n",
    "\n",
    "The number of clusters k is a hyper-parameter\n",
    "* not easy to pick\n",
    "* especially in high dimensions when we cannot visualize easily like in 2D\n",
    "\n",
    "The clusters:\n",
    "* no overlap (hard instead of soft decision)\n",
    "* not hierarchical \n",
    "\n",
    "We can improve these via other variations of clustering algorithms."
   ]
  },
  {
   "cell_type": "markdown",
   "metadata": {
    "slideshow": {
     "slide_type": "slide"
    }
   },
   "source": [
    "# Hard versus soft clustering\n",
    "\n",
    "Hard clustering\n",
    "* each sample is assigned to one cluster\n",
    "\n",
    "Soft (fuzzy) clustering\n",
    "* each sample has a probabilistic assignment to all clusters\n",
    "\n",
    "Main difference: $w_{ij}$, the weight of assigning $x^{(i)}$ to $\\mu^{(j)}$\n",
    "* hard: $w_{ij} \\in \\{0, 1\\}$, binary\n",
    "* soft: $w_{ij} \\in [0, 1]$, continuous"
   ]
  },
  {
   "cell_type": "markdown",
   "metadata": {
    "slideshow": {
     "slide_type": "subslide"
    }
   },
   "source": [
    "### Objective\n",
    "\n",
    "$\\mathbf{X}$: samples\n",
    "\n",
    "$\\mathbf{U}$: cluster centers\n",
    "\n",
    "$w_{ij}$: the weight of assigning $x^{(i)}$ to $\\mu^{(j)}$\n",
    "\n",
    "$$\n",
    "\\begin{align}\n",
    "w_{ij} =\n",
    "\\left[ \\sum_{p=1}^{k} \\left( \\frac{\\| x^{(i)} - \\mu^{(j)}\\|_2}{\\| x^{(i)} - \\mu^{(p)} \\|_2} \\right)^{\\frac{2}{m-1}} \\right]^{-1}\n",
    "\\end{align}\n",
    "$$\n",
    "\n",
    "For example, if $k = 3$:\n",
    "$$\n",
    "\\begin{align}\n",
    "w_{ij} = \n",
    "\\left[\n",
    "\\left( \\frac{\\| x^{(i)} - \\mu^{(j)}\\|_2}{\\| x^{(i)} - \\mu^{(1)} \\|_2} \\right)^{\\frac{2}{m-1}}\n",
    "+\n",
    "\\left( \\frac{\\| x^{(i)} - \\mu^{(j)}\\|_2}{\\| x^{(i)} - \\mu^{(2)} \\|_2} \\right)^{\\frac{2}{m-1}}\n",
    "+\n",
    "\\left( \\frac{\\| x^{(i)} - \\mu^{(j)}\\|_2}{\\| x^{(i)} - \\mu^{(3)} \\|_2} \\right)^{\\frac{2}{m-1}}\n",
    "\\right]^{-1}\n",
    "\\end{align}\n",
    "$$\n",
    "\n",
    "$m$: degree of fuzziness\n",
    "* $m \\in [1, \\infty)$\n",
    "* $m = 1$: hard clustering\n",
    "* $m > 1$: soft clustering, larger $m$ indicates fuzzier membership\n",
    "\n",
    "$$\n",
    "\\begin{align}\n",
    "E\\left(\\mathbf{X} , \\mathbf{U} \\right)\n",
    "&=\n",
    "\\sum_i \\sum_j w^m_{ij} \\|x^{(i)} - \\mu^{(j)}\\|_2^2\n",
    "\\end{align}\n",
    "$$\n",
    "\n",
    "### Constraints\n",
    "$$\n",
    "\\begin{align}\n",
    "\\sum_j w_{ij} &= 1\n",
    "\\end{align}\n",
    "$$\n",
    "\n",
    "Hard clustering - each sample can be assigned to one cluster\n",
    "$$\n",
    "\\begin{align}\n",
    "w_{ij} \\in \\{0,  1\\}\n",
    "\\end{align}\n",
    "$$\n",
    "\n",
    "Soft clustering - no additional constraint aside from $[0, 1]$ and the sum to 1 above (probability)"
   ]
  },
  {
   "cell_type": "markdown",
   "metadata": {
    "slideshow": {
     "slide_type": "fragment"
    }
   },
   "source": [
    "### Example\n",
    "\n",
    "For 3 clusters\n",
    "\n",
    "#### Hard clustering:\n",
    "$\n",
    "w = \n",
    "\\begin{pmatrix}\n",
    "0 \\\\\n",
    "1 \\\\\n",
    "0\n",
    "\\end{pmatrix}\n",
    "$\n",
    "\n",
    "Read: sample belongs to cluster 2\n",
    "\n",
    "#### Soft clustering:\n",
    "$\n",
    "w = \n",
    "\\begin{pmatrix}\n",
    "0.10 \\\\\n",
    "0.85 \\\\\n",
    "0.05\n",
    "\\end{pmatrix}\n",
    "$\n",
    "\n",
    "Read: sample is mostly like to belong to cluster 2 with probability $0.85$, but also some chances of belonging to other clusters."
   ]
  },
  {
   "cell_type": "markdown",
   "metadata": {
    "slideshow": {
     "slide_type": "subslide"
    }
   },
   "source": [
    "## Fuzzy clustering algorithm\n",
    "\n",
    "* Initialization: pick (e.g. randomly) $k$ centroids $\\mathbf{U} = \\{\\mu^{(j)}\\}, j \\in \\{1, \\cdots, k \\}$ from $\\mathbf{X}$ as initial cluster centers \n",
    "\n",
    "* Voronoi: \n",
    "$$\n",
    "\\begin{align}\n",
    "w_{ij} =\n",
    "\\left[ \\sum_{p=1}^{k} \\left( \\frac{\\| x^{(i)} - \\mu^{(j)}\\|_2}{\\| x^{(i)} - \\mu^{(p)} \\|_2} \\right)^{\\frac{2}{m-1}} \\right]^{-1}\n",
    "\\end{align}\n",
    "$$\n",
    "\n",
    "* Centroid:\n",
    "$$\n",
    "\\begin{align}\n",
    "\\mu^{(j)} =\n",
    "\\frac{\\sum_i w^m_{ij} x^{(i)}}{ \\sum_i w^m_{ij}}\n",
    "\\end{align}\n",
    "$$\n",
    "\n",
    "* Repeat the Vornoi and centroid steps until the cluster assignments do not change much or a maximum number of iterations is reached\n",
    "\n",
    "Note that when $m=1$, the above reduces to hard clustering.\n",
    "\n",
    "What is the effect of $m$ on the Voronoi step?\n",
    "* $m = 1$\n",
    "* $m = \\infty$\n",
    "* $m \\in (1, \\infty)$"
   ]
  },
  {
   "cell_type": "markdown",
   "metadata": {
    "slideshow": {
     "slide_type": "fragment"
    }
   },
   "source": [
    "\n",
    "For example, if $k = 3$:\n",
    "$$\n",
    "\\begin{align}\n",
    "w_{ij} = \n",
    "\\left[\n",
    "\\left( \\frac{\\| x^{(i)} - \\mu^{(j)}\\|_2}{\\| x^{(i)} - \\mu^{(1)} \\|_2} \\right)^{\\frac{2}{m-1}}\n",
    "+\n",
    "\\left( \\frac{\\| x^{(i)} - \\mu^{(j)}\\|_2}{\\| x^{(i)} - \\mu^{(2)} \\|_2} \\right)^{\\frac{2}{m-1}}\n",
    "+\n",
    "\\left( \\frac{\\| x^{(i)} - \\mu^{(j)}\\|_2}{\\| x^{(i)} - \\mu^{(3)} \\|_2} \\right)^{\\frac{2}{m-1}}\n",
    "\\right]^{-1}\n",
    "\\end{align}\n",
    "$$\n",
    "\n",
    "Let's say\n",
    "\\begin{align}\n",
    "\\| x^{(i)} - \\mu^{(1)} \\|_2 &= 1\n",
    "\\\\\n",
    "\\| x^{(i)} - \\mu^{(2)} \\|_2 &= 2\n",
    "\\\\\n",
    "\\| x^{(i)} - \\mu^{(3)} \\|_2 &= 3\n",
    "\\end{align}"
   ]
  },
  {
   "cell_type": "markdown",
   "metadata": {
    "slideshow": {
     "slide_type": "fragment"
    }
   },
   "source": [
    "Then\n",
    "$$\n",
    "\\begin{align}\n",
    "w_{i1} &= \n",
    "\\left[ \n",
    "\\left( \\frac{1}{1} \\right)^{\\frac{2}{m-1}} \n",
    "+\n",
    "\\left( \\frac{1}{2} \\right)^{\\frac{2}{m-1}} \n",
    "+\n",
    "\\left( \\frac{1}{3} \\right)^{\\frac{2}{m-1}} \n",
    "\\right]^{-1}\n",
    "\\\\\n",
    "w_{i2} &= \n",
    "\\left[ \n",
    "\\left( \\frac{2}{1} \\right)^{\\frac{2}{m-1}} \n",
    "+\n",
    "\\left( \\frac{2}{2} \\right)^{\\frac{2}{m-1}} \n",
    "+\n",
    "\\left( \\frac{2}{3} \\right)^{\\frac{2}{m-1}} \n",
    "\\right]^{-1}\n",
    "\\\\\n",
    "w_{i3} &= \n",
    "\\left[ \n",
    "\\left( \\frac{3}{1} \\right)^{\\frac{2}{m-1}} \n",
    "+\n",
    "\\left( \\frac{3}{2} \\right)^{\\frac{2}{m-1}} \n",
    "+\n",
    "\\left( \\frac{3}{3} \\right)^{\\frac{2}{m-1}} \n",
    "\\right]^{-1}\n",
    "\\end{align}\n",
    "$$"
   ]
  },
  {
   "cell_type": "markdown",
   "metadata": {
    "slideshow": {
     "slide_type": "fragment"
    }
   },
   "source": [
    "When $m = 1$, hard clustering:\n",
    "$$\n",
    "\\begin{align}\n",
    "w_{i1} &= 1\n",
    "\\\\\n",
    "w_{i2} &= 0\n",
    "\\\\\n",
    "w_{i3} &= 0\n",
    "\\end{align}\n",
    "$$"
   ]
  },
  {
   "cell_type": "markdown",
   "metadata": {
    "slideshow": {
     "slide_type": "fragment"
    }
   },
   "source": [
    "When $m = \\infty$, equal fuzzy clustering:\n",
    "$$\n",
    "\\begin{align}\n",
    "w_{i1} &= \\frac{1}{3}\n",
    "\\\\\n",
    "w_{i2} &= \\frac{1}{3}\n",
    "\\\\\n",
    "w_{i3} &= \\frac{1}{3}\n",
    "\\end{align}\n",
    "$$"
   ]
  },
  {
   "cell_type": "markdown",
   "metadata": {
    "slideshow": {
     "slide_type": "slide"
    }
   },
   "source": [
    "# Using the elbow method to find the optimal number of clusters \n",
    "\n",
    "The number of clusters is a hyper-parameter\n",
    "\n",
    "How to select it?\n",
    "\n",
    "How to evaluate our model in general?\n",
    "* This is unsupervised learning, so no ground truth data to compare against "
   ]
  },
  {
   "cell_type": "markdown",
   "metadata": {
    "slideshow": {
     "slide_type": "subslide"
    }
   },
   "source": [
    "## Solution\n",
    "\n",
    "Run multiple experiments with different number of clusters\n",
    "\n",
    "Measure the energy function, plot it against different number of clusters\n",
    "$$\n",
    "\\begin{align}\n",
    "E\\left(\\mathbf{X} , \\mathbf{U} \\right)\n",
    "&=\n",
    "\\sum_i \\sum_j w^m_{ij} d^2\\left(x^{(i)}, \\mu^{(j)}\\right)\n",
    "\\end{align}\n",
    "$$\n"
   ]
  },
  {
   "cell_type": "markdown",
   "metadata": {
    "slideshow": {
     "slide_type": "subslide"
    }
   },
   "source": [
    "## Example"
   ]
  },
  {
   "cell_type": "code",
   "execution_count": 12,
   "metadata": {
    "collapsed": false,
    "slideshow": {
     "slide_type": "fragment"
    }
   },
   "outputs": [
    {
     "name": "stdout",
     "output_type": "stream",
     "text": [
      "Distortion: 76.30\n"
     ]
    }
   ],
   "source": [
    "# the inertia_ class variable stores the energy value\n",
    "print('Distortion: %.2f' % km.inertia_)"
   ]
  },
  {
   "cell_type": "code",
   "execution_count": 13,
   "metadata": {
    "collapsed": false,
    "slideshow": {
     "slide_type": "fragment"
    }
   },
   "outputs": [
    {
     "data": {
      "image/png": "[encoded data removed]",
      "text/plain": [
       "<matplotlib.figure.Figure at 0x1e200108d68>"
      ]
     },
     "metadata": {},
     "output_type": "display_data"
    }
   ],
   "source": [
    "distortions = []\n",
    "for i in range(1, 11):\n",
    "    km = KMeans(n_clusters=i, \n",
    "                init='k-means++', \n",
    "                n_init=10, \n",
    "                max_iter=300, \n",
    "                random_state=0)\n",
    "    km.fit(X)\n",
    "    distortions.append(km.inertia_)\n",
    "plt.plot(range(1, 11), distortions, marker='o')\n",
    "plt.xlabel('Number of clusters')\n",
    "plt.ylabel('Distortion')\n",
    "plt.tight_layout()\n",
    "#plt.savefig('./figures/elbow.png', dpi=300)\n",
    "plt.show()"
   ]
  },
  {
   "cell_type": "markdown",
   "metadata": {
    "slideshow": {
     "slide_type": "fragment"
    }
   },
   "source": [
    "Intuitively, we want to pick the \"elbow\" part, which achieves best bang for the buck.\n",
    "* diminishing returns after that elbow/knee point"
   ]
  },
  {
   "cell_type": "markdown",
   "metadata": {
    "slideshow": {
     "slide_type": "slide"
    }
   },
   "source": [
    "## Quantifying the quality of clustering  via silhouette plots\n",
    "\n",
    "Silhouette analysis\n",
    "* another way to evaluate the quality of clustering\n",
    "\n",
    "Basic idea\n",
    "* coherence of each cluster\n",
    "* separation from other clusters\n",
    "* high coherence, high separation means good clustering"
   ]
  },
  {
   "cell_type": "markdown",
   "metadata": {
    "slideshow": {
     "slide_type": "subslide"
    }
   },
   "source": [
    "### Silhouette for clustering\n",
    "\n",
    "https://en.wikipedia.org/wiki/Silhouette_(clustering)\n",
    "\n",
    "For each data sample $x^{(i)} \\in \\mathbf{X}$, we can compute its average distance to a cluster $\\mathbf{C} \\in \\{\\mathbf{C}_1, \\cdots, \\mathbf{C}_k\\}$:\n",
    "\n",
    "$$\n",
    "\\begin{align}\n",
    "\\overline{d}\\left(x^{(i)}, \\mathbf{C} \\right)\n",
    "&=\n",
    "\\frac{1}{\\| \\mathbf{C} \\|} \\sum_{x^{(j)} \\in \\mathbf{C}} d\\left(x^{(i)}, x^{(j)}\\right)\n",
    "\\end{align}\n",
    "$$\n",
    ", where $d$ is the distance measure (e.g. $L_2$) used for clustering.\n",
    "\n",
    "We usually skip $x^{(i)}$ comparing against itself, so if $x^{(i)} \\in \\mathbf{C}$, we have\n",
    "\n",
    "$$\n",
    "\\begin{align}\n",
    "\\overline{d}\\left(x^{(i)}, \\mathbf{C} \\right)\n",
    "&=\n",
    "\\frac{1}{\\| \\mathbf{C} \\| - 1} \\sum_{x^{(j)} \\in \\mathbf{C}, j \\neq i} d\\left(x^{(i)}, x^{(j)}\\right)\n",
    "\\end{align}\n",
    "$$"
   ]
  },
  {
   "cell_type": "markdown",
   "metadata": {
    "slideshow": {
     "slide_type": "fragment"
    }
   },
   "source": [
    "#### Coherence\n",
    "$a(i)$: the average distance (dis-similarity) to all other samples within the same cluster:\n",
    "\n",
    "$$\n",
    "\\begin{align}\n",
    "a(i) &= \\overline{d}\\left(x^{(i)}, \\mathbf{C} \\right)\n",
    "\\\\\n",
    "x^{(i)} &\\in \\mathbf{C}\n",
    "\\end{align}\n",
    "$$"
   ]
  },
  {
   "cell_type": "markdown",
   "metadata": {
    "slideshow": {
     "slide_type": "fragment"
    }
   },
   "source": [
    "#### Separation\n",
    "$b(i)$: the average distance to the nearest cluster that $x^{(i)}$ does not belong to:\n",
    "\n",
    "$$\n",
    "\\begin{align}\n",
    "b(i) &= \\min \\overline{d}\\left(x^{(i)}, \\mathbf{C} \\right)\n",
    "\\\\\n",
    "\\mathbf{C} &\\in \\{\\mathbf{C}_1, \\cdots, \\mathbf{C}_k \\}\n",
    "\\\\\n",
    "x^{(i)} &\\not\\in \\mathbf{C}\n",
    "\\end{align}\n",
    "$$"
   ]
  },
  {
   "cell_type": "markdown",
   "metadata": {
    "slideshow": {
     "slide_type": "fragment"
    }
   },
   "source": [
    "#### Silhouette\n",
    "\n",
    "$s(i)$: the silhouette value of $x^{(i)}$:\n",
    "$$\n",
    "\\begin{align}\n",
    "s(i) = \\frac{b(i) - a(i)}{\\max\\left(b(i), a(i)\\right)}\n",
    "\\end{align}\n",
    "$$\n",
    "\n",
    "Which can be spelled out as:\n",
    "$$\n",
    "\\begin{align}\n",
    "s(i) =\n",
    "\\begin{cases}\n",
    "1 - \\frac{a(i)}{b(i)}, & a(i) < b(i)\n",
    "\\\\\n",
    "0, &  a(i) = b(i)\n",
    "\\\\\n",
    "\\frac{b(i)}{a(i)} -1, &  a(i) > b(i)\n",
    "\\end{cases}\n",
    "\\end{align}\n",
    "$$\n",
    "\n",
    "So\n",
    "$\n",
    "-1 \\leq s(i) \\leq 1\n",
    "$\n",
    "* $s(i)$ is close to 1 if we have $a(i) \\ll b(i)$ $\\rightarrow$ good clustering\n",
    "* $s(i)$ is close to $-1$ $\\rightarrow$ bad clustering"
   ]
  },
  {
   "cell_type": "markdown",
   "metadata": {
    "slideshow": {
     "slide_type": "fragment"
    }
   },
   "source": [
    "#### Silhouette profile\n",
    "\n",
    "Plot silhouette values $s(i)$ for all samples $x^{(i)} \\in \\mathbf{X}$ to visualize the clustering quality."
   ]
  },
  {
   "cell_type": "markdown",
   "metadata": {
    "slideshow": {
     "slide_type": "subslide"
    }
   },
   "source": [
    "### Example"
   ]
  },
  {
   "cell_type": "code",
   "execution_count": 14,
   "metadata": {
    "collapsed": false,
    "slideshow": {
     "slide_type": "fragment"
    }
   },
   "outputs": [
    {
     "data": {
      "image/png": "[encoded data removed]",
      "text/plain": [
       "<matplotlib.figure.Figure at 0x1e20029fa20>"
      ]
     },
     "metadata": {},
     "output_type": "display_data"
    }
   ],
   "source": [
    "import numpy as np\n",
    "from matplotlib import cm\n",
    "from sklearn.metrics import silhouette_samples\n",
    "\n",
    "# clustering\n",
    "km = KMeans(n_clusters=3, \n",
    "            init='k-means++', \n",
    "            n_init=10, \n",
    "            max_iter=300,\n",
    "            tol=1e-04,\n",
    "            random_state=0)\n",
    "y_km = km.fit_predict(X)\n",
    "\n",
    "cluster_labels = np.unique(y_km)\n",
    "n_clusters = cluster_labels.shape[0]\n",
    "\n",
    "# the main part is just one functional call\n",
    "silhouette_vals = silhouette_samples(X, y_km, metric='euclidean')\n",
    "\n",
    "# visualization\n",
    "y_ax_lower, y_ax_upper = 0, 0\n",
    "yticks = []\n",
    "for i, c in enumerate(cluster_labels):\n",
    "    c_silhouette_vals = silhouette_vals[y_km == c]\n",
    "    c_silhouette_vals.sort()\n",
    "    y_ax_upper += len(c_silhouette_vals)\n",
    "    color = cm.jet(float(i) / n_clusters)\n",
    "    plt.barh(range(y_ax_lower, y_ax_upper), c_silhouette_vals, height=1.0, \n",
    "             edgecolor='none', color=color)\n",
    "\n",
    "    yticks.append((y_ax_lower + y_ax_upper) / 2.)\n",
    "    # y_ax_lower += len(c_silhouette_vals)\n",
    "    y_ax_lower = y_ax_upper # Li-yi: clearer meaning\n",
    "    \n",
    "silhouette_avg = np.mean(silhouette_vals)\n",
    "plt.axvline(silhouette_avg, color=\"red\", linestyle=\"--\") \n",
    "\n",
    "plt.yticks(yticks, cluster_labels + 1)\n",
    "plt.ylabel('Cluster')\n",
    "plt.xlabel('Silhouette coefficient')\n",
    "\n",
    "plt.tight_layout()\n",
    "# plt.savefig('./figures/silhouette.png', dpi=300)\n",
    "plt.show()"
   ]
  },
  {
   "cell_type": "markdown",
   "metadata": {
    "slideshow": {
     "slide_type": "fragment"
    }
   },
   "source": [
    "We want:  \n",
    "* the average silhouette value to be high\n",
    "* each cluster to have good silhouette distribution\n",
    "\n",
    "Comparison to \"bad\" clustering:"
   ]
  },
  {
   "cell_type": "code",
   "execution_count": 15,
   "metadata": {
    "collapsed": false,
    "slideshow": {
     "slide_type": "fragment"
    }
   },
   "outputs": [
    {
     "data": {
      "image/png": "[encoded data removed]",
      "text/plain": [
       "<matplotlib.figure.Figure at 0x1e200171048>"
      ]
     },
     "metadata": {},
     "output_type": "display_data"
    }
   ],
   "source": [
    "km = KMeans(n_clusters=2,\n",
    "            init='k-means++',\n",
    "            n_init=10,\n",
    "            max_iter=300,\n",
    "            tol=1e-04,\n",
    "            random_state=0)\n",
    "y_km = km.fit_predict(X)\n",
    "\n",
    "plot_decision_regions(X, y_km, km)\n",
    "plot_clusters(X, y_km, km.cluster_centers_)\n",
    "plt.legend()\n",
    "plt.grid()\n",
    "plt.tight_layout()\n",
    "plt.show()"
   ]
  },
  {
   "cell_type": "code",
   "execution_count": 16,
   "metadata": {
    "collapsed": false,
    "slideshow": {
     "slide_type": "fragment"
    }
   },
   "outputs": [
    {
     "data": {
      "image/png": "[encoded data removed]",
      "text/plain": [
       "<matplotlib.figure.Figure at 0x1e2008f2160>"
      ]
     },
     "metadata": {},
     "output_type": "display_data"
    }
   ],
   "source": [
    "cluster_labels = np.unique(y_km)\n",
    "n_clusters = cluster_labels.shape[0]\n",
    "silhouette_vals = silhouette_samples(X, y_km, metric='euclidean')\n",
    "y_ax_lower, y_ax_upper = 0, 0\n",
    "yticks = []\n",
    "for i, c in enumerate(cluster_labels):\n",
    "    c_silhouette_vals = silhouette_vals[y_km == c]\n",
    "    c_silhouette_vals.sort()\n",
    "    y_ax_upper += len(c_silhouette_vals)\n",
    "    color = cm.jet(float(i) / n_clusters)\n",
    "    plt.barh(range(y_ax_lower, y_ax_upper), c_silhouette_vals, height=1.0, \n",
    "             edgecolor='none', color=color)\n",
    "\n",
    "    yticks.append((y_ax_lower + y_ax_upper) / 2.)\n",
    "    y_ax_lower += len(c_silhouette_vals)\n",
    "    \n",
    "silhouette_avg = np.mean(silhouette_vals)\n",
    "plt.axvline(silhouette_avg, color=\"red\", linestyle=\"--\") \n",
    "\n",
    "plt.yticks(yticks, cluster_labels + 1)\n",
    "plt.ylabel('Cluster')\n",
    "plt.xlabel('Silhouette coefficient')\n",
    "\n",
    "plt.tight_layout()\n",
    "# plt.savefig('./figures/silhouette_bad.png', dpi=300)\n",
    "plt.show()"
   ]
  },
  {
   "cell_type": "markdown",
   "metadata": {
    "slideshow": {
     "slide_type": "fragment"
    }
   },
   "source": [
    "Notice \n",
    "* the low average silhouette value\n",
    "* one cluster has bad silhouette distribution compared to another"
   ]
  },
  {
   "cell_type": "markdown",
   "metadata": {
    "slideshow": {
     "slide_type": "slide"
    }
   },
   "source": [
    "# Organizing clusters as a hierarchical tree\n",
    "\n",
    "Instead of compute $k$ clusters at once, we can compute them gradually in a hierarchy.\n",
    "\n",
    "We can decide $k$ later after having the complete hierarchy.\n",
    "\n",
    "<img src=\"./images/hierarchical_clustering.svg\" width=50% align=right>\n",
    "\n",
    "## Construction\n",
    "\n",
    "Two ways to do this:\n",
    "\n",
    "### Bottom-to-top (agglomerative)\n",
    "Start with each sample as one cluster, and merge the similar ones until we have one cluster (that contains all samples)\n",
    "\n",
    "* red $\\bigcup$ green $\\rightarrow$ yellow\n",
    "* yellow $\\bigcup$ blue $\\rightarrow$ cyan\n",
    "\n",
    "### Top-to-bottom (divisive)\n",
    "Start with a single cluster (that contains all samples), divide the most diverse one until each sample is in a separate cluster.\n",
    "\n",
    "* cyan $\\rightarrow$ yellow $\\bigcup$ blue\n",
    "* yellow $\\rightarrow$ red $\\bigcup$ green"
   ]
  },
  {
   "cell_type": "markdown",
   "metadata": {
    "slideshow": {
     "slide_type": "fragment"
    }
   },
   "source": [
    "## Criteria\n",
    "\n",
    "How to decide the similarity between two clusters?\n",
    "\n",
    "### Single linkage\n",
    "\n",
    "Measure the shortest distance between pairs of samples from the two clusters.\n",
    "\n",
    "### Complete linkage\n",
    "\n",
    "Measure the longest distance between pairs of samples from the two clusters.\n",
    "\n",
    "<img src='./images/11_05.png' width=80%> "
   ]
  },
  {
   "cell_type": "markdown",
   "metadata": {
    "collapsed": false,
    "slideshow": {
     "slide_type": "skip"
    }
   },
   "source": [
    "### Other possibilities\n",
    "\n",
    "Ward's linkage: MSE of clusters\n",
    "$$\n",
    "\\begin{align}\n",
    "E\\left(\\mathbf{X} , \\mathbf{U} \\right)\n",
    "&=\n",
    "\\sum_i \\sum_j w^m_{ij} d\\left(x^{(i)}, \\mu^{(j)}\\right)\n",
    "\\end{align}\n",
    "$$"
   ]
  },
  {
   "cell_type": "markdown",
   "metadata": {
    "slideshow": {
     "slide_type": "skip"
    }
   },
   "source": [
    "## Agglomerative clustering\n"
   ]
  },
  {
   "cell_type": "markdown",
   "metadata": {
    "slideshow": {
     "slide_type": "subslide"
    }
   },
   "source": [
    "## Example"
   ]
  },
  {
   "cell_type": "code",
   "execution_count": 17,
   "metadata": {
    "collapsed": false,
    "slideshow": {
     "slide_type": "fragment"
    }
   },
   "outputs": [
    {
     "data": {
      "text/html": [
       "<div>\n",
       "<table border=\"1\" class=\"dataframe\">\n",
       "  <thead>\n",
       "    <tr style=\"text-align: right;\">\n",
       "      <th></th>\n",
       "      <th>X</th>\n",
       "      <th>Y</th>\n",
       "      <th>Z</th>\n",
       "    </tr>\n",
       "  </thead>\n",
       "  <tbody>\n",
       "    <tr>\n",
       "      <th>ID_0</th>\n",
       "      <td>6.964692</td>\n",
       "      <td>2.861393</td>\n",
       "      <td>2.268515</td>\n",
       "    </tr>\n",
       "    <tr>\n",
       "      <th>ID_1</th>\n",
       "      <td>5.513148</td>\n",
       "      <td>7.194690</td>\n",
       "      <td>4.231065</td>\n",
       "    </tr>\n",
       "    <tr>\n",
       "      <th>ID_2</th>\n",
       "      <td>9.807642</td>\n",
       "      <td>6.848297</td>\n",
       "      <td>4.809319</td>\n",
       "    </tr>\n",
       "    <tr>\n",
       "      <th>ID_3</th>\n",
       "      <td>3.921175</td>\n",
       "      <td>3.431780</td>\n",
       "      <td>7.290497</td>\n",
       "    </tr>\n",
       "    <tr>\n",
       "      <th>ID_4</th>\n",
       "      <td>4.385722</td>\n",
       "      <td>0.596779</td>\n",
       "      <td>3.980443</td>\n",
       "    </tr>\n",
       "  </tbody>\n",
       "</table>\n",
       "</div>"
      ],
      "text/plain": [
       "             X         Y         Z\n",
       "ID_0  6.964692  2.861393  2.268515\n",
       "ID_1  5.513148  7.194690  4.231065\n",
       "ID_2  9.807642  6.848297  4.809319\n",
       "ID_3  3.921175  3.431780  7.290497\n",
       "ID_4  4.385722  0.596779  3.980443"
      ]
     },
     "execution_count": 17,
     "metadata": {},
     "output_type": "execute_result"
    }
   ],
   "source": [
    "import pandas as pd\n",
    "import numpy as np\n",
    "\n",
    "np.random.seed(123)\n",
    "\n",
    "variables = ['X', 'Y', 'Z']\n",
    "labels = ['ID_0', 'ID_1', 'ID_2', 'ID_3', 'ID_4']\n",
    "\n",
    "X = np.random.random_sample([5, 3])*10\n",
    "df = pd.DataFrame(X, columns=variables, index=labels)\n",
    "df"
   ]
  },
  {
   "cell_type": "markdown",
   "metadata": {
    "slideshow": {
     "slide_type": "subslide"
    }
   },
   "source": [
    "## Performing hierarchical clustering on a distance matrix"
   ]
  },
  {
   "cell_type": "code",
   "execution_count": 18,
   "metadata": {
    "collapsed": false,
    "slideshow": {
     "slide_type": "fragment"
    }
   },
   "outputs": [
    {
     "data": {
      "text/html": [
       "<div>\n",
       "<table border=\"1\" class=\"dataframe\">\n",
       "  <thead>\n",
       "    <tr style=\"text-align: right;\">\n",
       "      <th></th>\n",
       "      <th>ID_0</th>\n",
       "      <th>ID_1</th>\n",
       "      <th>ID_2</th>\n",
       "      <th>ID_3</th>\n",
       "      <th>ID_4</th>\n",
       "    </tr>\n",
       "  </thead>\n",
       "  <tbody>\n",
       "    <tr>\n",
       "      <th>ID_0</th>\n",
       "      <td>0.000000</td>\n",
       "      <td>4.973534</td>\n",
       "      <td>5.516653</td>\n",
       "      <td>5.899885</td>\n",
       "      <td>3.835396</td>\n",
       "    </tr>\n",
       "    <tr>\n",
       "      <th>ID_1</th>\n",
       "      <td>4.973534</td>\n",
       "      <td>0.000000</td>\n",
       "      <td>4.347073</td>\n",
       "      <td>5.104311</td>\n",
       "      <td>6.698233</td>\n",
       "    </tr>\n",
       "    <tr>\n",
       "      <th>ID_2</th>\n",
       "      <td>5.516653</td>\n",
       "      <td>4.347073</td>\n",
       "      <td>0.000000</td>\n",
       "      <td>7.244262</td>\n",
       "      <td>8.316594</td>\n",
       "    </tr>\n",
       "    <tr>\n",
       "      <th>ID_3</th>\n",
       "      <td>5.899885</td>\n",
       "      <td>5.104311</td>\n",
       "      <td>7.244262</td>\n",
       "      <td>0.000000</td>\n",
       "      <td>4.382864</td>\n",
       "    </tr>\n",
       "    <tr>\n",
       "      <th>ID_4</th>\n",
       "      <td>3.835396</td>\n",
       "      <td>6.698233</td>\n",
       "      <td>8.316594</td>\n",
       "      <td>4.382864</td>\n",
       "      <td>0.000000</td>\n",
       "    </tr>\n",
       "  </tbody>\n",
       "</table>\n",
       "</div>"
      ],
      "text/plain": [
       "          ID_0      ID_1      ID_2      ID_3      ID_4\n",
       "ID_0  0.000000  4.973534  5.516653  5.899885  3.835396\n",
       "ID_1  4.973534  0.000000  4.347073  5.104311  6.698233\n",
       "ID_2  5.516653  4.347073  0.000000  7.244262  8.316594\n",
       "ID_3  5.899885  5.104311  7.244262  0.000000  4.382864\n",
       "ID_4  3.835396  6.698233  8.316594  4.382864  0.000000"
      ]
     },
     "execution_count": 18,
     "metadata": {},
     "output_type": "execute_result"
    }
   ],
   "source": [
    "from scipy.spatial.distance import pdist, squareform\n",
    "\n",
    "row_dist = pd.DataFrame(squareform(pdist(df, metric='euclidean')),\n",
    "                        columns=labels,\n",
    "                        index=labels)\n",
    "row_dist"
   ]
  },
  {
   "cell_type": "markdown",
   "metadata": {
    "slideshow": {
     "slide_type": "subslide"
    }
   },
   "source": [
    "## Linkage usage\n",
    "\n",
    "Either one of these will do:\n",
    "* pass a condensed distance matrix (upper triangular) from the `pdist` function\n",
    "* pass the \"original\" data array and define the `metric='euclidean'` argument in `linkage`\n",
    "\n",
    "However, we should not pass the squareform distance matrix, which would yield different distance values although the overall clustering could be the same."
   ]
  },
  {
   "cell_type": "code",
   "execution_count": 19,
   "metadata": {
    "collapsed": false,
    "slideshow": {
     "slide_type": "skip"
    }
   },
   "outputs": [
    {
     "name": "stdout",
     "output_type": "stream",
     "text": [
      "Help on function linkage in module scipy.cluster.hierarchy:\n",
      "\n",
      "linkage(y, method='single', metric='euclidean')\n",
      "    Performs hierarchical/agglomerative clustering on the condensed\n",
      "    distance matrix y.\n",
      "    \n",
      "    y must be a :math:`{n \\choose 2}` sized\n",
      "    vector where n is the number of original observations paired\n",
      "    in the distance matrix. The behavior of this function is very\n",
      "    similar to the MATLAB linkage function.\n",
      "    \n",
      "    An :math:`(n-1)` by 4  matrix ``Z`` is returned. At the\n",
      "    :math:`i`-th iteration, clusters with indices ``Z[i, 0]`` and\n",
      "    ``Z[i, 1]`` are combined to form cluster :math:`n + i`. A\n",
      "    cluster with an index less than :math:`n` corresponds to one of\n",
      "    the :math:`n` original observations. The distance between\n",
      "    clusters ``Z[i, 0]`` and ``Z[i, 1]`` is given by ``Z[i, 2]``. The\n",
      "    fourth value ``Z[i, 3]`` represents the number of original\n",
      "    observations in the newly formed cluster.\n",
      "    \n",
      "    The following linkage methods are used to compute the distance\n",
      "    :math:`d(s, t)` between two clusters :math:`s` and\n",
      "    :math:`t`. The algorithm begins with a forest of clusters that\n",
      "    have yet to be used in the hierarchy being formed. When two\n",
      "    clusters :math:`s` and :math:`t` from this forest are combined\n",
      "    into a single cluster :math:`u`, :math:`s` and :math:`t` are\n",
      "    removed from the forest, and :math:`u` is added to the\n",
      "    forest. When only one cluster remains in the forest, the algorithm\n",
      "    stops, and this cluster becomes the root.\n",
      "    \n",
      "    A distance matrix is maintained at each iteration. The ``d[i,j]``\n",
      "    entry corresponds to the distance between cluster :math:`i` and\n",
      "    :math:`j` in the original forest.\n",
      "    \n",
      "    At each iteration, the algorithm must update the distance matrix\n",
      "    to reflect the distance of the newly formed cluster u with the\n",
      "    remaining clusters in the forest.\n",
      "    \n",
      "    Suppose there are :math:`|u|` original observations\n",
      "    :math:`u[0], \\ldots, u[|u|-1]` in cluster :math:`u` and\n",
      "    :math:`|v|` original objects :math:`v[0], \\ldots, v[|v|-1]` in\n",
      "    cluster :math:`v`. Recall :math:`s` and :math:`t` are\n",
      "    combined to form cluster :math:`u`. Let :math:`v` be any\n",
      "    remaining cluster in the forest that is not :math:`u`.\n",
      "    \n",
      "    The following are methods for calculating the distance between the\n",
      "    newly formed cluster :math:`u` and each :math:`v`.\n",
      "    \n",
      "      * method='single' assigns\n",
      "    \n",
      "        .. math::\n",
      "           d(u,v) = \\min(dist(u[i],v[j]))\n",
      "    \n",
      "        for all points :math:`i` in cluster :math:`u` and\n",
      "        :math:`j` in cluster :math:`v`. This is also known as the\n",
      "        Nearest Point Algorithm.\n",
      "    \n",
      "      * method='complete' assigns\n",
      "    \n",
      "        .. math::\n",
      "           d(u, v) = \\max(dist(u[i],v[j]))\n",
      "    \n",
      "        for all points :math:`i` in cluster u and :math:`j` in\n",
      "        cluster :math:`v`. This is also known by the Farthest Point\n",
      "        Algorithm or Voor Hees Algorithm.\n",
      "    \n",
      "      * method='average' assigns\n",
      "    \n",
      "        .. math::\n",
      "           d(u,v) = \\sum_{ij} \\frac{d(u[i], v[j])}\n",
      "                                   {(|u|*|v|)}\n",
      "    \n",
      "        for all points :math:`i` and :math:`j` where :math:`|u|`\n",
      "        and :math:`|v|` are the cardinalities of clusters :math:`u`\n",
      "        and :math:`v`, respectively. This is also called the UPGMA\n",
      "        algorithm.\n",
      "    \n",
      "      * method='weighted' assigns\n",
      "    \n",
      "        .. math::\n",
      "           d(u,v) = (dist(s,v) + dist(t,v))/2\n",
      "    \n",
      "        where cluster u was formed with cluster s and t and v\n",
      "        is a remaining cluster in the forest. (also called WPGMA)\n",
      "    \n",
      "      * method='centroid' assigns\n",
      "    \n",
      "        .. math::\n",
      "           dist(s,t) = ||c_s-c_t||_2\n",
      "    \n",
      "        where :math:`c_s` and :math:`c_t` are the centroids of\n",
      "        clusters :math:`s` and :math:`t`, respectively. When two\n",
      "        clusters :math:`s` and :math:`t` are combined into a new\n",
      "        cluster :math:`u`, the new centroid is computed over all the\n",
      "        original objects in clusters :math:`s` and :math:`t`. The\n",
      "        distance then becomes the Euclidean distance between the\n",
      "        centroid of :math:`u` and the centroid of a remaining cluster\n",
      "        :math:`v` in the forest. This is also known as the UPGMC\n",
      "        algorithm.\n",
      "    \n",
      "      * method='median' assigns :math:`d(s,t)` like the ``centroid``\n",
      "        method. When two clusters :math:`s` and :math:`t` are combined\n",
      "        into a new cluster :math:`u`, the average of centroids s and t\n",
      "        give the new centroid :math:`u`. This is also known as the\n",
      "        WPGMC algorithm.\n",
      "    \n",
      "      * method='ward' uses the Ward variance minimization algorithm.\n",
      "        The new entry :math:`d(u,v)` is computed as follows,\n",
      "    \n",
      "        .. math::\n",
      "    \n",
      "           d(u,v) = \\sqrt{\\frac{|v|+|s|}\n",
      "                               {T}d(v,s)^2\n",
      "                        + \\frac{|v|+|t|}\n",
      "                               {T}d(v,t)^2\n",
      "                        - \\frac{|v|}\n",
      "                               {T}d(s,t)^2}\n",
      "    \n",
      "        where :math:`u` is the newly joined cluster consisting of\n",
      "        clusters :math:`s` and :math:`t`, :math:`v` is an unused\n",
      "        cluster in the forest, :math:`T=|v|+|s|+|t|`, and\n",
      "        :math:`|*|` is the cardinality of its argument. This is also\n",
      "        known as the incremental algorithm.\n",
      "    \n",
      "    Warning: When the minimum distance pair in the forest is chosen, there\n",
      "    may be two or more pairs with the same minimum distance. This\n",
      "    implementation may chose a different minimum than the MATLAB\n",
      "    version.\n",
      "    \n",
      "    Parameters\n",
      "    ----------\n",
      "    y : ndarray\n",
      "        A condensed or redundant distance matrix. A condensed distance matrix\n",
      "        is a flat array containing the upper triangular of the distance matrix.\n",
      "        This is the form that ``pdist`` returns. Alternatively, a collection of\n",
      "        :math:`m` observation vectors in n dimensions may be passed as an\n",
      "        :math:`m` by :math:`n` array.\n",
      "    method : str, optional\n",
      "        The linkage algorithm to use. See the ``Linkage Methods`` section below\n",
      "        for full descriptions.\n",
      "    metric : str or function, optional\n",
      "        The distance metric to use in the case that y is a collection of\n",
      "        observation vectors; ignored otherwise. See the ``distance.pdist``\n",
      "        function for a list of valid distance metrics. A custom distance\n",
      "        function can also be used. See the ``distance.pdist`` function for\n",
      "        details.\n",
      "    \n",
      "    Returns\n",
      "    -------\n",
      "    Z : ndarray\n",
      "        The hierarchical clustering encoded as a linkage matrix.\n",
      "\n"
     ]
    }
   ],
   "source": [
    "from scipy.cluster.hierarchy import linkage\n",
    "\n",
    "help(linkage)"
   ]
  },
  {
   "cell_type": "code",
   "execution_count": 20,
   "metadata": {
    "collapsed": false,
    "slideshow": {
     "slide_type": "fragment"
    }
   },
   "outputs": [
    {
     "data": {
      "text/html": [
       "<div>\n",
       "<table border=\"1\" class=\"dataframe\">\n",
       "  <thead>\n",
       "    <tr style=\"text-align: right;\">\n",
       "      <th></th>\n",
       "      <th>row label 1</th>\n",
       "      <th>row label 2</th>\n",
       "      <th>distance</th>\n",
       "      <th>no. of items in clust.</th>\n",
       "    </tr>\n",
       "  </thead>\n",
       "  <tbody>\n",
       "    <tr>\n",
       "      <th>cluster 1</th>\n",
       "      <td>0.0</td>\n",
       "      <td>4.0</td>\n",
       "      <td>6.521973</td>\n",
       "      <td>2.0</td>\n",
       "    </tr>\n",
       "    <tr>\n",
       "      <th>cluster 2</th>\n",
       "      <td>1.0</td>\n",
       "      <td>2.0</td>\n",
       "      <td>6.729603</td>\n",
       "      <td>2.0</td>\n",
       "    </tr>\n",
       "    <tr>\n",
       "      <th>cluster 3</th>\n",
       "      <td>3.0</td>\n",
       "      <td>5.0</td>\n",
       "      <td>8.539247</td>\n",
       "      <td>3.0</td>\n",
       "    </tr>\n",
       "    <tr>\n",
       "      <th>cluster 4</th>\n",
       "      <td>6.0</td>\n",
       "      <td>7.0</td>\n",
       "      <td>12.444824</td>\n",
       "      <td>5.0</td>\n",
       "    </tr>\n",
       "  </tbody>\n",
       "</table>\n",
       "</div>"
      ],
      "text/plain": [
       "           row label 1  row label 2   distance  no. of items in clust.\n",
       "cluster 1          0.0          4.0   6.521973                     2.0\n",
       "cluster 2          1.0          2.0   6.729603                     2.0\n",
       "cluster 3          3.0          5.0   8.539247                     3.0\n",
       "cluster 4          6.0          7.0  12.444824                     5.0"
      ]
     },
     "execution_count": 20,
     "metadata": {},
     "output_type": "execute_result"
    }
   ],
   "source": [
    "# 1. incorrect approach: Squareform distance matrix\n",
    "\n",
    "from scipy.cluster.hierarchy import linkage\n",
    "\n",
    "row_clusters = linkage(row_dist, method='complete', metric='euclidean')\n",
    "pd.DataFrame(row_clusters,\n",
    "             columns=['row label 1', 'row label 2',\n",
    "                      'distance', 'no. of items in clust.'],\n",
    "             index=['cluster %d' % (i + 1)\n",
    "                    for i in range(row_clusters.shape[0])])"
   ]
  },
  {
   "cell_type": "code",
   "execution_count": 21,
   "metadata": {
    "collapsed": false,
    "scrolled": true,
    "slideshow": {
     "slide_type": "fragment"
    }
   },
   "outputs": [
    {
     "data": {
      "text/html": [
       "<div>\n",
       "<table border=\"1\" class=\"dataframe\">\n",
       "  <thead>\n",
       "    <tr style=\"text-align: right;\">\n",
       "      <th></th>\n",
       "      <th>row label 1</th>\n",
       "      <th>row label 2</th>\n",
       "      <th>distance</th>\n",
       "      <th>no. of items in clust.</th>\n",
       "    </tr>\n",
       "  </thead>\n",
       "  <tbody>\n",
       "    <tr>\n",
       "      <th>cluster 1</th>\n",
       "      <td>0.0</td>\n",
       "      <td>4.0</td>\n",
       "      <td>3.835396</td>\n",
       "      <td>2.0</td>\n",
       "    </tr>\n",
       "    <tr>\n",
       "      <th>cluster 2</th>\n",
       "      <td>1.0</td>\n",
       "      <td>2.0</td>\n",
       "      <td>4.347073</td>\n",
       "      <td>2.0</td>\n",
       "    </tr>\n",
       "    <tr>\n",
       "      <th>cluster 3</th>\n",
       "      <td>3.0</td>\n",
       "      <td>5.0</td>\n",
       "      <td>5.899885</td>\n",
       "      <td>3.0</td>\n",
       "    </tr>\n",
       "    <tr>\n",
       "      <th>cluster 4</th>\n",
       "      <td>6.0</td>\n",
       "      <td>7.0</td>\n",
       "      <td>8.316594</td>\n",
       "      <td>5.0</td>\n",
       "    </tr>\n",
       "  </tbody>\n",
       "</table>\n",
       "</div>"
      ],
      "text/plain": [
       "           row label 1  row label 2  distance  no. of items in clust.\n",
       "cluster 1          0.0          4.0  3.835396                     2.0\n",
       "cluster 2          1.0          2.0  4.347073                     2.0\n",
       "cluster 3          3.0          5.0  5.899885                     3.0\n",
       "cluster 4          6.0          7.0  8.316594                     5.0"
      ]
     },
     "execution_count": 21,
     "metadata": {},
     "output_type": "execute_result"
    }
   ],
   "source": [
    "# 2. correct approach: Condensed distance matrix\n",
    "\n",
    "row_clusters = linkage(pdist(df, metric='euclidean'), method='complete')\n",
    "pd.DataFrame(row_clusters,\n",
    "             columns=['row label 1', 'row label 2',\n",
    "                      'distance', 'no. of items in clust.'],\n",
    "             index=['cluster %d' % (i + 1) \n",
    "                    for i in range(row_clusters.shape[0])])"
   ]
  },
  {
   "cell_type": "code",
   "execution_count": 22,
   "metadata": {
    "collapsed": false,
    "slideshow": {
     "slide_type": "fragment"
    }
   },
   "outputs": [
    {
     "data": {
      "text/html": [
       "<div>\n",
       "<table border=\"1\" class=\"dataframe\">\n",
       "  <thead>\n",
       "    <tr style=\"text-align: right;\">\n",
       "      <th></th>\n",
       "      <th>row label 1</th>\n",
       "      <th>row label 2</th>\n",
       "      <th>distance</th>\n",
       "      <th>no. of items in clust.</th>\n",
       "    </tr>\n",
       "  </thead>\n",
       "  <tbody>\n",
       "    <tr>\n",
       "      <th>cluster 1</th>\n",
       "      <td>0.0</td>\n",
       "      <td>4.0</td>\n",
       "      <td>3.835396</td>\n",
       "      <td>2.0</td>\n",
       "    </tr>\n",
       "    <tr>\n",
       "      <th>cluster 2</th>\n",
       "      <td>1.0</td>\n",
       "      <td>2.0</td>\n",
       "      <td>4.347073</td>\n",
       "      <td>2.0</td>\n",
       "    </tr>\n",
       "    <tr>\n",
       "      <th>cluster 3</th>\n",
       "      <td>3.0</td>\n",
       "      <td>5.0</td>\n",
       "      <td>5.899885</td>\n",
       "      <td>3.0</td>\n",
       "    </tr>\n",
       "    <tr>\n",
       "      <th>cluster 4</th>\n",
       "      <td>6.0</td>\n",
       "      <td>7.0</td>\n",
       "      <td>8.316594</td>\n",
       "      <td>5.0</td>\n",
       "    </tr>\n",
       "  </tbody>\n",
       "</table>\n",
       "</div>"
      ],
      "text/plain": [
       "           row label 1  row label 2  distance  no. of items in clust.\n",
       "cluster 1          0.0          4.0  3.835396                     2.0\n",
       "cluster 2          1.0          2.0  4.347073                     2.0\n",
       "cluster 3          3.0          5.0  5.899885                     3.0\n",
       "cluster 4          6.0          7.0  8.316594                     5.0"
      ]
     },
     "execution_count": 22,
     "metadata": {},
     "output_type": "execute_result"
    }
   ],
   "source": [
    "# 3. correct approach: Input sample matrix\n",
    "\n",
    "row_clusters = linkage(df.values, method='complete', metric='euclidean')\n",
    "pd.DataFrame(row_clusters,\n",
    "             columns=['row label 1', 'row label 2',\n",
    "                      'distance', 'no. of items in clust.'],\n",
    "             index=['cluster %d' % (i + 1)\n",
    "                    for i in range(row_clusters.shape[0])])"
   ]
  },
  {
   "cell_type": "markdown",
   "metadata": {
    "slideshow": {
     "slide_type": "fragment"
    }
   },
   "source": [
    "The ids in each row correspond to a leaf (data sample) or an internal node (cluster).\n",
    "\n",
    "In this example, id 0 to 4 correspond to the original 5 samples.\n",
    "\n",
    "Clusters are formed bottom up with id from 5 and increasing up.\n",
    "\n",
    "The dendrogam can also help visualization."
   ]
  },
  {
   "cell_type": "code",
   "execution_count": 23,
   "metadata": {
    "collapsed": false,
    "slideshow": {
     "slide_type": "fragment"
    }
   },
   "outputs": [
    {
     "data": {
      "image/png": "[encoded data removed]",
      "text/plain": [
       "<matplotlib.figure.Figure at 0x1e20055d5f8>"
      ]
     },
     "metadata": {},
     "output_type": "display_data"
    }
   ],
   "source": [
    "from scipy.cluster.hierarchy import dendrogram\n",
    "\n",
    "# make dendrogram black (part 1/2)\n",
    "# from scipy.cluster.hierarchy import set_link_color_palette\n",
    "# set_link_color_palette(['black'])\n",
    "\n",
    "row_dendr = dendrogram(row_clusters, \n",
    "                       labels=labels,\n",
    "                       # make dendrogram black (part 2/2)\n",
    "                       # color_threshold=np.inf\n",
    "                       )\n",
    "plt.tight_layout()\n",
    "plt.ylabel('Euclidean distance')\n",
    "#plt.savefig('./figures/dendrogram.png', dpi=300, \n",
    "#            bbox_inches='tight')\n",
    "plt.show()"
   ]
  },
  {
   "cell_type": "markdown",
   "metadata": {
    "slideshow": {
     "slide_type": "subslide"
    }
   },
   "source": [
    "## Attaching dendrograms to a heat map"
   ]
  },
  {
   "cell_type": "code",
   "execution_count": 24,
   "metadata": {
    "collapsed": false,
    "slideshow": {
     "slide_type": "fragment"
    }
   },
   "outputs": [
    {
     "data": {
      "image/png": "[encoded data removed]",
      "text/plain": [
       "<matplotlib.figure.Figure at 0x1e20016f1d0>"
      ]
     },
     "metadata": {},
     "output_type": "display_data"
    }
   ],
   "source": [
    "# plot row dendrogram\n",
    "fig = plt.figure(figsize=(8, 8), facecolor='white')\n",
    "axd = fig.add_axes([0.09, 0.1, 0.2, 0.6])\n",
    "\n",
    "# note: for matplotlib < v1.5.1, please use orientation='right'\n",
    "row_dendr = dendrogram(row_clusters, orientation='left')\n",
    "\n",
    "# reorder data with respect to clustering\n",
    "df_rowclust = df.ix[row_dendr['leaves'][::-1]]\n",
    "axd.set_xticks([])\n",
    "axd.set_yticks([])\n",
    "\n",
    "# remove axes spines from dendrogram\n",
    "for i in axd.spines.values():\n",
    "        i.set_visible(False)\n",
    "\n",
    "# plot heatmap\n",
    "axm = fig.add_axes([0.23, 0.1, 0.6, 0.6])  # x-pos, y-pos, width, height\n",
    "cax = axm.matshow(df_rowclust, interpolation='nearest', cmap='hot_r')\n",
    "fig.colorbar(cax)\n",
    "axm.set_xticklabels([''] + list(df_rowclust.columns))\n",
    "axm.set_yticklabels([''] + list(df_rowclust.index))\n",
    "\n",
    "# plt.savefig('./figures/heatmap.png', dpi=300)\n",
    "plt.show()"
   ]
  },
  {
   "cell_type": "markdown",
   "metadata": {
    "slideshow": {
     "slide_type": "fragment"
    }
   },
   "source": [
    "## Applying agglomerative clustering via scikit-learn\n",
    "\n",
    "As usual, coding in scikit-learn is pretty simple."
   ]
  },
  {
   "cell_type": "code",
   "execution_count": 25,
   "metadata": {
    "collapsed": false,
    "slideshow": {
     "slide_type": "fragment"
    }
   },
   "outputs": [
    {
     "name": "stdout",
     "output_type": "stream",
     "text": [
      "Cluster labels: [0 1 1 0 0]\n",
      "[[0 4]\n",
      " [1 2]\n",
      " [3 5]\n",
      " [6 7]]\n"
     ]
    }
   ],
   "source": [
    "from sklearn.cluster import AgglomerativeClustering\n",
    "\n",
    "ac = AgglomerativeClustering(n_clusters=2, # number of final clusters \n",
    "                             affinity='euclidean', \n",
    "                             linkage='complete')\n",
    "labels = ac.fit_predict(X)\n",
    "print('Cluster labels: %s' % labels)\n",
    "print(ac.children_)"
   ]
  },
  {
   "cell_type": "markdown",
   "metadata": {
    "slideshow": {
     "slide_type": "fragment"
    }
   },
   "source": [
    "The clustering result is consistent with the dendogram above."
   ]
  },
  {
   "cell_type": "markdown",
   "metadata": {
    "slideshow": {
     "slide_type": "slide"
    }
   },
   "source": [
    "# Locating regions of high density via DBSCAN\n",
    "\n",
    "Density-based Spatial Clustering of Applications with Noise\n",
    "\n",
    "A form of clustering different from k-means and hierarhical clustering\n",
    "* more resilient to noise\n",
    "* allows general cluster shapes\n",
    "\n",
    "<img src='./images/11_11.png' width=70%> "
   ]
  },
  {
   "cell_type": "markdown",
   "metadata": {
    "slideshow": {
     "slide_type": "fragment"
    }
   },
   "source": [
    "https://youtu.be/5E097ZLE9Sg?t=1m35s"
   ]
  },
  {
   "cell_type": "code",
   "execution_count": 26,
   "metadata": {
    "collapsed": false,
    "slideshow": {
     "slide_type": "skip"
    }
   },
   "outputs": [
    {
     "data": {
      "image/jpeg": "[encoded data removed]",
      "text/html": [
       "\n",
       "        <iframe\n",
       "            width=\"400\"\n",
       "            height=\"300\"\n",
       "            src=\"https://www.youtube.com/embed/5E097ZLE9Sg\"\n",
       "            frameborder=\"0\"\n",
       "            allowfullscreen\n",
       "        ></iframe>\n",
       "        "
      ],
      "text/plain": [
       "<IPython.lib.display.YouTubeVideo at 0x1e27d535208>"
      ]
     },
     "execution_count": 26,
     "metadata": {},
     "output_type": "execute_result"
    }
   ],
   "source": [
    "from IPython.display import YouTubeVideo\n",
    "YouTubeVideo('5E097ZLE9Sg')"
   ]
  },
  {
   "cell_type": "markdown",
   "metadata": {
    "collapsed": false,
    "slideshow": {
     "slide_type": "fragment"
    }
   },
   "source": [
    "## Parameters\n",
    "\n",
    "* $\\epsilon$: neighborhood within radius $\\epsilon$ of each sample point\n",
    "* MinPts: minimum number of points within neighborhood to be considered as \"dense\" enough\n",
    "\n",
    "These two define sample density.\n",
    "\n",
    "## Definitions\n",
    "\n",
    "### Core point\n",
    "* at least MinPts of samples within radius $\\epsilon$\n",
    "\n",
    "### Border point\n",
    "* fewer than MinPts within radius $\\epsilon$\n",
    "* but within $\\epsilon$ of a core point\n",
    "\n",
    "### Noise point\n",
    "* everything else"
   ]
  },
  {
   "cell_type": "markdown",
   "metadata": {
    "slideshow": {
     "slide_type": "fragment"
    }
   },
   "source": [
    "## Algorithm\n",
    "\n",
    "Form a separate cluster for each core point or a connected group of core points.\n",
    "* Two core points are connected if they are within $\\epsilon$ from each other.\u001f\n",
    "\n",
    "Assign each border point to the cluster of its corresponding core point.\n",
    "\n",
    "Ignore noise points."
   ]
  },
  {
   "cell_type": "markdown",
   "metadata": {
    "slideshow": {
     "slide_type": "subslide"
    }
   },
   "source": [
    "## Example\n",
    "\n",
    "Comparing k-means, hierarchical, and density-based clustering."
   ]
  },
  {
   "cell_type": "code",
   "execution_count": 27,
   "metadata": {
    "collapsed": false,
    "slideshow": {
     "slide_type": "fragment"
    }
   },
   "outputs": [
    {
     "data": {
      "image/png": "[encoded data removed]",
      "text/plain": [
       "<matplotlib.figure.Figure at 0x1e2004bcd68>"
      ]
     },
     "metadata": {},
     "output_type": "display_data"
    }
   ],
   "source": [
    "from sklearn.datasets import make_moons\n",
    "\n",
    "X, y = make_moons(n_samples=200, noise=0.05, random_state=0)\n",
    "plt.scatter(X[:, 0], X[:, 1])\n",
    "plt.tight_layout()\n",
    "# plt.savefig('./figures/moons.png', dpi=300)\n",
    "plt.show()"
   ]
  },
  {
   "cell_type": "markdown",
   "metadata": {
    "slideshow": {
     "slide_type": "fragment"
    }
   },
   "source": [
    "K-means and hierarchical clustering:"
   ]
  },
  {
   "cell_type": "code",
   "execution_count": 28,
   "metadata": {
    "collapsed": false,
    "slideshow": {
     "slide_type": "fragment"
    }
   },
   "outputs": [
    {
     "data": {
      "image/png": "[encoded data removed]",
      "text/plain": [
       "<matplotlib.figure.Figure at 0x1e2003ee630>"
      ]
     },
     "metadata": {},
     "output_type": "display_data"
    }
   ],
   "source": [
    "f, (ax1, ax2) = plt.subplots(1, 2, figsize=(8, 3))\n",
    "\n",
    "km = KMeans(n_clusters=2, random_state=0)\n",
    "y_km = km.fit_predict(X)\n",
    "ax1.scatter(X[y_km == 0, 0], X[y_km == 0, 1],\n",
    "            c='lightblue', marker='o', s=40, label='cluster 1')\n",
    "ax1.scatter(X[y_km == 1, 0], X[y_km == 1, 1],\n",
    "            c='red', marker='s', s=40, label='cluster 2')\n",
    "ax1.set_title('K-means clustering')\n",
    "\n",
    "ac = AgglomerativeClustering(n_clusters=2,\n",
    "                             affinity='euclidean',\n",
    "                             linkage='complete')\n",
    "y_ac = ac.fit_predict(X)\n",
    "ax2.scatter(X[y_ac == 0, 0], X[y_ac == 0, 1], c='lightblue',\n",
    "            marker='o', s=40, label='cluster 1')\n",
    "ax2.scatter(X[y_ac == 1, 0], X[y_ac == 1, 1], c='red',\n",
    "            marker='s', s=40, label='cluster 2')\n",
    "ax2.set_title('Agglomerative clustering')\n",
    "\n",
    "plt.legend()\n",
    "plt.tight_layout()\n",
    "#plt.savefig('./figures/kmeans_and_ac.png', dpi=300)\n",
    "plt.show()"
   ]
  },
  {
   "cell_type": "markdown",
   "metadata": {
    "slideshow": {
     "slide_type": "fragment"
    }
   },
   "source": [
    "Intuitively, the two moons should form two separate clusters.\n",
    "\n",
    "But geometric distance of k-means and hierarchical clustering might group the wrong parts together.\n",
    "\n",
    "Density-based clustering considers the topology of the clusters:"
   ]
  },
  {
   "cell_type": "code",
   "execution_count": 29,
   "metadata": {
    "collapsed": false,
    "slideshow": {
     "slide_type": "fragment"
    }
   },
   "outputs": [
    {
     "data": {
      "image/png": "[encoded data removed]",
      "text/plain": [
       "<matplotlib.figure.Figure at 0x1e20012c860>"
      ]
     },
     "metadata": {},
     "output_type": "display_data"
    }
   ],
   "source": [
    "from sklearn.cluster import DBSCAN\n",
    "\n",
    "db = DBSCAN(eps=0.2, min_samples=5, metric='euclidean')\n",
    "y_db = db.fit_predict(X)\n",
    "plt.scatter(X[y_db == 0, 0], X[y_db == 0, 1],\n",
    "            c='lightblue', marker='o', s=40,\n",
    "            label='cluster 1')\n",
    "plt.scatter(X[y_db == 1, 0], X[y_db == 1, 1],\n",
    "            c='red', marker='s', s=40,\n",
    "            label='cluster 2')\n",
    "plt.legend()\n",
    "plt.tight_layout()\n",
    "#plt.savefig('./figures/moons_dbscan.png', dpi=300)\n",
    "plt.show()"
   ]
  },
  {
   "cell_type": "markdown",
   "metadata": {
    "slideshow": {
     "slide_type": "subslide"
    }
   },
   "source": [
    "## Disadvantages of density-based clustering\n",
    "\n",
    "Two hyper-parameters ($\\epsilon$ and MinPts) to tune\n",
    "* versus one $k$ for k-means and hierarhical clustering\n",
    "* aside from distance measure as another hyper parameter\n",
    "\n",
    "Does not have a predict() method\n",
    "* non-parametric, applies to the current dataset only"
   ]
  },
  {
   "cell_type": "code",
   "execution_count": 30,
   "metadata": {
    "collapsed": false,
    "slideshow": {
     "slide_type": "fragment"
    }
   },
   "outputs": [
    {
     "data": {
      "image/png": "[encoded data removed]",
      "text/plain": [
       "<matplotlib.figure.Figure at 0x1e20012c828>"
      ]
     },
     "metadata": {},
     "output_type": "display_data"
    },
    {
     "data": {
      "image/png": "[encoded data removed]",
      "text/plain": [
       "<matplotlib.figure.Figure at 0x1e200460048>"
      ]
     },
     "metadata": {},
     "output_type": "display_data"
    },
    {
     "data": {
      "image/png": "[encoded data removed]",
      "text/plain": [
       "<matplotlib.figure.Figure at 0x1e200216240>"
      ]
     },
     "metadata": {},
     "output_type": "display_data"
    }
   ],
   "source": [
    "from sklearn.cluster import DBSCAN\n",
    "\n",
    "eps_values = [0.1, 0.2, 0.5]\n",
    "\n",
    "for eps_value in eps_values:\n",
    "    db = DBSCAN(eps=eps_value, min_samples=5, metric='euclidean')\n",
    "    y_db = db.fit_predict(X)\n",
    "    plt.scatter(X[y_db == 0, 0], X[y_db == 0, 1],\n",
    "                c='lightblue', marker='o', s=40,\n",
    "                label='cluster 1')\n",
    "    plt.scatter(X[y_db == 1, 0], X[y_db == 1, 1],\n",
    "                c='red', marker='s', s=40,\n",
    "                label='cluster 2')\n",
    "    plt.legend()\n",
    "    plt.tight_layout()\n",
    "    plt.title('eps = ' + str(eps_value))\n",
    "    plt.show()"
   ]
  },
  {
   "cell_type": "markdown",
   "metadata": {
    "slideshow": {
     "slide_type": "slide"
    }
   },
   "source": [
    "# Summary\n",
    "\n",
    "Clustering is a non-supervised learning method.\n",
    "\n",
    "Three main types of clustering with different flavors and trade-offs:\n",
    "* k-means\n",
    "* hierarchical\n",
    "* density-based"
   ]
  },
  {
   "cell_type": "markdown",
   "metadata": {
    "slideshow": {
     "slide_type": "slide"
    }
   },
   "source": [
    "# Application to real dataset\n",
    "\n",
    "We have been using a synthetic data set (random blobs) so far.\n",
    "\n",
    "Let's try apply clustering to a read data set: handwritten digits.\n",
    "* each digit image came with a label for supervised learning\n",
    "* large datasets can be expensive to label manually\n",
    "\n",
    "Solution\n",
    "* cluster first\n",
    "* manually label a few samples within each cluster\n",
    "* propagate the labels for the rest\n",
    "\n",
    "Verification\n",
    "* use a dataset with labels\n",
    "* ignore the labels and just cluster\n",
    "* would the clusters agree with the labels?\n",
    "\n",
    "<a href=\"https://github.com/cazala/mnist/blob/master/README.md\">\n",
    "<img src=\"https://camo.githubusercontent.com/d440ac2eee1cb3ea33340a2c5f6f15a0878e9275/687474703a2f2f692e7974696d672e636f6d2f76692f3051493378675875422d512f687164656661756c742e6a7067\">\n",
    "</a>"
   ]
  },
  {
   "cell_type": "markdown",
   "metadata": {
    "slideshow": {
     "slide_type": "slide"
    }
   },
   "source": [
    "# Reading\n",
    "\n",
    "* PML Chapter 11\n",
    "* IML Chapter 7.3, 7.7, 7.8"
   ]
  }
 ],
 "metadata": {
  "anaconda-cloud": {},
  "celltoolbar": "Slideshow",
  "kernelspec": {
   "display_name": "Python [Root]",
   "language": "python",
   "name": "Python [Root]"
  },
  "language_info": {
   "codemirror_mode": {
    "name": "ipython",
    "version": 3
   },
   "file_extension": ".py",
   "mimetype": "text/x-python",
   "name": "python",
   "nbconvert_exporter": "python",
   "pygments_lexer": "ipython3",
   "version": "3.5.2"
  }
 },
 "nbformat": 4,
 "nbformat_minor": 0
}

{
 "cells": [
  {
   "cell_type": "markdown",
   "metadata": {
    "slideshow": {
     "slide_type": "slide"
    }
   },
   "source": [
    "# Bayesian estimation\n",
    "\n",
    "A core concept in machine learning and related fields\n",
    "\n",
    "Probablistic views and concepts\n",
    "\n",
    "Bayes classifiers"
   ]
  },
  {
   "cell_type": "markdown",
   "metadata": {
    "slideshow": {
     "slide_type": "subslide"
    }
   },
   "source": [
    "## Conditional probability\n",
    "\n",
    "$p(C \\, | \\, \\mathbf{x})$: the probability of event $C$ given $\\mathbf{x}$\n",
    "\n",
    "## Classification\n",
    "\n",
    "$C$ indicates class label\n",
    "\n",
    "From an observed data $\\mathbf{x}$ we want to predict probability of some event $C$.\n",
    "\n",
    "We take a probabilistic view because real world is often non-deterministic."
   ]
  },
  {
   "cell_type": "markdown",
   "metadata": {
    "slideshow": {
     "slide_type": "fragment"
    }
   },
   "source": [
    "### Iris example\n",
    "\n",
    "$C$: type of flower\n",
    "\n",
    "$\\mathbf{x}$: flower features\n",
    "\n",
    "<table style=\"width:100% border=0\">\n",
    "<tr>\n",
    "<td>\n",
    "<img src =\"https://upload.wikimedia.org/wikipedia/commons/thumb/5/56/Kosaciec_szczecinkowaty_Iris_setosa.jpg/220px-Kosaciec_szczecinkowaty_Iris_setosa.jpg\">\n",
    "</td>\n",
    "\n",
    "<td>\n",
    "<img src=\"https://upload.wikimedia.org/wikipedia/commons/thumb/4/41/Iris_versicolor_3.jpg/220px-Iris_versicolor_3.jpg\">\n",
    "</td>\n",
    "\n",
    "<td>\n",
    "<img src=\"https://upload.wikimedia.org/wikipedia/commons/thumb/9/9f/Iris_virginica.jpg/220px-Iris_virginica.jpg\">\n",
    "</td>\n",
    "</tr>\n",
    "\n",
    "<tr style=\"text-align=center\">\n",
    "<td>\n",
    "Setosa\n",
    "</td>\n",
    "<td>\n",
    "Versicolor\n",
    "</td>\n",
    "<td>\n",
    "Virginica\n",
    "</td>\n",
    "</tr>\n",
    "</table>\n"
   ]
  },
  {
   "cell_type": "markdown",
   "metadata": {
    "slideshow": {
     "slide_type": "fragment"
    }
   },
   "source": [
    "### Banking example\n",
    "\n",
    "A bank decides whether to make a loan to a customer:\n",
    "* $\n",
    "\\mathbf{x} = \n",
    "\\begin{pmatrix}\n",
    "x_1 \\\\\n",
    "x_2\n",
    "\\end{pmatrix}\n",
    "$\n",
    ": customer income $x_1$ and asset $x_2$\n",
    "\n",
    "* $C$: 0/1 if the customer is likely/unlike to pay back the loan\n",
    "\n",
    "Make a loan if $P(C = 1 \\, | \\, \\mathbf{x}) > 0.5$ or other threshold value"
   ]
  },
  {
   "cell_type": "markdown",
   "metadata": {
    "slideshow": {
     "slide_type": "fragment"
    }
   },
   "source": [
    "### Bayes' rule\n",
    "\n",
    "How to compute $P(C \\, | \\, \\mathbf{x})$, which is unknown?\n",
    "\n",
    "From conditional probability:\n",
    "$$\n",
    "\\begin{align}\n",
    "p\\left(C \\, | \\, \\mathbf{x}\\right)\n",
    "&= \n",
    "\\frac{p\\left(\\mathbf{x} \\, | \\, C\\right) p\\left(C\\right)}{p\\left(\\mathbf{x}\\right)}\n",
    "\\\\\n",
    "&\\propto\n",
    "p\\left(\\mathbf{x} \\, | \\, C\\right) p\\left(C\\right)\n",
    "\\end{align}\n",
    "$$\n",
    "\n",
    "* $p(C \\, | \\, \\mathbf{x})$: posterior\n",
    "<br>\n",
    "the likelihood of $C$ given $\\mathbf{x}$\n",
    "\n",
    "* $p(C)$: prior\n",
    "<br>\n",
    "how likely $C$ is before observing $\\mathbf{x}$\n",
    "\n",
    "* $p(\\mathbf{x} \\, | \\, C)$: likelihood\n",
    "<br>\n",
    "how likely $\\mathbf{x}$ is if it belongs to $C$\n",
    "\n",
    "* $p(\\mathbf{x})$: marginal/evidence\n",
    "<br>\n",
    "constant for given $\\mathbf{x}$ \n",
    "\n",
    "We can compute $P(C \\, | \\, \\mathbf{x})$ (posterior), if given $p(C)$ (prior) and $p(\\mathbf{x} \\, | \\, C)$ (likelihood)"
   ]
  },
  {
   "cell_type": "markdown",
   "metadata": {
    "slideshow": {
     "slide_type": "fragment"
    }
   },
   "source": [
    "### Rational decision making\n",
    "\n",
    "Humans tend to over focus on rare events\n",
    "\n",
    "For example:\n",
    "\n",
    "$\\mathbf{x}$: get killed\n",
    "\n",
    "$C$: cause of death\n",
    "* $C_{car}$: car crash\n",
    "* $C_{plane}$: airplane crash\n",
    "\n",
    "Plane crash is much more deadly than car crash:\n",
    "$\n",
    "p(\\mathbf{x} \\, | \\, C_{plane}) \\gg p(\\mathbf{x} \\, | \\, C_{car})\n",
    "$\n",
    "\n",
    "say\n",
    "$\n",
    "\\begin{align}\n",
    "p(\\mathbf{x} \\, | \\, C_{plane}) &= 1.0\n",
    "\\\\\n",
    "p(\\mathbf{x} \\, | \\, C_{car}) &= 0.1\n",
    "\\end{align}\n",
    "$\n",
    "\n",
    "But plane crash is much rarer than car crash:\n",
    "$\n",
    "p(C_{plane}) \\ll p(C_{car})\n",
    "$\n",
    "\n",
    "say\n",
    "$\n",
    "\\begin{align}\n",
    "p(C_{plane}) &= 0.001 \\\\\n",
    "p(C_{car}) &= 0.1\n",
    "\\end{align}\n",
    "$\n",
    "\n",
    "Multiply together:\n",
    "$\n",
    "\\begin{align}\n",
    "p(\\mathbf{x} \\, | \\, C_{plane}) p(C_{plane}) &= 0.001\n",
    "\\\\\n",
    "p(\\mathbf{x} \\, | \\, C_{car}) p(C_{car}) &= 0.01\n",
    "\\end{align}\n",
    "$\n",
    "\n",
    "Thus plane travel is actually safter than car travel:\n",
    "$\n",
    "p(C_{plane} \\, | \\, \\mathbf{x}) < p(C_{car} \\, | \\, \\mathbf{x})\n",
    "$"
   ]
  },
  {
   "cell_type": "markdown",
   "metadata": {
    "slideshow": {
     "slide_type": "subslide"
    }
   },
   "source": [
    "## Learning\n",
    "\n",
    "From training data $\\mathbf{X}$ we want to estimate model parameters $\\Theta$.\n",
    "\n",
    "$$\n",
    "\\begin{align}\n",
    "p\\left(\\Theta | \\mathbf{X}\\right)\n",
    "&= \n",
    "\\frac{p\\left(\\mathbf{X} | \\Theta\\right) p\\left(\\Theta\\right)}{p\\left(\\mathbf{X}\\right)}\n",
    "\\\\\n",
    "&\\propto\n",
    "p\\left(\\mathbf{X} | \\Theta\\right) p\\left(\\Theta\\right)\n",
    "\\end{align}\n",
    "$$\n",
    "\n",
    "* $p(\\Theta | \\mathbf{X})$: posterior\n",
    "<br>\n",
    "the likelihood of $\\Theta$ given $\\mathbf{X}$\n",
    "\n",
    "* $p(\\Theta)$: prior\n",
    "<br>\n",
    "how likely $\\Theta$ is before observing $\\mathbf{X}$\n",
    "\n",
    "* $p(\\mathbf{X} | \\Theta)$: likelihood\n",
    "<br>\n",
    "how likely $\\mathbf{X}$ is if the model parameters are $\\Theta$\n",
    "\n",
    "* $p(\\mathbf{X})$: marginal/evidence\n",
    "<br>\n",
    "constant for given $\\mathbf{X}$ "
   ]
  },
  {
   "cell_type": "markdown",
   "metadata": {
    "slideshow": {
     "slide_type": "subslide"
    }
   },
   "source": [
    "# Naive Bayes\n",
    "\n",
    "http://scikit-learn.org/stable/modules/naive_bayes.html"
   ]
  },
  {
   "cell_type": "code",
   "execution_count": 1,
   "metadata": {
    "collapsed": true,
    "slideshow": {
     "slide_type": "fragment"
    }
   },
   "outputs": [],
   "source": [
    "from sklearn import datasets\n",
    "import numpy as np\n",
    "\n",
    "iris = datasets.load_iris()\n",
    "\n",
    "X = iris.data[:, [2, 3]]\n",
    "y = iris.target"
   ]
  },
  {
   "cell_type": "code",
   "execution_count": 2,
   "metadata": {
    "collapsed": true,
    "slideshow": {
     "slide_type": "fragment"
    }
   },
   "outputs": [],
   "source": [
    "from sklearn.cross_validation import train_test_split\n",
    "\n",
    "# splitting data into 70% training and 30% test data: \n",
    "X_train, X_test, y_train, y_test = train_test_split(\n",
    "    X, y, test_size=0.3, random_state=0)"
   ]
  },
  {
   "cell_type": "code",
   "execution_count": 3,
   "metadata": {
    "collapsed": true,
    "slideshow": {
     "slide_type": "fragment"
    }
   },
   "outputs": [],
   "source": [
    "from sklearn.preprocessing import StandardScaler\n",
    "\n",
    "sc = StandardScaler()\n",
    "sc.fit(X_train)\n",
    "X_train_std = sc.transform(X_train)\n",
    "X_test_std = sc.transform(X_test)"
   ]
  },
  {
   "cell_type": "code",
   "execution_count": 4,
   "metadata": {
    "collapsed": true,
    "slideshow": {
     "slide_type": "fragment"
    }
   },
   "outputs": [],
   "source": [
    "from sklearn.metrics import accuracy_score"
   ]
  },
  {
   "cell_type": "code",
   "execution_count": 5,
   "metadata": {
    "collapsed": true,
    "slideshow": {
     "slide_type": "fragment"
    }
   },
   "outputs": [],
   "source": [
    "from sklearn.naive_bayes import GaussianNB\n",
    "\n",
    "gnb = GaussianNB()\n",
    "\n",
    "_ = gnb.fit(X_train_std, y_train)"
   ]
  },
  {
   "cell_type": "code",
   "execution_count": 6,
   "metadata": {
    "collapsed": false,
    "slideshow": {
     "slide_type": "fragment"
    }
   },
   "outputs": [
    {
     "name": "stdout",
     "output_type": "stream",
     "text": [
      "Accuracy: 0.98\n"
     ]
    }
   ],
   "source": [
    "y_pred = gnb.predict(X_test_std)\n",
    "\n",
    "print('Accuracy: %.2f' % accuracy_score(y_test, y_pred))"
   ]
  }
 ],
 "metadata": {
  "celltoolbar": "Slideshow",
  "kernelspec": {
   "display_name": "Python 3",
   "language": "python",
   "name": "python3"
  },
  "language_info": {
   "codemirror_mode": {
    "name": "ipython",
    "version": 3
   },
   "file_extension": ".py",
   "mimetype": "text/x-python",
   "name": "python",
   "nbconvert_exporter": "python",
   "pygments_lexer": "ipython3",
   "version": "3.5.1"
  }
 },
 "nbformat": 4,
 "nbformat_minor": 0
}

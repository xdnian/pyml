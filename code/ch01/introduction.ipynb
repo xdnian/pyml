{
 "cells": [
  {
   "cell_type": "markdown",
   "metadata": {
    "slideshow": {
     "slide_type": "slide"
    }
   },
   "source": [
    "# What is machine learning?\n",
    "\n",
    "The construction and study of algorithms/programs that can <b> learn from data </b>."
   ]
  },
  {
   "cell_type": "markdown",
   "metadata": {
    "slideshow": {
     "slide_type": "subslide"
    }
   },
   "source": [
    "<!-- \n",
    "![](../images/ml-overview.jpg?raw=true)\n",
    "-->\n",
    "![](./images/ml-overview.jpg?raw=true)"
   ]
  },
  {
   "cell_type": "markdown",
   "metadata": {
    "collapsed": true,
    "slideshow": {
     "slide_type": "slide"
    }
   },
   "source": [
    "# Traditional programming\n",
    "\n",
    "Steps: formulate problem $\\rightarrow$ design algorithm $\\rightarrow$ write program $\\rightarrow$ test\n",
    "\n",
    "The program remains invariant with different input data, unless the programmer manually changes it.\n"
   ]
  },
  {
   "cell_type": "markdown",
   "metadata": {
    "slideshow": {
     "slide_type": "subslide"
    }
   },
   "source": [
    "# Example: minimum finding\n",
    "\n",
    "Problem\n",
    "* Given a sequence of numbers, find the smallest one\n",
    "\n",
    "Algorithm\n",
    "* Record the currently minimum, initialized to $\\infty$\n",
    "* Loop through the numbers one by one\n",
    " * If this number $<$ minimum, minimum $\\leftarrow$ this number"
   ]
  },
  {
   "cell_type": "code",
   "execution_count": 1,
   "metadata": {
    "collapsed": false,
    "slideshow": {
     "slide_type": "fragment"
    }
   },
   "outputs": [
    {
     "name": "stdout",
     "output_type": "stream",
     "text": [
      "-9.2\n"
     ]
    }
   ],
   "source": [
    "# a simple python program to find minimum numbers\n",
    "# note that it remains the same regardless of the input data\n",
    "\n",
    "import math\n",
    "\n",
    "# function\n",
    "def findmin(numbers):\n",
    "    answer = math.inf\n",
    "    for value in numbers:\n",
    "        if value < answer:\n",
    "            answer = value\n",
    "    return answer\n",
    "\n",
    "# main\n",
    "test = [3.14, 2.2, 8, -9.2, 100000, 0]\n",
    "\n",
    "print(findmin(test))\n"
   ]
  },
  {
   "cell_type": "markdown",
   "metadata": {
    "slideshow": {
     "slide_type": "subslide"
    }
   },
   "source": [
    "# Example: sorting\n",
    "\n",
    "Problem\n",
    "* Given a sequence of numbers, order them from small to large\n",
    "\n",
    "Algorithm\n",
    "* Pick one number (randomly) as anchor\n",
    "* Go through each other number\n",
    " * If this number $\\leq$ anchor, append it to the left sequence\n",
    " * Otherwise, append it to the right sequence\n",
    "* Apply the same method recursively to the left and right sequences\n",
    "* Concatenate left sequence, anchor, right sequence"
   ]
  },
  {
   "cell_type": "code",
   "execution_count": 2,
   "metadata": {
    "collapsed": true,
    "slideshow": {
     "slide_type": "fragment"
    }
   },
   "outputs": [],
   "source": [
    "# code is left as an exercise"
   ]
  },
  {
   "cell_type": "markdown",
   "metadata": {
    "slideshow": {
     "slide_type": "slide"
    }
   },
   "source": [
    "# Machine learning\n",
    "\n",
    "The program can learn from data and change structure/behavior\n",
    "\n",
    "The programmer still writes (part of) the program, but it is not fixed\n",
    "\n",
    "[<img src=\"https://www.wired.com/wp-content/uploads/2016/03/GW20160133774-1024x768.jpg\">](http://www.wired.com/2016/03/final-game-alphago-lee-sedol-big-deal-humanity/)"
   ]
  },
  {
   "cell_type": "markdown",
   "metadata": {
    "slideshow": {
     "slide_type": "slide"
    }
   },
   "source": [
    "# Why learning from data\n",
    "\n",
    "Some algorithms/programs are impossible to design/code manually/explicitly\n"
   ]
  }
 ],
 "metadata": {
  "celltoolbar": "Slideshow",
  "kernelspec": {
   "display_name": "Python 3",
   "language": "python",
   "name": "python3"
  },
  "language_info": {
   "codemirror_mode": {
    "name": "ipython",
    "version": 3
   },
   "file_extension": ".py",
   "mimetype": "text/x-python",
   "name": "python",
   "nbconvert_exporter": "python",
   "pygments_lexer": "ipython3",
   "version": "3.5.1"
  }
 },
 "nbformat": 4,
 "nbformat_minor": 0
}

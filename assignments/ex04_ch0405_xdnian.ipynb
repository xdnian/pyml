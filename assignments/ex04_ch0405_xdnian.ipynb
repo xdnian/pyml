{
 "cells": [
  {
   "cell_type": "markdown",
   "metadata": {},
   "source": [
    "# Assignment 4 - dimensionality reduction\n",
    "\n",
    "This assignment focuses on two different ways for dimensionality reduction:\n",
    "* feature selection\n",
    "* feature extraction\n",
    "\n",
    "This assignment has weighting $1.5$."
   ]
  },
  {
   "cell_type": "markdown",
   "metadata": {
    "slideshow": {
     "slide_type": "slide"
    }
   },
   "source": [
    "# Sequential feature selection (50 points)\n",
    "\n",
    "There is a sample code in PML chapter 4 for sequential bardward selection (SBS) and its application to subsequent KNN classifier.\n",
    "\n",
    "Implement sequential forward selection (SFS), and compare it with sequential backward selection by plotting the accuracy versus the number of features.\n",
    "\n",
    "You can start with the sample code provided in the [slides](http://nbviewer.jupyter.org/github/1iyiwei/pyml/blob/master/code/ch04/ch04.ipynb).\n",
    "You can extend the existing SBS class to handle both forward and backward selection, or implement a separate class for SFS.\n",
    "Plot and compare the two accuracy versus number-of-features plots for SFS and SBS.\n",
    "\n",
    "Use the wine dataset as follows."
   ]
  },
  {
   "cell_type": "code",
   "execution_count": 1,
   "metadata": {
    "collapsed": true,
    "slideshow": {
     "slide_type": "fragment"
    }
   },
   "outputs": [],
   "source": [
    "import pandas as pd\n",
    "\n",
    "wine_data_remote = 'https://archive.ics.uci.edu/ml/machine-learning-databases/wine/wine.data'\n",
    "wine_data_local = '../datasets/wine/wine.data'\n",
    "\n",
    "df_wine = pd.read_csv(wine_data_remote,\n",
    "                      header=None)\n",
    "\n",
    "df_wine.columns = ['Class label', 'Alcohol', 'Malic acid', 'Ash',\n",
    "                   'Alcalinity of ash', 'Magnesium', 'Total phenols',\n",
    "                   'Flavanoids', 'Nonflavanoid phenols', 'Proanthocyanins',\n",
    "                   'Color intensity', 'Hue', 'OD280/OD315 of diluted wines',\n",
    "                   'Proline']\n",
    "\n",
    "#print('Class labels', np.unique(df_wine['Class label']))\n",
    "#df_wine.head()"
   ]
  },
  {
   "cell_type": "code",
   "execution_count": 2,
   "metadata": {
    "collapsed": false,
    "slideshow": {
     "slide_type": "fragment"
    }
   },
   "outputs": [],
   "source": [
    "from sklearn import __version__ as skv\n",
    "from distutils.version import LooseVersion as CheckVersion\n",
    "if CheckVersion(skv) < '0.18':\n",
    "    from sklearn.cross_validation import train_test_split\n",
    "else:\n",
    "    from sklearn.model_selection import train_test_split\n",
    "\n",
    "X, y = df_wine.iloc[:, 1:].values, df_wine.iloc[:, 0].values\n",
    "\n",
    "X_train, X_test, y_train, y_test = \\\n",
    "    train_test_split(X, y, test_size=0.3, random_state=0)"
   ]
  },
  {
   "cell_type": "code",
   "execution_count": 3,
   "metadata": {
    "collapsed": false,
    "slideshow": {
     "slide_type": "fragment"
    }
   },
   "outputs": [],
   "source": [
    "from sklearn.preprocessing import StandardScaler\n",
    "\n",
    "stdsc = StandardScaler()\n",
    "X_train_std = stdsc.fit_transform(X_train)\n",
    "X_test_std = stdsc.transform(X_test)"
   ]
  },
  {
   "cell_type": "markdown",
   "metadata": {
    "slideshow": {
     "slide_type": "subslide"
    }
   },
   "source": [
    "## Answer"
   ]
  },
  {
   "cell_type": "markdown",
   "metadata": {
    "slideshow": {
     "slide_type": "fragment"
    }
   },
   "source": [
    "Implement your sequential backward selection class here, either as a separate class or by extending the SBS class that can handle both forward and backward selection (via an input parameter to indicate the direction)."
   ]
  },
  {
   "cell_type": "code",
   "execution_count": 4,
   "metadata": {
    "collapsed": true
   },
   "outputs": [],
   "source": [
    "from sklearn.base import clone\n",
    "from itertools import combinations\n",
    "import numpy as np\n",
    "from sklearn.metrics import accuracy_score\n",
    "\n",
    "class SeqSearch():\n",
    "    def __init__(self, estimator, k_features, direction, scoring=accuracy_score,\n",
    "                 test_size=0.25, random_state=1):\n",
    "        self.scoring = scoring\n",
    "        self.estimator = clone(estimator)\n",
    "        self.k_features = k_features\n",
    "        self.test_size = test_size\n",
    "        self.random_state = random_state\n",
    "        if direction == \"SBS\" or direction == \"sbs\":\n",
    "            self.direction = 0\n",
    "        else:\n",
    "            self.direction = 1\n",
    "\n",
    "    def fit(self, X, y):\n",
    "        \n",
    "        X_train, X_test, y_train, y_test = \\\n",
    "            train_test_split(X, y, test_size=self.test_size,\n",
    "                             random_state=self.random_state)\n",
    "        \n",
    "        if self.direction == 0:\n",
    "            \n",
    "            dim = X_train.shape[1]\n",
    "            self.indices_ = tuple(range(dim))\n",
    "            self.subsets_ = [self.indices_]\n",
    "            score = self._calc_score(X_train, y_train, \n",
    "                                     X_test, y_test, self.indices_)\n",
    "            self.scores_ = [score]\n",
    "            \n",
    "            while dim > self.k_features:\n",
    "                scores = []\n",
    "                subsets = []\n",
    "\n",
    "                for p in combinations(self.indices_, r=dim - 1):\n",
    "                    score = self._calc_score(X_train, y_train, \n",
    "                                             X_test, y_test, p)\n",
    "                    scores.append(score)\n",
    "                    subsets.append(p)\n",
    "\n",
    "                best = np.argmax(scores)\n",
    "                self.indices_ = subsets[best]\n",
    "                self.subsets_.append(self.indices_)\n",
    "                dim -= 1\n",
    "\n",
    "                self.scores_.append(scores[best])\n",
    "            self.k_score_ = self.scores_[-1]\n",
    "            \n",
    "        else:\n",
    "            \n",
    "            dim = 0\n",
    "            self.indices_ = tuple(range(X_train.shape[1]))\n",
    "            self.subsets_ = []\n",
    "            self.scores_ = []\n",
    "            \n",
    "            while dim < self.k_features:\n",
    "                scores = []\n",
    "                subsets = []\n",
    "                new_features = []\n",
    "                if dim == 0:\n",
    "                    pre_subset = [];\n",
    "                else:\n",
    "                    pre_subset = self.subsets_[dim-1]\n",
    "\n",
    "                for p in combinations(self.indices_, r=1):\n",
    "                    subset = list(pre_subset)\n",
    "                    subset.append(p[0])\n",
    "                    score = self._calc_score(X_train, y_train, \n",
    "                                             X_test, y_test, tuple(subset))\n",
    "                    scores.append(score)\n",
    "                    subsets.append(subset)\n",
    "                    new_features.append(p[0])\n",
    "                \n",
    "                best = np.argmax(scores)\n",
    "                self.indices_ = tuple(x for x in self.indices_ if x != new_features[best])\n",
    "                self.subsets_.append(subsets[best])\n",
    "                dim += 1\n",
    "\n",
    "                self.scores_.append(scores[best])\n",
    "                \n",
    "        return self\n",
    "\n",
    "    def transform(self, X):\n",
    "        return X[:, self.indices_]\n",
    "\n",
    "    def _calc_score(self, X_train, y_train, X_test, y_test, indices):\n",
    "        self.estimator.fit(X_train[:, indices], y_train)\n",
    "        y_pred = self.estimator.predict(X_test[:, indices])\n",
    "        score = self.scoring(y_test, y_pred)\n",
    "        return score"
   ]
  },
  {
   "cell_type": "markdown",
   "metadata": {
    "slideshow": {
     "slide_type": "fragment"
    }
   },
   "source": [
    "Apply your sequential forward/backward selection code to the KNN classifier with the wine data set, and plot the accuracy versus number-of-features curves for both.\n",
    "Describe the similarities and differences you can find, e.g. \n",
    "* do the two methods agree on the optimal number of features?\n",
    "* do the two methods have similar accuracy scores for each number of features?\n",
    "* etc."
   ]
  },
  {
   "cell_type": "code",
   "execution_count": 5,
   "metadata": {
    "collapsed": false
   },
   "outputs": [
    {
     "data": {
      "image/png": "[encoded data removed]",
      "text/plain": [
       "<matplotlib.figure.Figure at 0x1faf02b5208>"
      ]
     },
     "metadata": {},
     "output_type": "display_data"
    },
    {
     "name": "stdout",
     "output_type": "stream",
     "text": [
      "Index(['Alcohol', 'Malic acid', 'Alcalinity of ash', 'Hue', 'Proline'], dtype='object')\n",
      "Index(['Color intensity', 'Alcohol', 'Total phenols'], dtype='object')\n"
     ]
    }
   ],
   "source": [
    "%matplotlib inline\n",
    "import matplotlib.pyplot as plt\n",
    "from sklearn.neighbors import KNeighborsClassifier\n",
    "\n",
    "knn = KNeighborsClassifier(n_neighbors=2)\n",
    "\n",
    "# selecting features\n",
    "sbs = SeqSearch(knn, k_features=1, direction=\"SBS\")\n",
    "sbs.fit(X_train_std, y_train)\n",
    "\n",
    "# selecting features\n",
    "sfs = SeqSearch(knn, k_features=13, direction=\"SFS\")\n",
    "sfs.fit(X_train_std, y_train)\n",
    "\n",
    "# plotting performance of feature subsets\n",
    "\n",
    "k_feat = [len(k) for k in sbs.subsets_]\n",
    "plt.plot(k_feat, sbs.scores_, marker='s', color='b', label=\"SBS\")\n",
    "\n",
    "k_feat = [len(k) for k in sfs.subsets_]\n",
    "plt.plot(k_feat, sfs.scores_, marker='o', color='r', label=\"SFS\")\n",
    "\n",
    "plt.ylim([0.7, 1.1])\n",
    "plt.ylabel('Accuracy')\n",
    "plt.xlabel('Number of features')\n",
    "plt.grid()\n",
    "plt.legend(loc='lower left')\n",
    "plt.tight_layout()\n",
    "# plt.savefig('./sbs.png', dpi=300)\n",
    "plt.show()\n",
    "\n",
    "print (df_wine.columns[1:][list(sbs.subsets_[8])])\n",
    "print (df_wine.columns[1:][list(sfs.subsets_[2])])"
   ]
  },
  {
   "cell_type": "markdown",
   "metadata": {},
   "source": [
    "### Findings\n",
    "In sample practice, SFS result has the optimal number of features as <b>3</b> and SBS has <b>5</b>, which means they will not always agree on the \"optimal number of features\", although they could be the same. Furthermore, the features chosed by selecting are very different from each other. \n",
    "\n",
    "SBS is worse than SFS at the end of its selecting (i.e. when number of features is small) and SFS is also worse than SBS near the end of its selecting (i.e. when number of features is near the total dimension). SFS is likely to increase more quickly when the optimal number of features is small, while SBS could be more unstable at the situation.\n",
    "\n",
    "However, it can be inferred from the graph that the two methods have similar accuracy scores for each number of features, and their trendency according to the number of features are similar too. For both methods, the optimal accuray scores can be very close to 1."
   ]
  },
  {
   "cell_type": "markdown",
   "metadata": {
    "slideshow": {
     "slide_type": "slide"
    }
   },
   "source": [
    "# PCA versus LDA (50 points)\n",
    "\n",
    "We have learned two different methods for feature extraction, PCA (unsupervised) and LDA (supervised).\n",
    "\n",
    "Under what circumstances would PCA and LDA produce very different results? \n",
    "\n",
    "Provide one example dataset in 2D, analyze it via PCA and LDA, and plot it with the PCA and LDA components.\n",
    "\n",
    "You can use code from the scikit-learn library."
   ]
  },
  {
   "cell_type": "markdown",
   "metadata": {
    "slideshow": {
     "slide_type": "subslide"
    }
   },
   "source": [
    "## Answer"
   ]
  },
  {
   "cell_type": "markdown",
   "metadata": {
    "slideshow": {
     "slide_type": "fragment"
    }
   },
   "source": [
    "Write code to produce your own dataset in 2D.\n",
    "You are free to design relative characteristics like the number of class, the number of samples for each class, as long as your dataset could be analyzed via PCA and LDA."
   ]
  },
  {
   "cell_type": "code",
   "execution_count": 6,
   "metadata": {
    "collapsed": true
   },
   "outputs": [],
   "source": [
    "label = [1]*50 + [2]*50 + [3]*50\n",
    "\n",
    "feature1 = [round(np.random.normal(2, 0.5),4) for i in range(50)]\n",
    "feature1 += [round(np.random.normal(5, 0.5),4) for i in range(50)]\n",
    "feature1 += [round(np.random.normal(8, 0.5),4) for i in range(50)]\n",
    "\n",
    "feature2 = [round(np.random.normal(3, 2),4) for i in range(150)]\n",
    "\n",
    "d = [label, feature1, feature2]\n",
    "d = np.transpose(d)\n",
    "\n",
    "df_test = pd.DataFrame(data=d)\n",
    "df_test.columns = ['label', 'feature1', 'feature2']\n",
    "# print (df_test)\n",
    "\n",
    "X, y = df_test.iloc[:, 1:].values, df_test.iloc[:, 0].values\n",
    "X_std = stdsc.fit_transform(X)"
   ]
  },
  {
   "cell_type": "markdown",
   "metadata": {
    "slideshow": {
     "slide_type": "fragment"
    }
   },
   "source": [
    "Plot your data set, with different classes in different marker colors and/or shapes.\n",
    "\n",
    "You can write your own plot code or use existing library plot code."
   ]
  },
  {
   "cell_type": "code",
   "execution_count": 7,
   "metadata": {
    "collapsed": false
   },
   "outputs": [
    {
     "data": {
      "image/png": "[encoded data removed]",
      "text/plain": [
       "<matplotlib.figure.Figure at 0x1faefd369e8>"
      ]
     },
     "metadata": {},
     "output_type": "display_data"
    }
   ],
   "source": [
    "%matplotlib inline\n",
    "index = range(1, 4)\n",
    "markers = ['s', 'x', 'o']\n",
    "colors = ['r', 'b', 'g']\n",
    "\n",
    "for i, m, c in zip(index, markers, colors):\n",
    "    plt.scatter(X_std[y == i, 0], X_std[y == i, 1], marker=m, color=c, label=int(i))\n",
    "    \n",
    "plt.xlabel('feature1')\n",
    "plt.ylabel('feature2')\n",
    "plt.legend(loc='lower left')\n",
    "plt.grid()\n",
    "plt.tight_layout()\n",
    "plt.show()"
   ]
  },
  {
   "cell_type": "markdown",
   "metadata": {
    "slideshow": {
     "slide_type": "fragment"
    }
   },
   "source": [
    "Apply your dataset through PCA and LDA, and plot the projected data using the same plot code.\n",
    "Explain the differences you notice, and how you manage to construct your dataset to achieve such differences.\n",
    "\n",
    "You can use the PCA and LDA code from the scikit-learn library."
   ]
  },
  {
   "cell_type": "code",
   "execution_count": 8,
   "metadata": {
    "collapsed": false
   },
   "outputs": [],
   "source": [
    "from matplotlib.colors import ListedColormap\n",
    "from sklearn.neighbors import KNeighborsClassifier\n",
    "\n",
    "knn = KNeighborsClassifier(p=2)\n",
    "\n",
    "def plot_decision_regions(X, y, classifier, resolution=0.02):\n",
    "\n",
    "    # setup marker generator and color map\n",
    "    markers = ('s', 'x', 'o', '^', 'v')\n",
    "    colors = ('red', 'blue', 'lightgreen', 'gray', 'cyan')\n",
    "    cmap = ListedColormap(colors[:len(np.unique(y))])\n",
    "\n",
    "    # plot the decision surface\n",
    "    x1_min, x1_max = X[:, 0].min() - 1, X[:, 0].max() + 1\n",
    "    x2_min, x2_max = X[:, 1].min() - 1, X[:, 1].max() + 1\n",
    "    xx1, xx2 = np.meshgrid(np.arange(x1_min, x1_max, resolution),\n",
    "                           np.arange(x2_min, x2_max, resolution))\n",
    "    Z = classifier.predict(np.array([xx1.ravel(), xx2.ravel()]).T)\n",
    "    Z = Z.reshape(xx1.shape)\n",
    "    plt.contourf(xx1, xx2, Z, alpha=0.4, cmap=cmap)\n",
    "    plt.xlim(xx1.min(), xx1.max())\n",
    "    plt.ylim(xx2.min(), xx2.max())\n",
    "\n",
    "    for idx, cl in enumerate(np.unique(y)):\n",
    "        plt.scatter(x=X[y == cl, 0], y=X[y == cl, 1],\n",
    "                    alpha=0.8, c=cmap(idx),\n",
    "                    marker=markers[idx], label=cl)"
   ]
  },
  {
   "cell_type": "code",
   "execution_count": 9,
   "metadata": {
    "collapsed": false
   },
   "outputs": [
    {
     "data": {
      "image/png": "[encoded data removed]",
      "text/plain": [
       "<matplotlib.figure.Figure at 0x1faf1e59a58>"
      ]
     },
     "metadata": {},
     "output_type": "display_data"
    }
   ],
   "source": [
    "from sklearn.decomposition import PCA\n",
    "\n",
    "pca = PCA(n_components=2)\n",
    "X_pca = pca.fit_transform(X_std)\n",
    "\n",
    "# for i, m, c in zip(index, markers, colors):\n",
    "#     plt.scatter(X_pca[y == i, 0], X_pca[y == i, 1], marker=m, color=c, label=int(i))\n",
    "\n",
    "knn.fit(X_pca, y)\n",
    "plot_decision_regions(X_pca, y, classifier=knn, resolution=0.01)\n",
    "    \n",
    "plt.xlabel('PCA 1')\n",
    "plt.ylabel('PCA 2')\n",
    "plt.legend(loc='lower left')\n",
    "plt.grid()\n",
    "plt.tight_layout()\n",
    "plt.show()"
   ]
  },
  {
   "cell_type": "code",
   "execution_count": 10,
   "metadata": {
    "collapsed": false
   },
   "outputs": [
    {
     "data": {
      "image/png": "[encoded data removed]",
      "text/plain": [
       "<matplotlib.figure.Figure at 0x1faf1ef4518>"
      ]
     },
     "metadata": {},
     "output_type": "display_data"
    }
   ],
   "source": [
    "from sklearn.discriminant_analysis import LinearDiscriminantAnalysis as LDA\n",
    "\n",
    "lda = LDA(n_components=2)\n",
    "X_lda = lda.fit_transform(X_std, y)\n",
    "\n",
    "# for i, m, c in zip(index, markers, colors):\n",
    "#     plt.scatter(X_lda[y == i, 0], X_lda[y == i, 1], marker=m, color=c, label=int(i))\n",
    "    \n",
    "knn.fit(X_lda, y)\n",
    "plot_decision_regions(X_lda, y, classifier=knn, resolution=0.01)\n",
    "    \n",
    "plt.xlabel('LDA 1')\n",
    "plt.ylabel('LDA 2')\n",
    "plt.legend(loc='lower left')\n",
    "plt.grid()\n",
    "plt.tight_layout()\n",
    "plt.show()"
   ]
  },
  {
   "cell_type": "markdown",
   "metadata": {
    "collapsed": true
   },
   "source": [
    "### Conclusion\n",
    "As we can see the knn fitting result and in the above two graph, PCA performaces much worse than LDA does when the feature of data is most in one dimension. The PCA analytic result in 1D is too close to each other, as a result, the knn fitting result after PCA is likely to be over fitted. While the LDA handle the situation well. \n",
    "\n",
    "When I construct the dataset, I try to make the class category mainly dependent on merely one feature(i.e. feature1)."
   ]
  },
  {
   "cell_type": "markdown",
   "metadata": {},
   "source": [
    "<center> - END - </center>"
   ]
  }
 ],
 "metadata": {
  "anaconda-cloud": {},
  "kernelspec": {
   "display_name": "Python [Root]",
   "language": "python",
   "name": "Python [Root]"
  },
  "language_info": {
   "codemirror_mode": {
    "name": "ipython",
    "version": 3
   },
   "file_extension": ".py",
   "mimetype": "text/x-python",
   "name": "python",
   "nbconvert_exporter": "python",
   "pygments_lexer": "ipython3",
   "version": "3.5.2"
  },
  "name": "_merged"
 },
 "nbformat": 4,
 "nbformat_minor": 0
}

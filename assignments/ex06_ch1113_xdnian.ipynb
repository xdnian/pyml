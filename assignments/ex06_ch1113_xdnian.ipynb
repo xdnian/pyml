{
 "cells": [
  {
   "cell_type": "markdown",
   "metadata": {
    "slideshow": {
     "slide_type": "slide"
    }
   },
   "source": [
    "# Assignment 6\n",
    "\n",
    "This assignment has weighting $3.5$.\n",
    "The first question about clustering has 35%, and the second question about tiny image classification has 65%.\n",
    "\n",
    "This is a challenging assignment, so I recommend you start early."
   ]
  },
  {
   "cell_type": "markdown",
   "metadata": {
    "slideshow": {
     "slide_type": "slide"
    }
   },
   "source": [
    "# Clustering for handwritten digits\n",
    "\n",
    "Supervised learning requires labeled data, which can be expensive to acquire.\n",
    "For example, a dataset with $N$ samples for classification will require manual labeling $N$ times.\n",
    "\n",
    "One way to ameliorate this issue is to perform clustering of the raw data samples first, followed by manual inspection and labeling of only a few samples.\n",
    "Recall that clustering is a form of non-supervised learning, so it does not require any class labels.\n",
    "\n",
    "For example, say we are given a set of scanned hand-written digit images.\n",
    "We can cluster them into 10 groups first, manually inspect and label a few images in each cluster, and propagate the label towards the rest of all (unlabeled) samples in each cluster.\n",
    "\n",
    "The accuracy of such semi-automatic labeling depends on the accuracy of the clustering.\n",
    "If each cluster (0 to 9) corresponds exactly to hand-written digits 0-9, we are fine.\n",
    "Otherwise, we have some mis-labeled data.\n",
    "\n",
    "The goal of this question is to exercise clustering of the scikit-learn digits dataset which has labels, so that we can verify our clustering accuracy.\n",
    "The specifics are as follows.\n",
    "\n",
    "You will be judged by the test accuracy of your code, and quality of descriptions of your method.\n",
    "As a reference, a simple code I (Li-Yi) wrote can achieve about 78% accuracy. Try to beat it as much as you can."
   ]
  },
  {
   "cell_type": "markdown",
   "metadata": {
    "slideshow": {
     "slide_type": "subslide"
    }
   },
   "source": [
    "## Training and test data split\n",
    "\n",
    "We will split the original dataset into training and test datasets\n",
    "* training for building our clusters\n",
    "* testing to see if the clusters can predict future data\n",
    "\n",
    "## Accuracy\n",
    "What is your clustering accuracy (comparing cluster labels with the ground truth labels), and what are the properties of mis-clustered samples?\n",
    "\n",
    "## Data preprocessing\n",
    "Would the original features (pixels) work well, or we need further processing like scaling/standardization or dimensionality-reduction, before clustering?\n",
    "\n",
    "## Models and hyper-parameters\n",
    "\n",
    "Let's focus on k-means clustering, as hierarchical and density-based clustering do not provide the predict() method under scikit-learn.\n",
    "\n",
    "What is the best test performance you can achieve with which hyper-parameters (for k-means, standard scalar, and dimensionality reduction)?\n",
    "\n",
    "### Hint\n",
    "We have learned Pipeline and GridSearchCV for cross validation and hyper-parameter tuning."
   ]
  },
  {
   "cell_type": "code",
   "execution_count": 1,
   "metadata": {
    "collapsed": false,
    "slideshow": {
     "slide_type": "skip"
    }
   },
   "outputs": [
    {
     "name": "stdout",
     "output_type": "stream",
     "text": [
      "last updated: 2016-12-14 \n",
      "\n",
      "CPython 3.5.2\n",
      "IPython 4.2.0\n",
      "\n",
      "numpy 1.11.1\n",
      "pandas 0.18.1\n",
      "matplotlib 1.5.3\n",
      "scipy 0.18.0\n",
      "sklearn 0.17.1\n"
     ]
    }
   ],
   "source": [
    "%load_ext watermark\n",
    "%watermark -a '' -u -d -v -p numpy,pandas,matplotlib,scipy,sklearn\n",
    "%matplotlib inline"
   ]
  },
  {
   "cell_type": "code",
   "execution_count": 2,
   "metadata": {
    "collapsed": true,
    "slideshow": {
     "slide_type": "skip"
    }
   },
   "outputs": [],
   "source": [
    "# Added version check for recent scikit-learn 0.18 checks\n",
    "from distutils.version import LooseVersion as Version\n",
    "from sklearn import __version__ as sklearn_version"
   ]
  },
  {
   "cell_type": "markdown",
   "metadata": {
    "slideshow": {
     "slide_type": "fragment"
    }
   },
   "source": [
    "## Load data"
   ]
  },
  {
   "cell_type": "code",
   "execution_count": 3,
   "metadata": {
    "collapsed": false,
    "slideshow": {
     "slide_type": "fragment"
    }
   },
   "outputs": [
    {
     "name": "stdout",
     "output_type": "stream",
     "text": [
      "(1797, 64)\n",
      "(1797,)\n",
      "[0 1 2 3 4 5 6 7 8 9]\n"
     ]
    }
   ],
   "source": [
    "import numpy as np\n",
    "\n",
    "from sklearn.datasets import load_digits\n",
    "digits = load_digits()\n",
    "\n",
    "X = digits.data # data in pixels\n",
    "y = digits.target # digit labels\n",
    "\n",
    "print(X.shape)\n",
    "print(y.shape)\n",
    "\n",
    "print(np.unique(y))"
   ]
  },
  {
   "cell_type": "markdown",
   "metadata": {
    "slideshow": {
     "slide_type": "fragment"
    }
   },
   "source": [
    "## Visualize data"
   ]
  },
  {
   "cell_type": "code",
   "execution_count": 4,
   "metadata": {
    "collapsed": false,
    "slideshow": {
     "slide_type": "fragment"
    }
   },
   "outputs": [
    {
     "data": {
      "image/png": "[encoded data removed]",
      "text/plain": [
       "<matplotlib.figure.Figure at 0x28862d2ef98>"
      ]
     },
     "metadata": {},
     "output_type": "display_data"
    }
   ],
   "source": [
    "import matplotlib.pyplot as plt\n",
    "import pylab as pl\n",
    "\n",
    "num_rows = 4\n",
    "num_cols = 5\n",
    "\n",
    "fig, ax = plt.subplots(nrows=num_rows, ncols=num_cols, sharex=True, sharey=True)\n",
    "ax = ax.flatten()\n",
    "for index in range(num_rows*num_cols):\n",
    "    img = digits.images[index]\n",
    "    label = digits.target[index]\n",
    "    ax[index].imshow(img, cmap='Greys', interpolation='nearest')\n",
    "    ax[index].set_title('digit ' + str(label))\n",
    "\n",
    "ax[0].set_xticks([])\n",
    "ax[0].set_yticks([])\n",
    "plt.tight_layout()\n",
    "plt.show()"
   ]
  },
  {
   "cell_type": "markdown",
   "metadata": {
    "slideshow": {
     "slide_type": "fragment"
    }
   },
   "source": [
    "## Data sets: training versus test"
   ]
  },
  {
   "cell_type": "code",
   "execution_count": 5,
   "metadata": {
    "collapsed": false,
    "slideshow": {
     "slide_type": "fragment"
    }
   },
   "outputs": [
    {
     "name": "stdout",
     "output_type": "stream",
     "text": [
      "training: 1257, test: 540\n"
     ]
    }
   ],
   "source": [
    "if Version(sklearn_version) < '0.18':\n",
    "    from sklearn.cross_validation import train_test_split\n",
    "else:\n",
    "    from sklearn.model_selection import train_test_split\n",
    "    \n",
    "X_train, X_test, y_train, y_test = train_test_split(\n",
    "    X, y, test_size=0.3, random_state=1)\n",
    "\n",
    "num_training = y_train.shape[0]\n",
    "num_test = y_test.shape[0]\n",
    "print('training: ' + str(num_training) + ', test: ' + str(num_test))"
   ]
  },
  {
   "cell_type": "code",
   "execution_count": 6,
   "metadata": {
    "collapsed": false,
    "slideshow": {
     "slide_type": "fragment"
    }
   },
   "outputs": [
    {
     "name": "stdout",
     "output_type": "stream",
     "text": [
      "[119 133 128 119 120 135 130 122 128 123]\n",
      "[59 49 49 64 61 47 51 57 46 57]\n"
     ]
    }
   ],
   "source": [
    "import numpy as np\n",
    "\n",
    "# check to see if the data are well distributed among digits\n",
    "for y in [y_train, y_test]:\n",
    "    print(np.bincount(y))"
   ]
  },
  {
   "cell_type": "markdown",
   "metadata": {
    "slideshow": {
     "slide_type": "subslide"
    }
   },
   "source": [
    "## Answer"
   ]
  },
  {
   "cell_type": "markdown",
   "metadata": {
    "slideshow": {
     "slide_type": "fragment"
    }
   },
   "source": [
    "We first write a scoring function for clustering so that we can use for GridSearchCV.\n",
    "Take a look at use_scorer under scikit learn."
   ]
  },
  {
   "cell_type": "code",
   "execution_count": 7,
   "metadata": {
    "collapsed": true,
    "slideshow": {
     "slide_type": "fragment"
    }
   },
   "outputs": [],
   "source": [
    "from sklearn.metrics import accuracy_score, make_scorer\n",
    "\n",
    "def clustering_accuracy_score(y_true, y_pred):\n",
    "    # replace this with your code; note that y_pred is just cluster id, not digit id\n",
    "    y_cm = y_pred\n",
    "    cluster_label_true = np.unique(y_true)\n",
    "    cluster_num_true = len(cluster_label_true)\n",
    "    cluster_label_cm = np.unique(y_cm)\n",
    "    cluster_num_cm = len(cluster_label_cm)\n",
    "    \n",
    "    scores = np.zeros((cluster_num_cm, cluster_num_true))\n",
    "    \n",
    "    for i in range(cluster_num_cm):\n",
    "        for j in range(cluster_num_true):\n",
    "            y_temp = y_true[y_cm == cluster_label_cm[i]]\n",
    "            y_count = len(y_temp)\n",
    "            scores[i][j] = accuracy_score(y_true = y_temp, y_pred = cluster_label_true[j] * np.ones(y_count))\n",
    "    \n",
    "    best_assign_index = np.zeros(cluster_num_cm)\n",
    "    \n",
    "    for i in range(cluster_num_cm):\n",
    "        best_assign_index[i] = np.argmax(scores[i])\n",
    "    \n",
    "    y_predict = np.zeros(len(y_cm))\n",
    "    for i, v in enumerate(y_cm):\n",
    "        index = np.where(cluster_label_cm == v)[0][0]\n",
    "        y_predict[i] = best_assign_index[index]\n",
    "    \n",
    "    return accuracy_score(y_true=y_true, y_pred=y_predict)\n",
    "\n",
    "clustering_accuracy = make_scorer(clustering_accuracy_score) "
   ]
  },
  {
   "cell_type": "code",
   "execution_count": 8,
   "metadata": {
    "collapsed": false,
    "slideshow": {
     "slide_type": "fragment"
    }
   },
   "outputs": [
    {
     "name": "stdout",
     "output_type": "stream",
     "text": [
      "accuracy 1.0 , should be 1\n",
      "accuracy 0.833333333333 , should be 0.8333333333333334\n",
      "accuracy 0.833333333333 , should be 0.6666666666666666\n"
     ]
    }
   ],
   "source": [
    "# toy case demonstrating the clustering accuracy\n",
    "# this is just a reference to illustrate what this score function is trying to achieve\n",
    "# feel free to design your own as long as you can justify\n",
    "\n",
    "# ground truth class label for samples\n",
    "toy_y_true = np.array([0, 0, 0, 1, 1, 2])\n",
    "\n",
    "# clustering id for samples\n",
    "toy_y_pred_true = np.array([1, 1, 1, 2, 2, 0])\n",
    "toy_y_pred_bad1 = np.array([0, 0, 1, 1, 1, 2])\n",
    "toy_y_pred_bad2 = np.array([2, 2, 1, 0, 0, 0])\n",
    "\n",
    "toy_accuracy = clustering_accuracy_score(toy_y_true, toy_y_pred_true)\n",
    "print('accuracy', toy_accuracy, ', should be 1')\n",
    "\n",
    "toy_accuracy = clustering_accuracy_score(toy_y_true, toy_y_pred_bad1)\n",
    "print('accuracy', toy_accuracy, ', should be', 5.0/6.0)\n",
    "\n",
    "toy_accuracy = clustering_accuracy_score(toy_y_true, toy_y_pred_bad2)\n",
    "print('accuracy', toy_accuracy, ', should be', 4.0/6.0)"
   ]
  },
  {
   "cell_type": "markdown",
   "metadata": {
    "slideshow": {
     "slide_type": "fragment"
    }
   },
   "source": [
    "Build a pipeline with standard scaler, PCA, and clustering."
   ]
  },
  {
   "cell_type": "code",
   "execution_count": 9,
   "metadata": {
    "collapsed": false,
    "slideshow": {
     "slide_type": "fragment"
    }
   },
   "outputs": [],
   "source": [
    "# your code\n",
    "from sklearn.preprocessing import StandardScaler\n",
    "from sklearn.decomposition import PCA\n",
    "from sklearn.cluster import KMeans\n",
    "from sklearn.pipeline import Pipeline\n",
    "\n",
    "# construct a pipeline consisting of different components\n",
    "# each entry contains an identifier, and the corresponding component\n",
    "pipe_km = Pipeline([('scl', StandardScaler()),\n",
    "                    ('pca', PCA()),\n",
    "                    ('km', KMeans(random_state=0))])"
   ]
  },
  {
   "cell_type": "markdown",
   "metadata": {
    "slideshow": {
     "slide_type": "fragment"
    }
   },
   "source": [
    "Use GridSearchCV to tune hyper-parameters."
   ]
  },
  {
   "cell_type": "code",
   "execution_count": 10,
   "metadata": {
    "collapsed": false,
    "slideshow": {
     "slide_type": "fragment"
    }
   },
   "outputs": [],
   "source": [
    "# your code\n",
    "if Version(sklearn_version) < '0.18':\n",
    "    from sklearn.grid_search import GridSearchCV\n",
    "else:\n",
    "    from sklearn.model_selection import GridSearchCV\n",
    "\n",
    "param_grid = {'scl__with_mean': [True, False],\n",
    "              'scl__with_std': [True, False],\n",
    "              'pca__n_components': np.array(range(20,40,2)),\n",
    "              'km__n_clusters': np.array(range(10,20)),\n",
    "              'km__init': ['k-means++', 'random']}\n",
    "    \n",
    "gs = GridSearchCV(estimator=pipe_km, \n",
    "                  param_grid=param_grid, \n",
    "                  scoring=clustering_accuracy, \n",
    "                  cv=10,\n",
    "                  n_jobs=1)\n",
    "\n",
    "gs = gs.fit(X_train, y_train)\n",
    "\n",
    "# # below is Li-Yi's dummy code to build a random guess model\n",
    "# import numpy as np\n",
    "# class RandomGuesser:\n",
    "#     def __init__(self, num_classes):\n",
    "#         self.num_classes = num_classes\n",
    "#     def predict(self, X):\n",
    "#         y = np.random.randint(low = 0, high = self.num_classes, size = X.shape[0])\n",
    "#         return y"
   ]
  },
  {
   "cell_type": "code",
   "execution_count": 11,
   "metadata": {
    "collapsed": false,
    "slideshow": {
     "slide_type": "fragment"
    }
   },
   "outputs": [
    {
     "name": "stdout",
     "output_type": "stream",
     "text": [
      "Test accuracy: 0.930\n"
     ]
    }
   ],
   "source": [
    "best_model = gs.best_estimator_ # replace this with the best model you can build\n",
    "\n",
    "y_cm = best_model.predict(X_test)\n",
    "\n",
    "print('Test accuracy: %.3f' % clustering_accuracy_score(y_true=y_test, y_pred=y_cm))\n",
    "\n",
    "#print('Test accuracy: %.3f' % best_model.score(X_test, y_test))"
   ]
  },
  {
   "cell_type": "markdown",
   "metadata": {
    "slideshow": {
     "slide_type": "fragment"
    }
   },
   "source": [
    "Visualize mis-clustered samples, and provide your explanation."
   ]
  },
  {
   "cell_type": "code",
   "execution_count": 12,
   "metadata": {
    "collapsed": false,
    "slideshow": {
     "slide_type": "fragment"
    }
   },
   "outputs": [
    {
     "name": "stdout",
     "output_type": "stream",
     "text": [
      "38 out of 540 samples are mis-clustered.\n"
     ]
    },
    {
     "data": {
      "image/png": "[encoded data removed]",
      "text/plain": [
       "<matplotlib.figure.Figure at 0x28864ff7710>"
      ]
     },
     "metadata": {},
     "output_type": "display_data"
    },
    {
     "data": {
      "image/png": "[encoded data removed]",
      "text/plain": [
       "<matplotlib.figure.Figure at 0x28865c4e400>"
      ]
     },
     "metadata": {},
     "output_type": "display_data"
    }
   ],
   "source": [
    "# your code\n",
    "cluster_label_true = np.unique(y_test)\n",
    "cluster_num_true = len(cluster_label_true)\n",
    "cluster_label_cm = np.unique(y_cm)\n",
    "cluster_num_cm = len(cluster_label_cm)\n",
    "\n",
    "scores = np.zeros((cluster_num_cm, cluster_num_true))\n",
    "\n",
    "for i in range(cluster_num_cm):\n",
    "    for j in range(cluster_num_true):\n",
    "        y_temp = y_test[y_cm == cluster_label_cm[i]]\n",
    "        y_count = len(y_temp)\n",
    "        scores[i][j] = accuracy_score(y_true = y_temp, y_pred = cluster_label_true[j] * np.ones(y_count))\n",
    "\n",
    "best_assign_index = np.zeros(cluster_num_cm)\n",
    "\n",
    "for i in range(cluster_num_cm):\n",
    "    best_assign_index[i] = np.argmax(scores[i])\n",
    "\n",
    "y_test_pred = np.zeros(len(y_cm))\n",
    "for i, v in enumerate(y_cm):\n",
    "        index = np.where(cluster_label_cm == v)[0][0]\n",
    "        y_test_pred[i] = best_assign_index[index]\n",
    "\n",
    "miscl_img = X_test[y_test != y_test_pred]\n",
    "correct_lab = y_test[y_test != y_test_pred]\n",
    "miscl_lab = y_test_pred[y_test != y_test_pred]\n",
    "num_miscl = np.count_nonzero(y_test != y_test_pred)\n",
    "print(\"%s out of %s samples are mis-clustered.\" % (num_miscl, num_test))\n",
    "\n",
    "fig, ax = plt.subplots(nrows=4, ncols=5, sharex=True, sharey=True)\n",
    "ax = ax.flatten()\n",
    "for i in range(20):\n",
    "    img = miscl_img[i].reshape(8, 8)\n",
    "    ax[i].imshow(img, cmap='Greys', interpolation='nearest')\n",
    "    ax[i].set_title('%d) t: %d p: %d' % (i+1, correct_lab[i], miscl_lab[i]))\n",
    "\n",
    "ax[0].set_xticks([])\n",
    "ax[0].set_yticks([])\n",
    "plt.tight_layout()\n",
    "# plt.savefig('./figures/mnist_miscl.png', dpi=300)\n",
    "plt.show()\n",
    "\n",
    "fig, ax = plt.subplots(nrows=4, ncols=5, sharex=True, sharey=True)\n",
    "ax = ax.flatten()\n",
    "for i in range(20, num_miscl):\n",
    "    img = miscl_img[i].reshape(8, 8)\n",
    "    ax[i-20].imshow(img, cmap='Greys', interpolation='nearest')\n",
    "    ax[i-20].set_title('%d) t: %d p: %d' % (i+1, correct_lab[i], miscl_lab[i]))\n",
    "\n",
    "ax[0].set_xticks([])\n",
    "ax[0].set_yticks([])\n",
    "plt.tight_layout()\n",
    "# plt.savefig('./figures/mnist_miscl.png', dpi=300)\n",
    "plt.show()"
   ]
  },
  {
   "cell_type": "markdown",
   "metadata": {
    "slideshow": {
     "slide_type": "fragment"
    }
   },
   "source": [
    "### your explanation\n",
    "\n",
    "The reason seem to be obivous, which is that some handwritten digit are really vague or rather similar to other digit. Some digits are even cannot be recognized easily by human. For example, the 7th misclusterred digit '9', the writing is really special and can be confused to other digit. Also, the 19th misclusterred digit '3' is written similarly to '5'. Another example is the 33rd misclusterred digit '3' is almost written as '7'. Besides, some hand-written digit are really vague, including 26th, 28th, 34th, 37th misclustered digit. These are hard to avoid.\n",
    "\n",
    "On the other hand, it cannot be denied that there are so many digit '9' (nearly 1/3) has been recongized as other digits, especially as '1' and '7'. This may caused by that these three digits all end with a vertical line and the '9' have some obviously different writing style. This problem may be handled better with more number of cluster and better computing resource for trainning. "
   ]
  },
  {
   "cell_type": "markdown",
   "metadata": {
    "slideshow": {
     "slide_type": "slide"
    }
   },
   "source": [
    "# Tiny image classification\n",
    "\n",
    "We will use the [CIFAR-10 dataset](https://www.cs.toronto.edu/~kriz/cifar.html) for image object recognition.\n",
    "The dataset consists of 50000 training samples and 10000 test samples in 10 different classes (airplane, automobile, bird, cat, deer, dog, frog, horse, ship, truck; see the link above for more information).\n",
    "The goal is to maximize the accuracy of your classifier on the test dataset after being optimized via the training dataset.\n",
    "\n",
    "You can use any learning models (supervised or unsupervised) or optimization methods (e.g. search methods for hyper-parameters).\n",
    "The only requirement is that your code can run inside an ipynb file, as usual.\n",
    "Please provide a description of your method, in addition to the code.\n",
    "Your answer will be evaluated not only on the test accuracy but also on the creativity of your methodology and the quality of your explanation/description."
   ]
  },
  {
   "cell_type": "markdown",
   "metadata": {
    "slideshow": {
     "slide_type": "subslide"
    }
   },
   "source": [
    "## Sample code to get you started\n",
    "\n",
    "This is a difficult classification task.\n",
    "A sample code below, based on a simple fully connected neural network built via Keras, is provided below.\n",
    "The test accuracy is about 43%."
   ]
  },
  {
   "cell_type": "code",
   "execution_count": 2,
   "metadata": {
    "collapsed": false,
    "scrolled": true,
    "slideshow": {
     "slide_type": "fragment"
    }
   },
   "outputs": [
    {
     "name": "stdout",
     "output_type": "stream",
     "text": [
      "The watermark extension is already loaded. To reload it, use:\n",
      "  %reload_ext watermark\n",
      "last updated: 2016-12-14 \n",
      "\n",
      "CPython 3.5.2\n",
      "IPython 4.2.0\n",
      "\n",
      "numpy 1.11.1\n",
      "keras 1.1.2\n"
     ]
    }
   ],
   "source": [
    "%load_ext watermark\n",
    "%watermark -a '' -u -d -v -p numpy,keras"
   ]
  },
  {
   "cell_type": "code",
   "execution_count": 1,
   "metadata": {
    "collapsed": false,
    "slideshow": {
     "slide_type": "fragment"
    }
   },
   "outputs": [
    {
     "name": "stderr",
     "output_type": "stream",
     "text": [
      "Using TensorFlow backend.\n"
     ]
    },
    {
     "name": "stdout",
     "output_type": "stream",
     "text": [
      "image shape:  (32, 32, 3)\n",
      "50000 training samples\n",
      "10000 test samples\n",
      "10 classes\n"
     ]
    }
   ],
   "source": [
    "from keras.datasets import cifar10\n",
    "from keras.utils import np_utils\n",
    "from keras.models import Sequential\n",
    "from keras.layers import Dense, Dropout, Activation, Flatten\n",
    "from keras.layers import Convolution2D, MaxPooling2D\n",
    "from keras.optimizers import SGD\n",
    "import numpy as np\n",
    "from sklearn.metrics import accuracy_score\n",
    "\n",
    "# load data set\n",
    "(X_train, y_train), (X_test, y_test) = cifar10.load_data()\n",
    "\n",
    "img_shape = X_train.shape[1:] # [num_rows, num_cols, num_channels]\n",
    "num_img_pixels = np.prod(img_shape)\n",
    "num_training_samples = X_train.shape[0]\n",
    "num_test_samples = X_test.shape[0]\n",
    "\n",
    "nb_classes = np.sum(np.unique(y_train).shape)\n",
    "\n",
    "print('image shape: ', img_shape)\n",
    "print(X_train.shape[0], 'training samples')\n",
    "print(X_test.shape[0], 'test samples')\n",
    "print(nb_classes, 'classes')\n",
    "\n",
    "# data processing\n",
    "\n",
    "# X_train = X_train.reshape(num_training_samples, num_img_pixels)\n",
    "# X_test = X_test.reshape(num_test_samples, num_img_pixels)\n",
    "\n",
    "X_train = X_train.astype('float32')\n",
    "X_test = X_test.astype('float32')\n",
    "X_train /= 255\n",
    "X_test /= 255\n",
    "\n",
    "# one hot encoding of labels\n",
    "y_train_ohe = np_utils.to_categorical(y_train)\n",
    "y_test_ohe = np_utils.to_categorical(y_test)"
   ]
  },
  {
   "cell_type": "markdown",
   "metadata": {
    "slideshow": {
     "slide_type": "subslide"
    }
   },
   "source": [
    "## Answer"
   ]
  },
  {
   "cell_type": "code",
   "execution_count": 10,
   "metadata": {
    "collapsed": false,
    "slideshow": {
     "slide_type": "fragment"
    }
   },
   "outputs": [],
   "source": [
    "# your code and experimental results\n",
    "\n",
    "# define a training model\n",
    "from keras.models import Sequential\n",
    "model = Sequential()\n",
    "\n",
    "# number of convolutional filters\n",
    "n_filters = 96\n",
    "\n",
    "# convolution filter size\n",
    "n_conv = 3\n",
    "\n",
    "# pooling window size\n",
    "n_pool = 2"
   ]
  },
  {
   "cell_type": "code",
   "execution_count": 11,
   "metadata": {
    "collapsed": false,
    "slideshow": {
     "slide_type": "fragment"
    }
   },
   "outputs": [],
   "source": [
    "from keras.layers import Activation\n",
    "from keras.layers.convolutional import Convolution2D, MaxPooling2D\n",
    "from keras.layers import Dropout, Flatten, Dense\n",
    "\n",
    "model.add(Convolution2D(\n",
    "        n_filters, n_conv, n_conv,\n",
    "\n",
    "        border_mode='valid',\n",
    "\n",
    "        # 32x32 rgb channel (3 channel) image\n",
    "        input_shape=(32, 32, 3),\n",
    "        \n",
    "        dim_ordering='tf'\n",
    "))\n",
    "model.add(Activation('relu'))\n",
    "\n",
    "model.add(Convolution2D(n_filters, n_conv, n_conv))\n",
    "model.add(Activation('relu'))\n",
    "\n",
    "model.add(Convolution2D(n_filters, n_conv, n_conv))\n",
    "model.add(Activation('relu'))\n",
    "\n",
    "# apply pooling\n",
    "model.add(MaxPooling2D(pool_size=(n_pool, n_pool)))\n",
    "\n",
    "\n",
    "model.add(Dropout(0.25))\n",
    "\n",
    "# flatten the data for the 1D layers\n",
    "model.add(Flatten())\n",
    "\n",
    "# Dense(n_outputs)\n",
    "model.add(Dense(128))\n",
    "model.add(Activation('relu'))\n",
    "model.add(Dropout(0.5))\n",
    "\n",
    "# softmax output layer\n",
    "model.add(Dense(10))\n",
    "model.add(Activation('softmax'))\n",
    "\n",
    "model.compile(\n",
    "    loss='categorical_crossentropy',\n",
    "    optimizer='adam',\n",
    "    metrics=['accuracy']\n",
    ")"
   ]
  },
  {
   "cell_type": "code",
   "execution_count": 12,
   "metadata": {
    "collapsed": false,
    "scrolled": false,
    "slideshow": {
     "slide_type": "fragment"
    }
   },
   "outputs": [
    {
     "name": "stdout",
     "output_type": "stream",
     "text": [
      "Train on 45000 samples, validate on 5000 samples\n",
      "Epoch 1/50\n",
      "45000/45000 [==============================] - 15s - loss: 1.9996 - acc: 0.2644 - val_loss: 1.7158 - val_acc: 0.3896\n",
      "Epoch 2/50\n",
      "45000/45000 [==============================] - 12s - loss: 1.7197 - acc: 0.3786 - val_loss: 1.5387 - val_acc: 0.4444\n",
      "Epoch 3/50\n",
      "45000/45000 [==============================] - 12s - loss: 1.5864 - acc: 0.4285 - val_loss: 1.4118 - val_acc: 0.4890\n",
      "Epoch 4/50\n",
      "45000/45000 [==============================] - 12s - loss: 1.4867 - acc: 0.4644 - val_loss: 1.3299 - val_acc: 0.5322\n",
      "Epoch 5/50\n",
      "45000/45000 [==============================] - 12s - loss: 1.4296 - acc: 0.4881 - val_loss: 1.2771 - val_acc: 0.5424\n",
      "Epoch 6/50\n",
      "45000/45000 [==============================] - 12s - loss: 1.3609 - acc: 0.5130 - val_loss: 1.2485 - val_acc: 0.5584\n",
      "Epoch 7/50\n",
      "45000/45000 [==============================] - 12s - loss: 1.3225 - acc: 0.5325 - val_loss: 1.1997 - val_acc: 0.5742\n",
      "Epoch 8/50\n",
      "45000/45000 [==============================] - 12s - loss: 1.2823 - acc: 0.5435 - val_loss: 1.1789 - val_acc: 0.5834\n",
      "Epoch 9/50\n",
      "45000/45000 [==============================] - 12s - loss: 1.2649 - acc: 0.5498 - val_loss: 1.1287 - val_acc: 0.6052\n",
      "Epoch 10/50\n",
      "45000/45000 [==============================] - 12s - loss: 1.2183 - acc: 0.5693 - val_loss: 1.1223 - val_acc: 0.6112\n",
      "Epoch 11/50\n",
      "45000/45000 [==============================] - 12s - loss: 1.1898 - acc: 0.5757 - val_loss: 1.0818 - val_acc: 0.6278\n",
      "Epoch 12/50\n",
      "45000/45000 [==============================] - 12s - loss: 1.1552 - acc: 0.5922 - val_loss: 1.0644 - val_acc: 0.6286\n",
      "Epoch 13/50\n",
      "45000/45000 [==============================] - 12s - loss: 1.1303 - acc: 0.5963 - val_loss: 1.0588 - val_acc: 0.6288\n",
      "Epoch 14/50\n",
      "45000/45000 [==============================] - 12s - loss: 1.1110 - acc: 0.6065 - val_loss: 1.0099 - val_acc: 0.6470\n",
      "Epoch 15/50\n",
      "45000/45000 [==============================] - 12s - loss: 1.0861 - acc: 0.6134 - val_loss: 1.0313 - val_acc: 0.6426\n",
      "Epoch 16/50\n",
      "45000/45000 [==============================] - 12s - loss: 1.0649 - acc: 0.6218 - val_loss: 0.9972 - val_acc: 0.6582\n",
      "Epoch 17/50\n",
      "45000/45000 [==============================] - 12s - loss: 1.0358 - acc: 0.6349 - val_loss: 0.9918 - val_acc: 0.6552\n",
      "Epoch 18/50\n",
      "45000/45000 [==============================] - 12s - loss: 1.0318 - acc: 0.6343 - val_loss: 0.9930 - val_acc: 0.6632\n",
      "Epoch 19/50\n",
      "45000/45000 [==============================] - 12s - loss: 1.0068 - acc: 0.6420 - val_loss: 0.9314 - val_acc: 0.6692\n",
      "Epoch 20/50\n",
      "45000/45000 [==============================] - 12s - loss: 0.9849 - acc: 0.6534 - val_loss: 0.9251 - val_acc: 0.6742\n",
      "Epoch 21/50\n",
      "45000/45000 [==============================] - 12s - loss: 0.9731 - acc: 0.6552 - val_loss: 0.9383 - val_acc: 0.6742\n",
      "Epoch 22/50\n",
      "45000/45000 [==============================] - 12s - loss: 0.9497 - acc: 0.6629 - val_loss: 0.9352 - val_acc: 0.6758\n",
      "Epoch 23/50\n",
      "45000/45000 [==============================] - 12s - loss: 0.9325 - acc: 0.6671 - val_loss: 0.8989 - val_acc: 0.6898\n",
      "Epoch 24/50\n",
      "45000/45000 [==============================] - 12s - loss: 0.9256 - acc: 0.6701 - val_loss: 0.8958 - val_acc: 0.6904\n",
      "Epoch 25/50\n",
      "45000/45000 [==============================] - 12s - loss: 0.8945 - acc: 0.6831 - val_loss: 0.8836 - val_acc: 0.6922\n",
      "Epoch 26/50\n",
      "45000/45000 [==============================] - 12s - loss: 0.8798 - acc: 0.6860 - val_loss: 0.8670 - val_acc: 0.6956\n",
      "Epoch 27/50\n",
      "45000/45000 [==============================] - 12s - loss: 0.8585 - acc: 0.6945 - val_loss: 0.8656 - val_acc: 0.6952\n",
      "Epoch 28/50\n",
      "45000/45000 [==============================] - 12s - loss: 0.8475 - acc: 0.6972 - val_loss: 0.8644 - val_acc: 0.7002\n",
      "Epoch 29/50\n",
      "45000/45000 [==============================] - 12s - loss: 0.8302 - acc: 0.7038 - val_loss: 0.8564 - val_acc: 0.7026\n",
      "Epoch 30/50\n",
      "45000/45000 [==============================] - 12s - loss: 0.8404 - acc: 0.6968 - val_loss: 0.8534 - val_acc: 0.7048\n",
      "Epoch 31/50\n",
      "45000/45000 [==============================] - 12s - loss: 0.8030 - acc: 0.7110 - val_loss: 0.8661 - val_acc: 0.7012\n",
      "Epoch 32/50\n",
      "45000/45000 [==============================] - 12s - loss: 0.7976 - acc: 0.7127 - val_loss: 0.8617 - val_acc: 0.7002\n",
      "Epoch 33/50\n",
      "45000/45000 [==============================] - 12s - loss: 0.7764 - acc: 0.7204 - val_loss: 0.8413 - val_acc: 0.7086\n",
      "Epoch 34/50\n",
      "45000/45000 [==============================] - 12s - loss: 0.7760 - acc: 0.7200 - val_loss: 0.8491 - val_acc: 0.7088\n",
      "Epoch 35/50\n",
      "45000/45000 [==============================] - 12s - loss: 0.7482 - acc: 0.7296 - val_loss: 0.8378 - val_acc: 0.7172\n",
      "Epoch 36/50\n",
      "45000/45000 [==============================] - 12s - loss: 0.7342 - acc: 0.7354 - val_loss: 0.8439 - val_acc: 0.7164\n",
      "Epoch 37/50\n",
      "45000/45000 [==============================] - 12s - loss: 0.7393 - acc: 0.7299 - val_loss: 0.8451 - val_acc: 0.7112\n",
      "Epoch 38/50\n",
      "45000/45000 [==============================] - 12s - loss: 0.7218 - acc: 0.7370 - val_loss: 0.8391 - val_acc: 0.7132\n",
      "Epoch 39/50\n",
      "45000/45000 [==============================] - 12s - loss: 0.6964 - acc: 0.7467 - val_loss: 0.8436 - val_acc: 0.7152\n",
      "Epoch 40/50\n",
      "45000/45000 [==============================] - 12s - loss: 0.6913 - acc: 0.7480 - val_loss: 0.8624 - val_acc: 0.7156\n",
      "Epoch 41/50\n",
      "45000/45000 [==============================] - 12s - loss: 0.6827 - acc: 0.7496 - val_loss: 0.8416 - val_acc: 0.7182\n",
      "Epoch 42/50\n",
      "45000/45000 [==============================] - 11s - loss: 0.6734 - acc: 0.7518 - val_loss: 0.8577 - val_acc: 0.7138\n",
      "Epoch 43/50\n",
      "45000/45000 [==============================] - 12s - loss: 0.6598 - acc: 0.7586 - val_loss: 0.8463 - val_acc: 0.7122\n",
      "Epoch 44/50\n",
      "45000/45000 [==============================] - 12s - loss: 0.6433 - acc: 0.7636 - val_loss: 0.8527 - val_acc: 0.7074\n",
      "Epoch 45/50\n",
      "45000/45000 [==============================] - 12s - loss: 0.6428 - acc: 0.7621 - val_loss: 0.8478 - val_acc: 0.7206\n",
      "Epoch 46/50\n",
      "45000/45000 [==============================] - 12s - loss: 0.6330 - acc: 0.7667 - val_loss: 0.8510 - val_acc: 0.7136\n",
      "Epoch 47/50\n",
      "45000/45000 [==============================] - 12s - loss: 0.6323 - acc: 0.7661 - val_loss: 0.8364 - val_acc: 0.7214\n",
      "Epoch 48/50\n",
      "45000/45000 [==============================] - 11s - loss: 0.6092 - acc: 0.7764 - val_loss: 0.8874 - val_acc: 0.7148\n",
      "Epoch 49/50\n",
      "45000/45000 [==============================] - 11s - loss: 0.6043 - acc: 0.7742 - val_loss: 0.8695 - val_acc: 0.7176\n",
      "Epoch 50/50\n",
      "45000/45000 [==============================] - 12s - loss: 0.6012 - acc: 0.7770 - val_loss: 0.8355 - val_acc: 0.7220\n"
     ]
    }
   ],
   "source": [
    "# train\n",
    "\n",
    "_ = model.fit(X_train, y_train_ohe, \n",
    "              nb_epoch = 50, \n",
    "              batch_size = 1024, \n",
    "              verbose = True, # turn this on to visualize progress \n",
    "              validation_split = 0.1 # 10% of training data for validation per epoch\n",
    "             )"
   ]
  },
  {
   "cell_type": "code",
   "execution_count": 13,
   "metadata": {
    "collapsed": false,
    "slideshow": {
     "slide_type": "fragment"
    }
   },
   "outputs": [
    {
     "name": "stdout",
     "output_type": "stream",
     "text": [
      "First few predictions:  [6 9 9]\n",
      "Training accuracy: 0.89382\n",
      "Test accuracy: 0.7081\n"
     ]
    }
   ],
   "source": [
    "# evaluate\n",
    "\n",
    "y_train_pred = model.predict_classes(X_train, verbose=False)\n",
    "print('First few predictions: ', y_train_pred[:3])\n",
    "train_acc = accuracy_score(y_train, y_train_pred)\n",
    "print('Training accuracy:', train_acc)\n",
    "\n",
    "y_test_pred = model.predict_classes(X_test, verbose=False)\n",
    "test_acc = accuracy_score(y_test, y_test_pred)\n",
    "print('Test accuracy:', test_acc)"
   ]
  },
  {
   "cell_type": "markdown",
   "metadata": {
    "slideshow": {
     "slide_type": "fragment"
    }
   },
   "source": [
    "## Your description\n",
    "with the following main parts:\n",
    "\n",
    "<dl>\n",
    "\n",
    "<dt>Introduction</dt>\n",
    "<dd>\n",
    "At a high-level, what are the approaches you considered and why?\n",
    "</dd>\n",
    "\n",
    "<dt>Method</dt>\n",
    "<dd>\n",
    "Describe your entire pipeline, such as data-preprocessing, model selection, and hyper-parameter optpimization.\n",
    "</dd>\n",
    "\n",
    "<dt>Results</dt>\n",
    "<dd>\n",
    "Describe the experimental process you took to arrive at the solution.\n",
    "For example:\n",
    "(1) compare your approach against other approach(es) you have tried, as\n",
    "well as the MLP baseline classifer.\n",
    "(2) compare against different settings of model parameters, e.g. regularization type/strength, number of hidden units or structure of a neural network, types of kernel in a SVM, etc. \n",
    "\n",
    "<dt>Conclusion</dt>\n",
    "<dd>\n",
    "Summarize what you have learned from the experiments and discuss the limitations and potential future improvements of your current method.\n",
    "</dd>\n",
    "\n",
    "<dt>References</dt>\n",
    "<dd>\n",
    "Cite any publically available code, blog posts, research papers, etc. you used or got ideas from.\n",
    "</dl>"
   ]
  },
  {
   "cell_type": "markdown",
   "metadata": {
    "slideshow": {
     "slide_type": "fragment"
    }
   },
   "source": [
    "### Introduction\n",
    "\n",
    "In this part of assignment, I have chose convolutional neural network (CNN) for the image classification. As a result of the constructure of multilayer perceptrons, associated weight and pooling layer, the CNN can ultilize the 2-dimentional structrue of input data, so as that the CNN can have better trainning outcome in the fields of image and video recognization, and natural language processing. Thus, to deal with the problem of image classification, convolutional neural network should be the best choice.\n",
    "\n",
    "### Method\n",
    "\n",
    "1. Data preprocessing: The image data is handled as 2D data, and we have scale the data range from [0, 255] to [0, 1] for the future processing.\n",
    "2. Other parameters and models are chose and tested manually to find better ones.\n",
    "\n",
    "### Results\n",
    "\n",
    "After confirm the training model as convolutional neural network, I firstly instantiate a sequential Keras model, trying to constuct a baisc neural network to implement a training model. And then added different layers one after the other, including filter, pooling and so on.\n",
    "\n",
    "At first I follow the gerneral architecture of a convolutional neural network and specify the architecture hyperparemeters as the common settings, and using two convolution layers. But the test accuracy is not satisfying, the accuracy is only about 50%. \n",
    "\n",
    "It seems that the model is too simple for such a task, so I add more filters to the model, from 32 to 64 then to 96 and 128. when the filter number comes to be over, the validation accuracy is higher but the test accuracy remains even deceased, which is a signal of over-fitting. After test, the best number of filters is around 96. The accurary increased to near 69%.\n",
    "\n",
    "One the other hand, only two convolution layers is also too simple for the 32x32 3 channel data, so I try to add one more convolution layer. Together with modifying other hyperparemeters including the convolution filter size and pooling window size, the test accuracy of my model is over 70%.\n",
    "\n",
    "### Conclusion\n",
    "\n",
    "The final test accuracy approches 71%, but it is still too early to come with a conclusion. This accuracy is just passable but the room for improvement is still large. \n",
    "\n",
    "However, from the experimental process, I have learnt that the general architecture of a convolustional neural network. And there is a principle that, the more complex task, the more  convolution layer, the more convolutional filters, the larger convolutional filter size, the larger pooling window size we need, and so on. But should not be over, which could cause the over-fit.\n",
    "\n",
    "### References\n",
    "\n",
    "1. Ml4a. \"Convolutional Neural Networks: MNIST Classification with Keras.\" Convolutional Neural Networks: MNIST Classification with Keras. N.p., n.d. Web. 14 Dec. 2016. http://ml4a.github.io/guides/convolutional_neural_networks/\n",
    "\n",
    "2. Scalable Bayesian Optimization Using Deep Neural Networks"
   ]
  },
  {
   "cell_type": "code",
   "execution_count": null,
   "metadata": {
    "collapsed": true
   },
   "outputs": [],
   "source": []
  }
 ],
 "metadata": {
  "anaconda-cloud": {},
  "celltoolbar": "Slideshow",
  "kernelspec": {
   "display_name": "Python [Root]",
   "language": "python",
   "name": "Python [Root]"
  },
  "language_info": {
   "codemirror_mode": {
    "name": "ipython",
    "version": 3
   },
   "file_extension": ".py",
   "mimetype": "text/x-python",
   "name": "python",
   "nbconvert_exporter": "python",
   "pygments_lexer": "ipython3",
   "version": "3.5.2"
  },
  "name": "_merged"
 },
 "nbformat": 4,
 "nbformat_minor": 0
}

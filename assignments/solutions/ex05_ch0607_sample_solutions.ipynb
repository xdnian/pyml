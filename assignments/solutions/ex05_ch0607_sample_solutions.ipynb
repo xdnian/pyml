{
 "cells": [
  {
   "cell_type": "markdown",
   "metadata": {
    "slideshow": {
     "slide_type": "slide"
    }
   },
   "source": [
    "# Assignment 5\n",
    "\n",
    "This assignment has weighting $1.5$."
   ]
  },
  {
   "cell_type": "markdown",
   "metadata": {
    "slideshow": {
     "slide_type": "slide"
    }
   },
   "source": [
    "# Model tuning and evaluation"
   ]
  },
  {
   "cell_type": "code",
   "execution_count": 1,
   "metadata": {
    "collapsed": true,
    "slideshow": {
     "slide_type": "skip"
    }
   },
   "outputs": [],
   "source": [
    "# Added version check for recent scikit-learn 0.18 checks\n",
    "from distutils.version import LooseVersion as Version\n",
    "from sklearn import __version__ as sklearn_version"
   ]
  },
  {
   "cell_type": "markdown",
   "metadata": {
    "slideshow": {
     "slide_type": "slide"
    }
   },
   "source": [
    "## Dataset\n",
    "\n",
    "We will use the Wisconsin breast cancer dataset for the following questions"
   ]
  },
  {
   "cell_type": "code",
   "execution_count": null,
   "metadata": {
    "collapsed": true,
    "slideshow": {
     "slide_type": "fragment"
    }
   },
   "outputs": [],
   "source": [
    "import pandas as pd\n",
    "\n",
    "wdbc_source = 'https://archive.ics.uci.edu/ml/machine-learning-databases/breast-cancer-wisconsin/wdbc.data'\n",
    "#wdbc_source = '../datasets/wdbc/wdbc.data'\n",
    "\n",
    "df = pd.read_csv(wdbc_source, header=None)"
   ]
  },
  {
   "cell_type": "code",
   "execution_count": null,
   "metadata": {
    "collapsed": false,
    "slideshow": {
     "slide_type": "fragment"
    }
   },
   "outputs": [],
   "source": [
    "from sklearn.preprocessing import LabelEncoder\n",
    "X = df.loc[:, 2:].values\n",
    "y = df.loc[:, 1].values\n",
    "le = LabelEncoder()\n",
    "y = le.fit_transform(y)\n",
    "le.transform(['M', 'B'])"
   ]
  },
  {
   "cell_type": "code",
   "execution_count": null,
   "metadata": {
    "collapsed": false,
    "slideshow": {
     "slide_type": "fragment"
    }
   },
   "outputs": [],
   "source": [
    "if Version(sklearn_version) < '0.18':\n",
    "    from sklearn.cross_validation import train_test_split\n",
    "else:\n",
    "    from sklearn.model_selection import train_test_split\n",
    "\n",
    "X_train, X_test, y_train, y_test = \\\n",
    "    train_test_split(X, y, test_size=0.20, random_state=1)"
   ]
  },
  {
   "cell_type": "code",
   "execution_count": 5,
   "metadata": {
    "collapsed": true,
    "slideshow": {
     "slide_type": "skip"
    }
   },
   "outputs": [],
   "source": [
    "%matplotlib inline"
   ]
  },
  {
   "cell_type": "markdown",
   "metadata": {
    "slideshow": {
     "slide_type": "slide"
    }
   },
   "source": [
    "# K-fold validation (20 points)\n",
    "\n",
    "Someone wrote the code below to conduct cross validation.\n",
    "Do you see anything wrong with it?\n",
    "And if so, correct the code and provide an explanation."
   ]
  },
  {
   "cell_type": "code",
   "execution_count": 6,
   "metadata": {
    "collapsed": false,
    "slideshow": {
     "slide_type": "fragment"
    }
   },
   "outputs": [
    {
     "name": "stdout",
     "output_type": "stream",
     "text": [
      "Epoch: 0, Fold: 0, Class dist.: [256 153], Acc: 0.978\n",
      "Epoch: 0, Fold: 1, Class dist.: [256 153], Acc: 0.978\n",
      "Epoch: 0, Fold: 2, Class dist.: [256 153], Acc: 0.978\n",
      "Epoch: 0, Fold: 3, Class dist.: [256 153], Acc: 0.935\n",
      "Epoch: 0, Fold: 4, Class dist.: [256 153], Acc: 1.000\n",
      "Epoch: 0, Fold: 5, Class dist.: [257 153], Acc: 1.000\n",
      "Epoch: 0, Fold: 6, Class dist.: [257 153], Acc: 0.978\n",
      "Epoch: 0, Fold: 7, Class dist.: [257 153], Acc: 0.978\n",
      "Epoch: 0, Fold: 8, Class dist.: [257 153], Acc: 0.978\n",
      "Epoch: 0, Fold: 9, Class dist.: [257 153], Acc: 0.978\n",
      "\n",
      "Epoch: 1, Fold: 0, Class dist.: [256 153], Acc: 0.957\n",
      "Epoch: 1, Fold: 1, Class dist.: [256 153], Acc: 1.000\n",
      "Epoch: 1, Fold: 2, Class dist.: [256 153], Acc: 0.935\n",
      "Epoch: 1, Fold: 3, Class dist.: [256 153], Acc: 0.978\n",
      "Epoch: 1, Fold: 4, Class dist.: [256 153], Acc: 1.000\n",
      "Epoch: 1, Fold: 5, Class dist.: [257 153], Acc: 1.000\n",
      "Epoch: 1, Fold: 6, Class dist.: [257 153], Acc: 0.978\n",
      "Epoch: 1, Fold: 7, Class dist.: [257 153], Acc: 0.978\n",
      "Epoch: 1, Fold: 8, Class dist.: [257 153], Acc: 0.978\n",
      "Epoch: 1, Fold: 9, Class dist.: [257 153], Acc: 0.956\n",
      "\n",
      "\n",
      "CV accuracy: 0.977 +/- 0.019\n"
     ]
    }
   ],
   "source": [
    "import numpy as np\n",
    "import copy\n",
    "from sklearn.preprocessing import StandardScaler\n",
    "from sklearn.decomposition import PCA\n",
    "from sklearn.linear_model import Perceptron\n",
    "from sklearn.pipeline import Pipeline\n",
    "\n",
    "if Version(sklearn_version) < '0.18':\n",
    "    from sklearn.cross_validation import StratifiedKFold\n",
    "else:\n",
    "    from sklearn.model_selection import StratifiedKFold\n",
    "\n",
    "scl = StandardScaler()\n",
    "pca = PCA(n_components=2)\n",
    "clf = Perceptron(random_state=1)\n",
    "\n",
    "# data preprocessing\n",
    "X_train_std = scl.fit_transform(X_train)\n",
    "X_test_std = scl.transform(X_test)\n",
    "\n",
    "X_train_pca = pca.fit_transform(X_train_std)\n",
    "X_test_pca = pca.transform(X_test_std)\n",
    "\n",
    "# compute the data indices for each fold\n",
    "if Version(sklearn_version) < '0.18':\n",
    "    kfold = StratifiedKFold(y=y_train, \n",
    "                            n_folds=10,\n",
    "                            random_state=1)\n",
    "else:\n",
    "    kfold = StratifiedKFold(n_splits=10,\n",
    "                            random_state=1).split(X_train, y_train)\n",
    "\n",
    "num_epochs = 2\n",
    "scores = []\n",
    "\n",
    "enumerate_kfold = list(enumerate(kfold))\n",
    "for epoch in range(num_epochs):\n",
    "    for k, (train, test) in enumerate_kfold:\n",
    "        clf.partial_fit(X_train_std[train], y_train[train], classes=np.unique(y_train))\n",
    "        score = clf.score(X_train_std[test], y_train[test])\n",
    "        scores.append(score)\n",
    "        print('Epoch: %s, Fold: %s, Class dist.: %s, Acc: %.3f' % (epoch,\n",
    "                                                                   k, \n",
    "                                                                   np.bincount(y_train[train]),\n",
    "                                                                   score))\n",
    "    print('')\n",
    "    \n",
    "print('\\nCV accuracy: %.3f +/- %.3f' % (np.mean(scores), np.std(scores)))"
   ]
  },
  {
   "cell_type": "markdown",
   "metadata": {
    "slideshow": {
     "slide_type": "subslide"
    }
   },
   "source": [
    "## Answer\n",
    "\n",
    "Each fold should be run independently, thus the code should use fit() instead of partial_fit()."
   ]
  },
  {
   "cell_type": "markdown",
   "metadata": {
    "slideshow": {
     "slide_type": "slide"
    }
   },
   "source": [
    "# Precision-recall curve (40 points)\n",
    "\n",
    "We have plotted ROC (receiver operator characteristics) curve for the breast cancer dataset.\n",
    "\n",
    "Plot the precision-recall curve for the same data set using the same experimental setup.\n",
    "What similarities and differences you can find between ROC and precision-recall curves?\n",
    "\n",
    "You can find more information about precision-recall curve online such as: http://scikit-learn.org/stable/modules/generated/sklearn.metrics.precision_recall_curve.html"
   ]
  },
  {
   "cell_type": "markdown",
   "metadata": {
    "slideshow": {
     "slide_type": "subslide"
    }
   },
   "source": [
    "# Answer"
   ]
  },
  {
   "cell_type": "code",
   "execution_count": 7,
   "metadata": {
    "collapsed": false,
    "slideshow": {
     "slide_type": "fragment"
    }
   },
   "outputs": [
    {
     "data": {
      "image/png": "[encoded data removed]",
      "text/plain": [
       "<matplotlib.figure.Figure at 0x271af172fd0>"
      ]
     },
     "metadata": {},
     "output_type": "display_data"
    }
   ],
   "source": [
    "import numpy as np\n",
    "from sklearn.preprocessing import StandardScaler\n",
    "from sklearn.decomposition import PCA\n",
    "from sklearn.linear_model import LogisticRegression\n",
    "from sklearn.pipeline import Pipeline\n",
    "\n",
    "if Version(sklearn_version) < '0.18':\n",
    "    from sklearn.cross_validation import StratifiedKFold\n",
    "    from sklearn.cross_validation import KFold\n",
    "else:\n",
    "    from sklearn.model_selection import StratifiedKFold\n",
    "    from sklearn.model_selection import KFold\n",
    "\n",
    "import matplotlib.pyplot as plt\n",
    "from sklearn.metrics import precision_recall_curve, auc\n",
    "from scipy import interp\n",
    "\n",
    "pipe_lr = Pipeline([('scl', StandardScaler()),\n",
    "                    ('pca', PCA(n_components=2)),\n",
    "                    ('clf', LogisticRegression(penalty='l2', \n",
    "                                               random_state=0, \n",
    "                                               C=100.0))])\n",
    "\n",
    "# intentionally use only 2 features to make the task harder and the curves more interesting\n",
    "X_train2 = X_train[:, [4, 14]]\n",
    "X_test2 = X_test[:, [4, 14]]\n",
    "\n",
    "num_folds = 3\n",
    "\n",
    "if Version(sklearn_version) < '0.18':\n",
    "    cv = StratifiedKFold(y_train, n_folds=num_folds, random_state=1)\n",
    "else:\n",
    "    cv = list(StratifiedKFold(n_splits=num_folds, random_state=1).split(X_train, y_train))\n",
    "\n",
    "fig = plt.figure(figsize=(7, 5))\n",
    "\n",
    "mean_recall = 0.0\n",
    "mean_precision = np.linspace(0, 1, 100)\n",
    "all_recall = []\n",
    "\n",
    "remove_last_dummy_element = False\n",
    "\n",
    "for i, (train, test) in enumerate(cv):\n",
    "    probas = pipe_lr.fit(X_train2[train],\n",
    "                         y_train[train]).predict_proba(X_train2[test])\n",
    "\n",
    "    precision, recall, thresholds = precision_recall_curve(y_train[test],\n",
    "                                                           probas[:, 1],\n",
    "                                                           pos_label=1)\n",
    "    \n",
    "    if remove_last_dummy_element:\n",
    "        precision = precision[:-1]\n",
    "        recall = recall[:-1]\n",
    "   \n",
    "    mean_recall += interp(mean_precision, precision, recall)\n",
    "    \n",
    "    prc_auc = auc(recall, precision)\n",
    "    plt.plot(precision,\n",
    "             recall,\n",
    "             lw=1,\n",
    "             label='PRC fold %d (area = %0.2f)'\n",
    "                   % (i+1, prc_auc))\n",
    "\n",
    "plt.plot([0, 1],\n",
    "         [0, 1],\n",
    "         linestyle='--',\n",
    "         color=(0.6, 0.6, 0.6),\n",
    "         label='random guessing')\n",
    "\n",
    "mean_recall /= len(cv)\n",
    "mean_recall[0] = 1.0\n",
    "mean_recall[-1] = 0.0\n",
    "mean_auc = auc(mean_precision, mean_recall)\n",
    "plt.plot(mean_precision, mean_recall, 'k--',\n",
    "         label='mean ROC (area = %0.2f)' % mean_auc, lw=2)\n",
    "plt.plot([0, 0, 1],\n",
    "         [0, 1, 1],\n",
    "         lw=2,\n",
    "         linestyle=':',\n",
    "         color='black',\n",
    "         label='perfect performance')\n",
    "\n",
    "plt.xlim([-0.05, 1.05])\n",
    "plt.ylim([-0.05, 1.05])\n",
    "plt.xlabel('precision rate')\n",
    "plt.ylabel('recall rate')\n",
    "plt.title('precision recall curve')\n",
    "plt.legend(loc=\"best\")\n",
    "\n",
    "plt.tight_layout()\n",
    "# plt.savefig('./figures/roc.png', dpi=300)\n",
    "plt.show()\n",
    "\n"
   ]
  },
  {
   "cell_type": "markdown",
   "metadata": {
    "slideshow": {
     "slide_type": "fragment"
    }
   },
   "source": [
    "Precision and recall rates tend to move in opposite directions, so the curves are decreasing.\n",
    "\n",
    "ROC, in contrast, tends to be increasing.\n",
    "\n",
    "PS: You guys are encouraged to write more on your plots and analysis."
   ]
  },
  {
   "cell_type": "markdown",
   "metadata": {
    "slideshow": {
     "slide_type": "slide"
    }
   },
   "source": [
    "# Ensemble learning\n",
    "\n",
    "We have used the following code to compute and plot the ensemble error from individual classifiers for binary classification:"
   ]
  },
  {
   "cell_type": "code",
   "execution_count": 1,
   "metadata": {
    "collapsed": true,
    "slideshow": {
     "slide_type": "fragment"
    }
   },
   "outputs": [],
   "source": [
    "from scipy.misc import comb\n",
    "import math\n",
    "import numpy as np\n",
    "\n",
    "def ensemble_error(num_classifier, base_error):\n",
    "    k_start = math.ceil(num_classifier/2)\n",
    "    probs = [comb(num_classifier, k)*(base_error**k)*((1-base_error)**(num_classifier-k)) for k in range(k_start, num_classifier+1)]\n",
    "    return sum(probs)"
   ]
  },
  {
   "cell_type": "code",
   "execution_count": 2,
   "metadata": {
    "collapsed": true,
    "slideshow": {
     "slide_type": "fragment"
    }
   },
   "outputs": [],
   "source": [
    "import matplotlib.pyplot as plt\n",
    "%matplotlib inline"
   ]
  },
  {
   "cell_type": "code",
   "execution_count": 3,
   "metadata": {
    "collapsed": true,
    "slideshow": {
     "slide_type": "fragment"
    }
   },
   "outputs": [],
   "source": [
    "def plot_base_error(ensemble_error_func, num_classifier, error_delta):\n",
    "\n",
    "    error_range = np.arange(0.0, 1+error_delta, error_delta)\n",
    "    ensemble_errors = [ensemble_error_func(num_classifier=num_classifier, base_error=error) for error in error_range]\n",
    "\n",
    "    plt.plot(error_range, ensemble_errors, \n",
    "             label = 'ensemble error',\n",
    "             linewidth=2)\n",
    "    plt.plot(error_range, error_range,\n",
    "             label = 'base error',\n",
    "             linestyle = '--',\n",
    "             linewidth=2)\n",
    "    plt.xlabel('base error')\n",
    "    plt.ylabel('base/ensemble error')\n",
    "    plt.legend(loc='best')\n",
    "    plt.grid()\n",
    "    plt.show()"
   ]
  },
  {
   "cell_type": "code",
   "execution_count": 4,
   "metadata": {
    "collapsed": true,
    "slideshow": {
     "slide_type": "fragment"
    }
   },
   "outputs": [],
   "source": [
    "num_classifier = 11\n",
    "error_delta = 0.01\n",
    "base_error = 0.25"
   ]
  },
  {
   "cell_type": "code",
   "execution_count": 5,
   "metadata": {
    "collapsed": false,
    "slideshow": {
     "slide_type": "fragment"
    }
   },
   "outputs": [
    {
     "name": "stdout",
     "output_type": "stream",
     "text": [
      "0.034327507019\n"
     ]
    }
   ],
   "source": [
    "\n",
    "print(ensemble_error(num_classifier=num_classifier, base_error=base_error))\n"
   ]
  },
  {
   "cell_type": "code",
   "execution_count": 6,
   "metadata": {
    "collapsed": false,
    "slideshow": {
     "slide_type": "fragment"
    }
   },
   "outputs": [
    {
     "data": {
      "image/png": "[encoded data removed]",
      "text/plain": [
       "<matplotlib.figure.Figure at 0x10e53b6d8>"
      ]
     },
     "metadata": {},
     "output_type": "display_data"
    }
   ],
   "source": [
    "plot_base_error(ensemble_error, num_classifier=num_classifier, error_delta=error_delta)"
   ]
  },
  {
   "cell_type": "markdown",
   "metadata": {
    "slideshow": {
     "slide_type": "fragment"
    }
   },
   "source": [
    "# Number of classifiers (40 points)\n",
    "\n",
    "The function plot_base_error() above plots the ensemble error as a function of the base error given a fixed number of classifiers.\n",
    "\n",
    "Write another function to plot ensembe error versus different number of classifiers with a given base error.\n",
    "\n",
    "Does the ensemble error always go down with more classifiers? \n",
    "Why or why not?\n",
    "\n",
    "Can you improve the method ensemble_error() to produce a more reasonable plot?"
   ]
  },
  {
   "cell_type": "markdown",
   "metadata": {
    "slideshow": {
     "slide_type": "subslide"
    }
   },
   "source": [
    "## Answer\n",
    "\n",
    "The code for plotting is below:"
   ]
  },
  {
   "cell_type": "code",
   "execution_count": 7,
   "metadata": {
    "collapsed": true,
    "slideshow": {
     "slide_type": "fragment"
    }
   },
   "outputs": [],
   "source": [
    "def plot_num_classifier(ensemble_error_func, max_num_classifier, base_error):\n",
    "\n",
    "    num_classifiers = range(1, max_num_classifier+1)\n",
    "    ensemble_errors = [ensemble_error_func(num_classifier = num_classifier, base_error=base_error) for num_classifier in num_classifiers]\n",
    "\n",
    "    plt.plot(num_classifiers, ensemble_errors, \n",
    "             label = 'ensemble error',\n",
    "             linewidth = 2)\n",
    "    plt.plot(range(max_num_classifier), [base_error]*max_num_classifier,\n",
    "             label = 'base error',\n",
    "             linestyle = '--',\n",
    "             linewidth=2)\n",
    "    \n",
    "    plt.xlabel('num classifiers')\n",
    "    plt.ylabel('ensemble error')\n",
    "    plt.xlim([1, max_num_classifier])\n",
    "    plt.ylim([0, 1])\n",
    "    plt.title('base error %.2f' % base_error)\n",
    "    plt.legend(loc='best')\n",
    "    plt.grid()\n",
    "    plt.show()"
   ]
  },
  {
   "cell_type": "markdown",
   "metadata": {
    "slideshow": {
     "slide_type": "fragment"
    }
   },
   "source": [
    "As plotted below, increasing the number of classifiers may actually increase the error for ensemble_error().\n",
    "In particular, when we have an even number of classifiers $n$, the ensemble error computed is larger than using a smaller odd-number of classifiers $n-1$."
   ]
  },
  {
   "cell_type": "code",
   "execution_count": 8,
   "metadata": {
    "collapsed": true,
    "slideshow": {
     "slide_type": "fragment"
    }
   },
   "outputs": [],
   "source": [
    "max_num_classifiers = 20\n",
    "base_error = 0.25"
   ]
  },
  {
   "cell_type": "code",
   "execution_count": 9,
   "metadata": {
    "collapsed": false,
    "slideshow": {
     "slide_type": "fragment"
    }
   },
   "outputs": [
    {
     "data": {
      "image/png": "[encoded data removed]",
      "text/plain": [
       "<matplotlib.figure.Figure at 0x10e55dba8>"
      ]
     },
     "metadata": {},
     "output_type": "display_data"
    }
   ],
   "source": [
    "plot_num_classifier(ensemble_error, \n",
    "                    max_num_classifier=max_num_classifiers, \n",
    "                    base_error=base_error)"
   ]
  },
  {
   "cell_type": "markdown",
   "metadata": {
    "slideshow": {
     "slide_type": "fragment"
    }
   },
   "source": [
    "The reason is that the original method only applies when there is a clear majority, i.e. follow the vote made by more than half of classifiers.\n",
    "It does not apply to tie breaker situation, i.e. $2k = n$, when there is no clear choice:\n",
    "$$\n",
    "\\epsilon_{ensemble}\n",
    "= \n",
    "\\sum_{k=\\left\\lceil \\frac{n}{2} \\right\\rceil}^n C\\left(n, k\\right) \\epsilon^k \\left(1-\\epsilon\\right)^{n-k}\n",
    "$$\n",
    "\n",
    "Thus, when $2k = n$, the error is over-estimated by the above equation.\n",
    "For such tie-breaker situation, if we simply choose based on a coin flip (Bernoulli trial with uniform probability), the ensemble error should be:\n",
    "$$\n",
    "\\epsilon_{ensemble}\n",
    "= \n",
    "\\sum_{k=\\left\\lceil \\frac{n}{2} \\right\\rceil}^n \n",
    "\\left(\n",
    "C\\left(n, k\\right) \\epsilon^k \\left(1-\\epsilon\\right)^{n-k}\n",
    "\\times\n",
    "\\begin{cases}\n",
    "0.5 \\; if \\; 2k = n \\\\\n",
    "1 \\; else\n",
    "\\end{cases}\n",
    "\\right)\n",
    "$$\n",
    "\n",
    "The improved code is as follows with a more reasonable plot of ensemble error versus number of classifiers.\n",
    "\n",
    "#### More\n",
    "Can you devise a better tie-breaker strategy that ensures the curve is monotonically decreasing (instead of just non-increasing)? But you need to give enough explantions and analysis to your proposed methods instead of just plotting the result."
   ]
  },
  {
   "cell_type": "code",
   "execution_count": 10,
   "metadata": {
    "collapsed": true,
    "slideshow": {
     "slide_type": "fragment"
    }
   },
   "outputs": [],
   "source": [
    "def smooth_ensemble_error(num_classifier, base_error):\n",
    "    k_start = math.ceil(num_classifier/2)\n",
    "    probs = [comb(num_classifier, k)*(base_error**k)*((1-base_error)**(num_classifier-k))*(0.5 if 2*k == num_classifier else 1.0) for k in range(k_start, num_classifier+1)]\n",
    "    return sum(probs)\n",
    "    "
   ]
  },
  {
   "cell_type": "code",
   "execution_count": 14,
   "metadata": {
    "collapsed": false,
    "slideshow": {
     "slide_type": "fragment"
    }
   },
   "outputs": [],
   "source": [
    "# plot_base_error(smooth_ensemble_error, num_classifier=num_classifier, error_delta=error_delta)"
   ]
  },
  {
   "cell_type": "code",
   "execution_count": 15,
   "metadata": {
    "collapsed": false,
    "slideshow": {
     "slide_type": "fragment"
    }
   },
   "outputs": [
    {
     "data": {
      "image/png": "[encoded data removed]",
      "text/plain": [
       "<matplotlib.figure.Figure at 0x1119983c8>"
      ]
     },
     "metadata": {},
     "output_type": "display_data"
    }
   ],
   "source": [
    "plot_num_classifier(smooth_ensemble_error, \n",
    "                    max_num_classifier=max_num_classifiers, \n",
    "                    base_error=base_error)"
   ]
  },
  {
   "cell_type": "code",
   "execution_count": null,
   "metadata": {
    "collapsed": true
   },
   "outputs": [],
   "source": []
  }
 ],
 "metadata": {
  "anaconda-cloud": {},
  "celltoolbar": "Slideshow",
  "kernelspec": {
   "display_name": "Python [Root]",
   "language": "python",
   "name": "Python [Root]"
  },
  "language_info": {
   "codemirror_mode": {
    "name": "ipython",
    "version": 3
   },
   "file_extension": ".py",
   "mimetype": "text/x-python",
   "name": "python",
   "nbconvert_exporter": "python",
   "pygments_lexer": "ipython3",
   "version": "3.5.2"
  },
  "name": "_merged"
 },
 "nbformat": 4,
 "nbformat_minor": 0
}

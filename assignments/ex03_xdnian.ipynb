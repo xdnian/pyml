{
 "cells": [
  {
   "cell_type": "markdown",
   "metadata": {
    "slideshow": {
     "slide_type": "slide"
    }
   },
   "source": [
    "# Assignment 3 - basic classifiers\n",
    "\n",
    "Math practice and coding application for main classifiers introduced in Chapter 3 of the Python machine learning book. "
   ]
  },
  {
   "cell_type": "markdown",
   "metadata": {
    "slideshow": {
     "slide_type": "subslide"
    }
   },
   "source": [
    "## Weighting\n",
    "\n",
    "Note that this assignment is more difficult than the previous ones, and thus has a higher weighting 3 and longer duration (3 weeks). Each one of the previous two assignments has a weighting 1.\n",
    "\n",
    "Specifically, the first 3 assignments contribute to your continuous assessment as follows:\n",
    "\n",
    "Assignment weights: $w_1 = 1, w_2 = 1, w_3 = 3$\n",
    "\n",
    "Assignment grades: $g_1, g_2, g_3$\n",
    "\n",
    "Weighted average: $\\frac{1}{\\sum_i w_i} \\times \\sum_i \\left(w_i \\times g_i \\right)$\n",
    "\n",
    "Future assignments will be added analogously."
   ]
  },
  {
   "cell_type": "markdown",
   "metadata": {
    "slideshow": {
     "slide_type": "slide"
    }
   },
   "source": [
    "# RBF kernel (20 points)\n",
    "\n",
    "Show that a Gaussian RBF kernel can be expressed as a dot product:\n",
    "$$\n",
    "K(\\mathbf{x}, \\mathbf{y}) \n",
    "= e^\\frac{-|\\mathbf{x} - \\mathbf{y}|^2}{2} \n",
    "= \\phi(\\mathbf{x})^T \\phi(\\mathbf{y})\n",
    "$$\n",
    "by spelling out the mapping function $\\phi$.\n",
    "\n",
    "For simplicity\n",
    "* you can assume both $\\mathbf{x}$ and $\\mathbf{y}$ are 2D vectors\n",
    "$\n",
    "x =\n",
    "\\begin{pmatrix}\n",
    "x_1 \\\\\n",
    "x_2\n",
    "\\end{pmatrix}\n",
    ", \\;\n",
    "y =\n",
    "\\begin{pmatrix}\n",
    "y_1 \\\\\n",
    "y_2\n",
    "\\end{pmatrix}\n",
    "$\n",
    "* we use a scalar unit variance here\n",
    "\n",
    "even though the proof can be extended for vectors $\\mathbf{x}$ $\\mathbf{y}$ and general covariance matrices.\n",
    "\n",
    "Hint: use Taylor series expansion of the exponential function"
   ]
  },
  {
   "cell_type": "markdown",
   "metadata": {
    "slideshow": {
     "slide_type": "subslide"
    }
   },
   "source": [
    "According to Taylor series,\n",
    "$$\n",
    "K(\\mathbf{x}, \\mathbf{y}) \n",
    "= e^\\frac{-|\\mathbf{x} - \\mathbf{y}|^2}{2} \n",
    "= e^\\frac{-\\left \\| \\mathbf{x} \\right \\|^2}{2}\\cdot e^\\frac{-\\left \\| \\mathbf{y} \\right \\|^2}{2}\\cdot e^{\\mathbf{x}^{T} \\mathbf{y}}\n",
    "= e^\\frac{-\\left \\| \\mathbf{x} \\right \\|^2}{2}\\cdot e^\\frac{-\\left \\| \\mathbf{y} \\right \\|^2}{2}\n",
    "\\cdot \\sum_{n=0}^{\\infty}\\frac{(\\mathbf{x}^T \\mathbf{y})^n}{n!}\n",
    "$$\n",
    "\n",
    "Let \n",
    "$$K'(\\mathbf{x}, \\mathbf{y}) = \\sum_{n=0}^{\\infty}\\frac{(\\mathbf{x}^T \\mathbf{y})^n}{n!}=1+(x_1y_1+x_2y_2)+\\frac{(x_1y_1+x_2y_2)^2}{2}+\\cdots,\n",
    "$$ \n",
    "which is a polynomial kernel of degree $n$.\n",
    "\n",
    "Thus, $K'(\\mathbf{x}, \\mathbf{y})$ corresponds to kernel function \n",
    "$\\phi^*(x) = [1, x_1, x_2, \\frac{{x_1}^{2}}{\\sqrt{2}}, x_1x_2, \\frac{{x_2}^{2}}{\\sqrt{2}}, ...]$, and\n",
    "\n",
    "$$\n",
    "\\phi(\\mathbf{x}) = e^{-\\frac{||\\mathbf{x}||^2}{2}} \\cdot \\phi^*(\\mathbf{x})= e^{-\\frac{||\\mathbf{x}||^2}{2}} \\cdot [1, x_1, x_2, \\frac{{x_1}^{2}}{\\sqrt{2}}, x_1x_2, \\frac{{x_2}^{2}}{\\sqrt{2}}, ...]\n",
    "$$\n",
    "\n",
    "To be specified, the $(\\frac{n(n+1)}{2}+i+1)^{th}$ item in $\\phi^*(\\mathbf{x})$ is,\n",
    "\n",
    "$$\n",
    "\\phi_{\\frac{n(n+1)}{2}+i+1}^*(\\mathbf{x}) = \\frac{x_1^i x_2^{n-i}}{\\sqrt{i!(n-i)!}},\\quad \\forall n=0,1,2,\\ldots \\,\\,\\, \\textrm{and} \\quad i=0,1,2,\\ldots,n\n",
    "$$"
   ]
  },
  {
   "cell_type": "markdown",
   "metadata": {
    "slideshow": {
     "slide_type": "slide"
    }
   },
   "source": [
    "# Kernel SVM complexity (10 points)\n",
    "\n",
    "How would the complexity (in terms of number of parameters) of a trained kernel SVM change with the amount of training data, and why?\n",
    "Note that the answer may depend on the specific kernel used as well as the amount of training data.\n",
    "Consider specifically the following types of kernels $K(\\mathbf{x}, \\mathbf{y})$.\n",
    "* linear:\n",
    "$$\n",
    "K\\left(\\mathbf{x}, \\mathbf{y}\\right) = \\mathbf{x}^T \\mathbf{y}\n",
    "$$\n",
    "* polynomial with degree $q$:\n",
    "$$\n",
    "K\\left(\\mathbf{x}, \\mathbf{y}\\right) =\n",
    "(\\mathbf{x}^T\\mathbf{y} + 1)^q\n",
    "$$\n",
    "* RBF with distance function $D$:\n",
    "$$\n",
    "K\\left(\\mathbf{x}, \\mathbf{y} \\right) = e^{-\\frac{D\\left(\\mathbf{x}, \\mathbf{y} \\right)}{2s^2}}\n",
    "$$\n"
   ]
  },
  {
   "cell_type": "markdown",
   "metadata": {
    "slideshow": {
     "slide_type": "subslide"
    }
   },
   "source": [
    "Let $n$ is the number of parameters.\n",
    "\n",
    "For linear kernel $K\\left(\\mathbf{x}, \\mathbf{y}\\right) = \\mathbf{x}^T \\mathbf{y}$, the mapping function is $\\phi(x)=[x_1, x_2, x_3, ..., x_n]^T$. Thus, the complexity is $\\mathbf{O}(n)$. The complexity will linearly increase as the increasement of amount of training data.\n",
    "\n",
    "For polynomial kernel, $K(\\mathbf{x},\\mathbf{y})=\\left(\\mathbf{x}^{T}\\mathbf{y}+1\\right)^{q}=\\left(1+x_1 y_1+x_2 y_2+\\ldots+x_n y_n\\right)^{q}=\\phi(\\mathbf{x})^{T}\\phi(\\mathbf{y})$, where $\\phi(\\mathbf{x})$ has $\\binom{n+q}{n}$ elements. Thus, the complexity is $\\mathbf{O\\left( n^q \\right)}$. The complexity will increase to the power of $q$ as the increasement of amount of training data.\n",
    "\n",
    "For RBF kernel $K\\left(\\mathbf{x}, \\mathbf{y} \\right) = e^{-\\frac{D\\left(\\mathbf{x}, \\mathbf{y} \\right)}{2s^2}}$, as shown in Q1, the $K\\left(\\mathbf{x}, \\mathbf{y} \\right)$ can be written in the form of $\\phi(\\mathbf{x})^T \\cdot \\phi(\\mathbf{y})$, in which the $\\phi(\\mathbf{x})$ is of infinite dimension. Thus, the complexity is infinite and remain the same when the number of parameter increases."
   ]
  },
  {
   "cell_type": "markdown",
   "metadata": {
    "slideshow": {
     "slide_type": "slide"
    }
   },
   "source": [
    "# Gaussian density Bayes (30 points)\n",
    "\n",
    "$$\n",
    "p\\left(\\Theta | \\mathbf{X}\\right)\n",
    "= \n",
    "\\frac{p\\left(\\mathbf{X} | \\Theta\\right) p\\left(\\Theta\\right)}{p\\left(\\mathbf{X}\\right)}\n",
    "$$\n",
    "\n",
    "Assume both the likelihood and prior have Gaussian distributions:\n",
    "\n",
    "$$\n",
    "\\begin{align}\n",
    "p(\\mathbf{X} | \\Theta)\n",
    "&=\n",
    "\\frac{1}{(2\\pi)^{N/2}\\sigma^N} \\exp\\left(-\\frac{\\sum_{t=1}^N (\\mathbf{x}^{(t)} - \\Theta)^2}{2\\sigma^2}\\right)\n",
    "\\\\\n",
    "p(\\Theta)\n",
    "&=\n",
    "\\frac{1}{\\sqrt{2\\pi}\\sigma_0} \\exp\\left( -\\frac{(\\Theta - \\mu_0)^2}{2\\sigma_0^2} \\right)\n",
    "\\end{align}\n",
    "$$\n",
    "\n",
    "Derive $\\Theta$ from the dataset $\\mathbf{X}$ via the following methods:\n",
    "\n",
    "### ML (maximum likelihood) estimation \n",
    "$$\n",
    "\\Theta_{ML} = argmax_{\\Theta} p(\\mathbf{X} | \\Theta)\n",
    "$$\n",
    "\n",
    "### MAP estimation\n",
    "$$\n",
    "\\begin{align}\n",
    "\\Theta_{MAP} \n",
    "&= \n",
    "argmax_{\\Theta} p(\\Theta | \\mathbf{X})\n",
    "\\\\\n",
    "&=\n",
    "argmax_{\\Theta} p(\\mathbf{X} | \\Theta) p(\\Theta)\n",
    "\\end{align}\n",
    "$$\n",
    "\n",
    "### Bayes estimation\n",
    "\n",
    "$$\n",
    "\\begin{align}\n",
    "\\Theta_{Bayes} \n",
    "&= \n",
    "E(\\Theta | \\mathbf{X})\n",
    "\\\\\n",
    "&= \n",
    "\\int \\Theta p(\\Theta | \\mathbf{X}) d\\Theta\n",
    "\\end{align}\n",
    "$$"
   ]
  },
  {
   "cell_type": "markdown",
   "metadata": {
    "slideshow": {
     "slide_type": "subslide"
    }
   },
   "source": [
    "### ML (maximum likelihood) estimation\n",
    "$$\n",
    "\\begin{align}\n",
    "arg\\max_{\\Theta} p(\\mathbf{X} | \\Theta)\n",
    "&\\Leftrightarrow arg\\max_{\\Theta} \\left(exp\\left(-\\frac{\\sum_{t=1}^{N}(x^{(t)}-\\Theta)^2)}{2\\sigma^2}\\right)\\right) \n",
    "\\\\\n",
    "&\\Leftrightarrow arg\\min_{\\Theta} \\sum_{t=1}^N \\left(\\mathbf{x}^{(t)} - \\Theta \\right)^2 \n",
    "\\\\\n",
    "&\\Rightarrow \\frac{\\partial }{\\partial \\Theta}\\sum_{t=1}^N \\left(\\mathbf{x}^{(t)} - \\Theta \\right)^2 = 0 \n",
    "\\\\\n",
    "&\\therefore \\Theta_{ML} = \\bar{x}\n",
    "\\end{align}\n",
    "$$\n",
    "\n",
    "<br><br>\n",
    "\n",
    "### MAP estimation\n",
    "$$\n",
    "\\begin{align}\n",
    "arg\\max_{\\Theta} p(\\Theta | \\mathbf{X}) \n",
    "&\\Leftrightarrow arg\\max_{\\Theta}\\left(\\exp\\left(-\\frac{\\sum_{t=1}^N (\\mathbf{x}^{(t)} - \\Theta)^2}{2\\sigma^2} -\\frac{(\\Theta - \\mu_0)^2}{2\\sigma_0^2} \\right)\\right) \n",
    "\\\\\n",
    "&\\Leftrightarrow arg\\min_{\\Theta}\\left( \\frac{\\sum_{t=1}^N (\\mathbf{x}^{(t)} - \\Theta)^2}{2\\sigma^2} + \\frac{(\\Theta - \\mu_0)^2}{2\\sigma_0^2} \\right) \n",
    "\\\\\n",
    "&\\Rightarrow \\frac{\\partial }{\\partial \\Theta}\\left( \\frac{\\sum_{t=1}^N (\\mathbf{x}^{(t)} - \\Theta)^2}{2\\sigma^2} + \\frac{(\\Theta - \\mu_0)^2}{2\\sigma_0^2} \\right) = 0 \n",
    "\\\\\n",
    "&\\therefore \\Theta_{MAP} = \\frac{\\frac{N\\bar{x}}{\\sigma^2}+\\frac{\\mu_0}{\\sigma_0^2}}{\\frac{N}{\\sigma^2}+\\frac{1}{\\sigma_0^2}}\n",
    "\\end{align}\n",
    "$$\n",
    "\n",
    "<br><br>\n",
    "\n",
    "### Bayes estimation\n",
    "$$\n",
    "\\begin{align}\n",
    "p(\\Theta|\\mathbf{X})\n",
    "&\\propto p(\\mathbf{X}|\\Theta)p(\\Theta)\n",
    "\\\\\n",
    "&\\propto \\exp\\left(-\\frac{\\sum_{t=1}^N (\\mathbf{x}^{(t)} - \\Theta)^2}{2\\sigma^2} -\\frac{(\\Theta - \\mu_0)^2}{2\\sigma_0^2} \\right)\n",
    "\\\\\n",
    "&= \\exp\\left(-\\frac{\\sum_{t=1}^{N}{\\left(\\mathbf{x}^{(t)}-\\bar{\\mathbf{X}}\\right)}^{2}+N\\left(\\bar{\\mathbf{X}}-\\Theta\\right)^{2}}{2\\sigma^2}-\\frac{(\\Theta-\\mu_0)^{2}}{2{\\sigma_0}^{2}}\\right)\n",
    "\\\\\n",
    "&\\propto \\exp\\left(-\\frac{N\\left(\\bar{\\mathbf{X}}-\\Theta\\right)^{2}}{2\\sigma^2}-\\frac{(\\Theta-\\mu_0)^{2}}{2{\\sigma_0}^{2}}\\right)\n",
    "\\\\\n",
    "&\\propto \\exp\\left(-\\left(\\frac{N}{2\\sigma^2}+\\frac{1}{2{\\sigma_0}^{2}}\\right)\\Theta^2+\\left(\\frac{N\\bar{\\mathbf{X}}}{\\sigma^2}+\\frac{\\mu_0}{{\\sigma_0}^{2}}\\right)\\Theta\\right)\n",
    "\\\\\n",
    "&\\propto\n",
    "\\exp\\left(-\\frac{(\\Theta-\\mu_0')^2}{2{\\sigma'}^2}\\right)\n",
    "\\\\\n",
    "&\n",
    "where \\space \\mu_0' = \\frac{\\frac{N\\bar{x}}{\\sigma^2}+\\frac{\\mu_0}{\\sigma_0^2}}{\\frac{N}{\\sigma^2}+\\frac{1}{\\sigma_0^2}},\\space {\\sigma'}^2=\\frac{1}{\\frac{N}{\\sigma^2}+\\frac{1}{\\sigma_0^2}}\n",
    "\\end{align}\n",
    "$$\n",
    "\n",
    "$\n",
    "\\therefore \\Theta|\\mathbf{X}\\,\\,\\textrm{~}\\,\\, N\\left(\\mu_0',\\sigma'\\right) \\space , and \\quad\n",
    "\\Theta_{Bayes} = E(\\Theta|\\mathbf{X}) = \\mu_0' = \\frac{\\frac{N\\bar{x}}{\\sigma^2}+\\frac{\\mu_0}{\\sigma_0^2}}{\\frac{N}{\\sigma^2}+\\frac{1}{\\sigma_0^2}}\n",
    "$"
   ]
  },
  {
   "cell_type": "markdown",
   "metadata": {
    "slideshow": {
     "slide_type": "slide"
    }
   },
   "source": [
    "# Hand-written digit classification (40 points)\n",
    "\n",
    "In the textbook sample code we applied different scikit-learn classifers for the Iris data set.\n",
    "\n",
    "In this exercise, we will apply the same set of classifiers over a different data set: hand-written digits.\n",
    "Please write down the code for different classifiers, choose their hyper-parameters, and compare their performance via the accuracy score as in the Iris dataset.\n",
    "Which classifier(s) perform(s) the best and worst, and why?\n",
    "\n",
    "The classifiers include:\n",
    "* perceptron\n",
    "* logistic regression\n",
    "* SVM\n",
    "* decision tree\n",
    "* random forest\n",
    "* KNN\n",
    "* naive Bayes\n",
    "\n",
    "The dataset is available as part of scikit learn, as follows."
   ]
  },
  {
   "cell_type": "code",
   "execution_count": 1,
   "metadata": {
    "collapsed": false,
    "slideshow": {
     "slide_type": "skip"
    }
   },
   "outputs": [
    {
     "name": "stdout",
     "output_type": "stream",
     "text": [
      "last updated: 2016-10-20 \n",
      "\n",
      "CPython 3.5.2\n",
      "IPython 4.2.0\n",
      "\n",
      "numpy 1.11.1\n",
      "pandas 0.18.1\n",
      "matplotlib 1.5.3\n",
      "scipy 0.18.0\n",
      "sklearn 0.17.1\n"
     ]
    }
   ],
   "source": [
    "%load_ext watermark\n",
    "%watermark -a '' -u -d -v -p numpy,pandas,matplotlib,scipy,sklearn\n",
    "%matplotlib inline"
   ]
  },
  {
   "cell_type": "code",
   "execution_count": 2,
   "metadata": {
    "collapsed": true,
    "slideshow": {
     "slide_type": "skip"
    }
   },
   "outputs": [],
   "source": [
    "# Added version check for recent scikit-learn 0.18 checks\n",
    "from distutils.version import LooseVersion as Version\n",
    "from sklearn import __version__ as sklearn_version"
   ]
  },
  {
   "cell_type": "markdown",
   "metadata": {
    "slideshow": {
     "slide_type": "fragment"
    }
   },
   "source": [
    "## Load data"
   ]
  },
  {
   "cell_type": "code",
   "execution_count": 3,
   "metadata": {
    "collapsed": false,
    "slideshow": {
     "slide_type": "fragment"
    }
   },
   "outputs": [
    {
     "name": "stdout",
     "output_type": "stream",
     "text": [
      "(1797, 64)\n",
      "(1797,)\n"
     ]
    }
   ],
   "source": [
    "from sklearn.datasets import load_digits\n",
    "digits = load_digits()\n",
    "\n",
    "X = digits.data # training data\n",
    "y = digits.target # training label\n",
    "\n",
    "print(X.shape)\n",
    "print(y.shape)"
   ]
  },
  {
   "cell_type": "markdown",
   "metadata": {
    "slideshow": {
     "slide_type": "fragment"
    }
   },
   "source": [
    "## Visualize data"
   ]
  },
  {
   "cell_type": "code",
   "execution_count": 4,
   "metadata": {
    "collapsed": false,
    "slideshow": {
     "slide_type": "fragment"
    }
   },
   "outputs": [
    {
     "data": {
      "image/png": "[encoded data removed]",
      "text/plain": [
       "<matplotlib.figure.Figure at 0x2623935e5c0>"
      ]
     },
     "metadata": {},
     "output_type": "display_data"
    }
   ],
   "source": [
    "import matplotlib.pyplot as plt\n",
    "import pylab as pl\n",
    "\n",
    "num_rows = 4\n",
    "num_cols = 5\n",
    "\n",
    "fig, ax = plt.subplots(nrows=num_rows, ncols=num_cols, sharex=True, sharey=True)\n",
    "ax = ax.flatten()\n",
    "for index in range(num_rows*num_cols):\n",
    "    img = digits.images[index]\n",
    "    label = digits.target[index]\n",
    "    ax[index].imshow(img, cmap='Greys', interpolation='nearest')\n",
    "    ax[index].set_title('digit ' + str(label))\n",
    "\n",
    "ax[0].set_xticks([])\n",
    "ax[0].set_yticks([])\n",
    "plt.tight_layout()\n",
    "plt.show()"
   ]
  },
  {
   "cell_type": "markdown",
   "metadata": {
    "slideshow": {
     "slide_type": "fragment"
    }
   },
   "source": [
    "## Date Preprocessing\n",
    "Hint: How you divide training and test data set? And apply other techinques we have learned if needed.\n",
    "You could take a look at the Iris data set case in the textbook."
   ]
  },
  {
   "cell_type": "code",
   "execution_count": 5,
   "metadata": {
    "collapsed": false,
    "slideshow": {
     "slide_type": "fragment"
    }
   },
   "outputs": [
    {
     "name": "stdout",
     "output_type": "stream",
     "text": [
      "training: 1257, test: 540\n"
     ]
    }
   ],
   "source": [
    "#Your code comes here\n",
    "import numpy as np\n",
    "from sklearn.metrics import accuracy_score\n",
    "if Version(sklearn_version) < '0.18':\n",
    "    from sklearn.cross_validation import train_test_split\n",
    "else:\n",
    "    from sklearn.model_selection import train_test_split\n",
    "\n",
    "X_train, X_test, y_train, y_test = train_test_split(X, y, test_size = 0.3, random_state = 0)\n",
    "\n",
    "num_training = y_train.shape[0]\n",
    "num_test = y_test.shape[0]\n",
    "print('training: ' + str(num_training) + ', test: ' + str(num_test))\n",
    "\n",
    "from sklearn.preprocessing import StandardScaler\n",
    "\n",
    "sc = StandardScaler()\n",
    "sc.fit(X_train)\n",
    "X_train_std = sc.transform(X_train)\n",
    "X_test_std = sc.transform(X_test)"
   ]
  },
  {
   "cell_type": "markdown",
   "metadata": {
    "slideshow": {
     "slide_type": "fragment"
    }
   },
   "source": [
    "## Classifier #1 Perceptron"
   ]
  },
  {
   "cell_type": "code",
   "execution_count": 6,
   "metadata": {
    "collapsed": false,
    "slideshow": {
     "slide_type": "fragment"
    }
   },
   "outputs": [
    {
     "name": "stdout",
     "output_type": "stream",
     "text": [
      "[Perceptron] Accuracy: 0.93\n"
     ]
    }
   ],
   "source": [
    "#Your code, including traing and testing, to observe the accuracies.\n",
    "from sklearn.linear_model import Perceptron\n",
    "\n",
    "ppn = Perceptron(n_iter = 40, eta0 = 0.1, random_state = 0)\n",
    "ppn.fit(X_train_std, y_train)\n",
    "y_pred = ppn.predict(X_test_std)\n",
    "print('[Perceptron] Accuracy: %.2f' % accuracy_score(y_test, y_pred))"
   ]
  },
  {
   "cell_type": "markdown",
   "metadata": {
    "slideshow": {
     "slide_type": "fragment"
    }
   },
   "source": [
    "## Classifier #2 Logistic Regression"
   ]
  },
  {
   "cell_type": "code",
   "execution_count": 7,
   "metadata": {
    "collapsed": false,
    "slideshow": {
     "slide_type": "fragment"
    }
   },
   "outputs": [
    {
     "name": "stdout",
     "output_type": "stream",
     "text": [
      "[Logistic Regression] Accuracy: 0.94\n"
     ]
    }
   ],
   "source": [
    "#Your code, including traing and testing, to observe the accuracies.\n",
    "from sklearn.linear_model import LogisticRegression\n",
    "\n",
    "lr = LogisticRegression(C = 1000.0, random_state = 0)\n",
    "lr.fit(X_train_std, y_train)\n",
    "y_pred = lr.predict(X_test_std)\n",
    "print('[Logistic Regression] Accuracy: %.2f' % accuracy_score(y_test, y_pred))"
   ]
  },
  {
   "cell_type": "markdown",
   "metadata": {
    "slideshow": {
     "slide_type": "fragment"
    }
   },
   "source": [
    "## Classifier #3 SVM"
   ]
  },
  {
   "cell_type": "code",
   "execution_count": 8,
   "metadata": {
    "collapsed": false,
    "slideshow": {
     "slide_type": "fragment"
    }
   },
   "outputs": [
    {
     "name": "stdout",
     "output_type": "stream",
     "text": [
      "[Linear SVM] Accuracy: 0.97\n",
      "[RBF SVM] Accuracy: 0.95\n"
     ]
    }
   ],
   "source": [
    "#Your code, including traing and testing, to observe the accuracies.\n",
    "from sklearn.svm import SVC\n",
    "\n",
    "#Linear SVM\n",
    "svm0 = SVC(kernel='linear', C = 1.0, random_state = 0)\n",
    "svm0.fit(X_train_std, y_train)\n",
    "y_pred0 = svm0.predict(X_test_std)\n",
    "\n",
    "#RBF SVM\n",
    "svm1 = SVC(kernel='rbf', random_state = 0, gamma = 0.1, C = 1.0)\n",
    "svm1.fit(X_train_std, y_train)\n",
    "y_pred1 = svm1.predict(X_test_std)\n",
    "\n",
    "print('[Linear SVM] Accuracy: %.2f' % accuracy_score(y_test, y_pred0))\n",
    "print('[RBF SVM] Accuracy: %.2f' % accuracy_score(y_test, y_pred1))"
   ]
  },
  {
   "cell_type": "markdown",
   "metadata": {
    "slideshow": {
     "slide_type": "fragment"
    }
   },
   "source": [
    "## Classifier #4 Decision Tree"
   ]
  },
  {
   "cell_type": "code",
   "execution_count": 9,
   "metadata": {
    "collapsed": false,
    "slideshow": {
     "slide_type": "fragment"
    }
   },
   "outputs": [
    {
     "name": "stdout",
     "output_type": "stream",
     "text": [
      "[Decision Tree] Accuracy: 0.86\n"
     ]
    }
   ],
   "source": [
    "#Your code, including traing and testing, to observe the accuracies.\n",
    "from sklearn.tree import DecisionTreeClassifier\n",
    "\n",
    "dt = DecisionTreeClassifier(criterion='entropy', max_depth=10, random_state=0)\n",
    "dt.fit(X_train_std, y_train)\n",
    "y_pred = dt.predict(X_test_std)\n",
    "print('[Decision Tree] Accuracy: %.2f' % accuracy_score(y_test, y_pred))"
   ]
  },
  {
   "cell_type": "markdown",
   "metadata": {
    "slideshow": {
     "slide_type": "fragment"
    }
   },
   "source": [
    "## Classifer #5 Random Forest"
   ]
  },
  {
   "cell_type": "code",
   "execution_count": 10,
   "metadata": {
    "collapsed": false
   },
   "outputs": [
    {
     "name": "stdout",
     "output_type": "stream",
     "text": [
      "[Random Forest] Accuracy: 0.94\n"
     ]
    }
   ],
   "source": [
    "#Your code, including traing and testing, to observe the accuracies.\n",
    "from sklearn.ensemble import RandomForestClassifier\n",
    "\n",
    "rf =RandomForestClassifier(criterion='entropy', n_estimators=10, random_state=1, n_jobs=2)\n",
    "rf.fit(X_train_std, y_train)\n",
    "y_pred = rf.predict(X_test_std)\n",
    "print('[Random Forest] Accuracy: %.2f' % accuracy_score(y_test, y_pred))"
   ]
  },
  {
   "cell_type": "markdown",
   "metadata": {
    "slideshow": {
     "slide_type": "fragment"
    }
   },
   "source": [
    "## Classifier #6 KNN"
   ]
  },
  {
   "cell_type": "code",
   "execution_count": 11,
   "metadata": {
    "collapsed": false
   },
   "outputs": [
    {
     "name": "stdout",
     "output_type": "stream",
     "text": [
      "[KNN] Accuracy: 0.97\n"
     ]
    }
   ],
   "source": [
    "#Your code, including traing and testing, to observe the accuracies.\n",
    "from sklearn.neighbors import KNeighborsClassifier\n",
    "\n",
    "knn = KNeighborsClassifier(n_neighbors = 5, p = 2, metric = 'minkowski')\n",
    "knn.fit(X_train_std, y_train)\n",
    "y_pred = knn.predict(X_test_std)\n",
    "print('[KNN] Accuracy: %.2f' % accuracy_score(y_test, y_pred))"
   ]
  },
  {
   "cell_type": "markdown",
   "metadata": {
    "slideshow": {
     "slide_type": "fragment"
    }
   },
   "source": [
    "## Classifier #7 Naive Bayes"
   ]
  },
  {
   "cell_type": "code",
   "execution_count": 12,
   "metadata": {
    "collapsed": false
   },
   "outputs": [
    {
     "name": "stdout",
     "output_type": "stream",
     "text": [
      "[Naive Bayes] Accuracy: 0.77\n"
     ]
    }
   ],
   "source": [
    "#Your code, including traing and testing, to observe the accuracies.\n",
    "from sklearn.naive_bayes import GaussianNB\n",
    "\n",
    "gnb = GaussianNB()\n",
    "gnb.fit(X_train_std, y_train)\n",
    "y_pred = gnb.predict(X_test_std)\n",
    "print('[Naive Bayes] Accuracy: %.2f' % accuracy_score(y_test, y_pred))"
   ]
  },
  {
   "cell_type": "markdown",
   "metadata": {
    "slideshow": {
     "slide_type": "subslide"
    }
   },
   "source": [
    "Best classifers: *Linear SVM*, *Random Forest*, *KNN*\n",
    "\n",
    "* KNN: deterimines the class label of a new data point by a majority vote among its k nearest neighbours. The cost of the learning process is zero. \n",
    "* Random Forest: ensembles of decision tree in some way. Weak learners are combined to build a more robust model (strong learner) that has better generalization error and is less susceptible to overfitting. \n",
    "* Linear SVM: maximizes margins to nearest samples and is more robust against outliers.\n",
    "\n",
    "Worst classifer: *Naive Bayes* (with accuracy score 0.77), because\n",
    "\n",
    "* Its strong feature independence assumption may not help in real practices. \n",
    "* Specifying a prior is theoratically possible but infeasible in many cases. \n",
    "\n"
   ]
  }
 ],
 "metadata": {
  "anaconda-cloud": {},
  "celltoolbar": "Slideshow",
  "kernelspec": {
   "display_name": "Python [Root]",
   "language": "python",
   "name": "Python [Root]"
  },
  "language_info": {
   "codemirror_mode": {
    "name": "ipython",
    "version": 3
   },
   "file_extension": ".py",
   "mimetype": "text/x-python",
   "name": "python",
   "nbconvert_exporter": "python",
   "pygments_lexer": "ipython3",
   "version": "3.5.2"
  }
 },
 "nbformat": 4,
 "nbformat_minor": 0
}

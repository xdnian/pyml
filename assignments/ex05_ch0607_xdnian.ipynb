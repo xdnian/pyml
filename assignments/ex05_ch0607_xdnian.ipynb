{
 "cells": [
  {
   "cell_type": "markdown",
   "metadata": {},
   "source": [
    "# Assignment 5\n",
    "\n",
    "This assignment has weighting $1.5$.\n",
    "\n",
    "Author: Nian Xiaodong (3035087112)"
   ]
  },
  {
   "cell_type": "markdown",
   "metadata": {
    "slideshow": {
     "slide_type": "slide"
    }
   },
   "source": [
    "# Model tuning and evaluation"
   ]
  },
  {
   "cell_type": "code",
   "execution_count": 1,
   "metadata": {
    "collapsed": true,
    "slideshow": {
     "slide_type": "skip"
    }
   },
   "outputs": [],
   "source": [
    "# Added version check for recent scikit-learn 0.18 checks\n",
    "from distutils.version import LooseVersion as Version\n",
    "from sklearn import __version__ as sklearn_version"
   ]
  },
  {
   "cell_type": "markdown",
   "metadata": {
    "slideshow": {
     "slide_type": "slide"
    }
   },
   "source": [
    "## Dataset\n",
    "\n",
    "We will use the Wisconsin breast cancer dataset for the following questions"
   ]
  },
  {
   "cell_type": "code",
   "execution_count": 2,
   "metadata": {
    "collapsed": true,
    "slideshow": {
     "slide_type": "fragment"
    }
   },
   "outputs": [],
   "source": [
    "import pandas as pd\n",
    "\n",
    "wdbc_source = 'https://archive.ics.uci.edu/ml/machine-learning-databases/breast-cancer-wisconsin/wdbc.data'\n",
    "#wdbc_source = '../datasets/wdbc/wdbc.data'\n",
    "\n",
    "df = pd.read_csv(wdbc_source, header=None)"
   ]
  },
  {
   "cell_type": "code",
   "execution_count": 3,
   "metadata": {
    "collapsed": false,
    "slideshow": {
     "slide_type": "fragment"
    }
   },
   "outputs": [
    {
     "data": {
      "text/plain": [
       "array([1, 0], dtype=int64)"
      ]
     },
     "execution_count": 3,
     "metadata": {},
     "output_type": "execute_result"
    }
   ],
   "source": [
    "from sklearn.preprocessing import LabelEncoder\n",
    "X = df.loc[:, 2:].values\n",
    "y = df.loc[:, 1].values\n",
    "le = LabelEncoder()\n",
    "y = le.fit_transform(y)\n",
    "le.transform(['M', 'B'])"
   ]
  },
  {
   "cell_type": "code",
   "execution_count": 4,
   "metadata": {
    "collapsed": false,
    "slideshow": {
     "slide_type": "fragment"
    }
   },
   "outputs": [],
   "source": [
    "if Version(sklearn_version) < '0.18':\n",
    "    from sklearn.cross_validation import train_test_split\n",
    "else:\n",
    "    from sklearn.model_selection import train_test_split\n",
    "\n",
    "X_train, X_test, y_train, y_test = \\\n",
    "    train_test_split(X, y, test_size=0.20, random_state=1)"
   ]
  },
  {
   "cell_type": "code",
   "execution_count": 5,
   "metadata": {
    "collapsed": true,
    "slideshow": {
     "slide_type": "skip"
    }
   },
   "outputs": [],
   "source": [
    "%matplotlib inline"
   ]
  },
  {
   "cell_type": "markdown",
   "metadata": {
    "slideshow": {
     "slide_type": "slide"
    }
   },
   "source": [
    "# K-fold validation (20 points)\n",
    "\n",
    "Someone wrote the code below to conduct cross validation.\n",
    "Do you see anything wrong with it?\n",
    "And if so, correct the code and provide an explanation."
   ]
  },
  {
   "cell_type": "code",
   "execution_count": 6,
   "metadata": {
    "collapsed": false,
    "slideshow": {
     "slide_type": "fragment"
    }
   },
   "outputs": [
    {
     "name": "stdout",
     "output_type": "stream",
     "text": [
      "Epoch: 0, Fold: 0, Class dist.: [256 153], Acc: 0.913\n",
      "Epoch: 0, Fold: 1, Class dist.: [256 153], Acc: 0.978\n",
      "Epoch: 0, Fold: 2, Class dist.: [256 153], Acc: 0.935\n",
      "Epoch: 0, Fold: 3, Class dist.: [256 153], Acc: 0.935\n",
      "Epoch: 0, Fold: 4, Class dist.: [256 153], Acc: 0.957\n",
      "Epoch: 0, Fold: 5, Class dist.: [257 153], Acc: 1.000\n",
      "Epoch: 0, Fold: 6, Class dist.: [257 153], Acc: 0.933\n",
      "Epoch: 0, Fold: 7, Class dist.: [257 153], Acc: 0.978\n",
      "Epoch: 0, Fold: 8, Class dist.: [257 153], Acc: 0.978\n",
      "Epoch: 0, Fold: 9, Class dist.: [257 153], Acc: 0.978\n",
      "\n",
      "Epoch: 1, Fold: 0, Class dist.: [256 153], Acc: 0.913\n",
      "Epoch: 1, Fold: 1, Class dist.: [256 153], Acc: 0.978\n",
      "Epoch: 1, Fold: 2, Class dist.: [256 153], Acc: 0.935\n",
      "Epoch: 1, Fold: 3, Class dist.: [256 153], Acc: 0.935\n",
      "Epoch: 1, Fold: 4, Class dist.: [256 153], Acc: 0.957\n",
      "Epoch: 1, Fold: 5, Class dist.: [257 153], Acc: 1.000\n",
      "Epoch: 1, Fold: 6, Class dist.: [257 153], Acc: 0.933\n",
      "Epoch: 1, Fold: 7, Class dist.: [257 153], Acc: 0.978\n",
      "Epoch: 1, Fold: 8, Class dist.: [257 153], Acc: 0.978\n",
      "Epoch: 1, Fold: 9, Class dist.: [257 153], Acc: 0.978\n",
      "\n",
      "\n",
      "CV accuracy: 0.958 +/- 0.027\n"
     ]
    }
   ],
   "source": [
    "import numpy as np\n",
    "import copy\n",
    "from sklearn.preprocessing import StandardScaler\n",
    "from sklearn.decomposition import PCA\n",
    "from sklearn.linear_model import Perceptron\n",
    "from sklearn.pipeline import Pipeline\n",
    "\n",
    "if Version(sklearn_version) < '0.18':\n",
    "    from sklearn.cross_validation import StratifiedKFold\n",
    "else:\n",
    "    from sklearn.model_selection import StratifiedKFold\n",
    "\n",
    "scl = StandardScaler()\n",
    "pca = PCA(n_components=2)\n",
    "clf = Perceptron(random_state=1)\n",
    "\n",
    "# data preprocessing\n",
    "X_train_std = scl.fit_transform(X_train)\n",
    "X_test_std = scl.transform(X_test)\n",
    "\n",
    "X_train_pca = pca.fit_transform(X_train_std)\n",
    "X_test_pca = pca.transform(X_test_std)\n",
    "\n",
    "# compute the data indices for each fold\n",
    "if Version(sklearn_version) < '0.18':\n",
    "    kfold = StratifiedKFold(y=y_train, \n",
    "                            n_folds=10,\n",
    "                            random_state=1)\n",
    "else:\n",
    "    kfold = StratifiedKFold(n_splits=10,\n",
    "                            random_state=1).split(X_train, y_train)\n",
    "\n",
    "num_epochs = 2\n",
    "scores = []\n",
    "\n",
    "enumerate_kfold = list(enumerate(kfold))\n",
    "for epoch in range(num_epochs):\n",
    "    for k, (train, test) in enumerate_kfold:\n",
    "        clf.fit(X_train_std[train], y_train[train])\n",
    "        score = clf.score(X_train_std[test], y_train[test])\n",
    "        scores.append(score)\n",
    "        print('Epoch: %s, Fold: %s, Class dist.: %s, Acc: %.3f' % (epoch,\n",
    "                                                                   k, \n",
    "                                                                   np.bincount(y_train[train]),\n",
    "                                                                   score))\n",
    "    print('')\n",
    "    \n",
    "print('\\nCV accuracy: %.3f +/- %.3f' % (np.mean(scores), np.std(scores)))"
   ]
  },
  {
   "cell_type": "markdown",
   "metadata": {
    "slideshow": {
     "slide_type": "subslide"
    }
   },
   "source": [
    "## Answer\n",
    "\n",
    "By changing\n",
    "\n",
    "    clf.partial_fit(X_train_std[train], y_train[train], classes=np.unique(y_train))\n",
    "    \n",
    "to\n",
    "\n",
    "    clf.fit(X_train_std[train], y_train[train])\n",
    "    \n",
    "We could avoid cumulative learning, because the iterations of K-fold should be independent. Partial fit will not initialize the weight each time we train and could result in cumulative learning, which is not independent."
   ]
  },
  {
   "cell_type": "markdown",
   "metadata": {
    "slideshow": {
     "slide_type": "slide"
    }
   },
   "source": [
    "# Precision-recall curve (40 points)\n",
    "\n",
    "We have plotted ROC (receiver operator characteristics) curve for the breast cancer dataset.\n",
    "\n",
    "Plot the precision-recall curve for the same data set using the same experimental setup.\n",
    "What similarities and differences you can find between ROC and precision-recall curves?\n",
    "\n",
    "You can find more information about precision-recall curve online such as: http://scikit-learn.org/stable/modules/generated/sklearn.metrics.precision_recall_curve.html"
   ]
  },
  {
   "cell_type": "markdown",
   "metadata": {
    "slideshow": {
     "slide_type": "subslide"
    }
   },
   "source": [
    "# Answer"
   ]
  },
  {
   "cell_type": "code",
   "execution_count": 7,
   "metadata": {
    "collapsed": false,
    "scrolled": false,
    "slideshow": {
     "slide_type": "fragment"
    }
   },
   "outputs": [
    {
     "data": {
      "image/png": "[encoded data removed]",
      "text/plain": [
       "<matplotlib.figure.Figure at 0x1e1f85e1dd8>"
      ]
     },
     "metadata": {},
     "output_type": "display_data"
    }
   ],
   "source": [
    "# your code\n",
    "%matplotlib inline\n",
    "from sklearn.preprocessing import StandardScaler\n",
    "from sklearn.decomposition import PCA\n",
    "from sklearn.linear_model import LogisticRegression\n",
    "from sklearn.pipeline import Pipeline\n",
    "from sklearn.metrics import precision_recall_curve, auc\n",
    "from scipy import interp\n",
    "import matplotlib.pyplot as plt\n",
    "\n",
    "pipe_lr = Pipeline([('scl', StandardScaler()),\n",
    "                    ('pca', PCA(n_components=2)),\n",
    "                    ('clf', LogisticRegression(penalty='l2', \n",
    "                                               random_state=0, \n",
    "                                               C=100.0))])\n",
    "\n",
    "# intentionally use only 2 features to make the task harder and the curves more interesting\n",
    "X_train2 = X_train[:, [4, 14]]\n",
    "X_test2 = X_test[:, [4, 14]]\n",
    "\n",
    "\n",
    "if Version(sklearn_version) < '0.18':\n",
    "    cv = StratifiedKFold(y_train, \n",
    "                         n_folds=3, \n",
    "                         random_state=1)\n",
    "    \n",
    "else:\n",
    "    cv = list(StratifiedKFold(n_splits=3, \n",
    "                              random_state=1).split(X_train, y_train))\n",
    "\n",
    "fig = plt.figure(figsize=(7, 6))\n",
    "\n",
    "mean_precision = 0.0\n",
    "mean_recall = np.linspace(0, 1, 100)\n",
    "\n",
    "for i, (train, test) in enumerate(cv):\n",
    "    probas = pipe_lr.fit(X_train2[train],\n",
    "                         y_train[train]).predict_proba(X_train2[test])\n",
    "\n",
    "    precision, recall, _ = precision_recall_curve(y_train[test],\n",
    "                                       probas[:, 1])\n",
    "    \n",
    "    mean_precision += interp(mean_recall, recall[::-1], precision[::-1])\n",
    "    pr_auc = auc(recall, precision)\n",
    "    plt.plot(recall,\n",
    "             precision,\n",
    "             lw=1,\n",
    "             label='ROC fold %d (area = %0.2f)'\n",
    "                   % (i+1, pr_auc))\n",
    "\n",
    "positive_ratio = np.count_nonzero(y_train)/len(y_train)\n",
    "plt.plot([0, 1],\n",
    "         [positive_ratio, positive_ratio],\n",
    "         linestyle='--',\n",
    "         color=(0.6, 0.6, 0.6),\n",
    "         label='random guessing')\n",
    "\n",
    "mean_precision /= len(cv)\n",
    "mean_precision[0] = 1\n",
    "mean_precision[-1] = positive_ratio\n",
    "mean_auc = auc(mean_recall, mean_precision)\n",
    "plt.plot(mean_recall, mean_precision, 'k--',\n",
    "         label='mean PR (area = %0.2f)' % mean_auc, lw=2)\n",
    "plt.plot([0, 1, 1],\n",
    "         [1, 1, positive_ratio],\n",
    "         lw=2,\n",
    "         linestyle=':',\n",
    "         color='black',\n",
    "         label='perfect performance')\n",
    "\n",
    "plt.xlim([-0.05, 1.05])\n",
    "plt.ylim([-0.05, 1.05])\n",
    "plt.xlabel('recall rate')\n",
    "plt.ylabel('precision rate')\n",
    "plt.title('Precision Recall')\n",
    "plt.legend(loc=\"lower right\")\n",
    "\n",
    "plt.tight_layout()\n",
    "# plt.savefig('./figures/pr.png', dpi=300)\n",
    "plt.show()"
   ]
  },
  {
   "cell_type": "markdown",
   "metadata": {
    "slideshow": {
     "slide_type": "fragment"
    }
   },
   "source": [
    "### Similarities\n",
    "\n",
    "1. Better if the AUC is larger;\n",
    "2. Mainly focus on positive predict result, and use TP/P (true positive ratio or recall ratio) as a factor;\n",
    "3. The evaluation results of the 2 methods are simlar;\n",
    "\n",
    "### Differences\n",
    "\n",
    "1. ROC curve begin at lower left corner and end at upper right corner, PR curve begin at upper left corner and end at lower right;\n",
    "2. ROC curve is better if near to upper left corner, PR curve is better if near to upper right corner;\n",
    "3. The random guessing curve is shaped like \"╱\" in ROC space, and shaped like \"─\" (at postive ratio of training set) in PR space;\n",
    "3. The perfect performance curve is shaped like \"┌\" in ROC space, and shaped like \"┐\" in PR space;\n",
    "4. The evaluation result of PR curve depends more on positive ratio of the seleted training set."
   ]
  },
  {
   "cell_type": "markdown",
   "metadata": {
    "slideshow": {
     "slide_type": "slide"
    }
   },
   "source": [
    "# Ensemble learning\n",
    "\n",
    "We have used the following code to compute and plot the ensemble error from individual classifiers for binary classification:"
   ]
  },
  {
   "cell_type": "code",
   "execution_count": 8,
   "metadata": {
    "collapsed": true,
    "slideshow": {
     "slide_type": "fragment"
    }
   },
   "outputs": [],
   "source": [
    "from scipy.misc import comb\n",
    "import math\n",
    "import numpy as np\n",
    "\n",
    "def ensemble_error(num_classifier, base_error):\n",
    "    k_start = math.ceil(num_classifier/2)\n",
    "    probs = [comb(num_classifier, k)*(base_error**k)*((1-base_error)**(num_classifier-k)) for k in range(k_start, num_classifier+1)]\n",
    "    return sum(probs)"
   ]
  },
  {
   "cell_type": "code",
   "execution_count": 9,
   "metadata": {
    "collapsed": true,
    "slideshow": {
     "slide_type": "fragment"
    }
   },
   "outputs": [],
   "source": [
    "import matplotlib.pyplot as plt\n",
    "%matplotlib inline"
   ]
  },
  {
   "cell_type": "code",
   "execution_count": 10,
   "metadata": {
    "collapsed": true,
    "slideshow": {
     "slide_type": "fragment"
    }
   },
   "outputs": [],
   "source": [
    "def plot_base_error(ensemble_error_func, num_classifier, error_delta):\n",
    "\n",
    "    error_range = np.arange(0.0, 1+error_delta, error_delta)\n",
    "    ensemble_errors = [ensemble_error_func(num_classifier=num_classifier, base_error=error) for error in error_range]\n",
    "\n",
    "    plt.plot(error_range, ensemble_errors, \n",
    "             label = 'ensemble error',\n",
    "             linewidth=2)\n",
    "    plt.plot(error_range, error_range,\n",
    "             label = 'base error',\n",
    "             linestyle = '--',\n",
    "             linewidth=2)\n",
    "    plt.xlabel('base error')\n",
    "    plt.ylabel('base/ensemble error')\n",
    "    plt.legend(loc='best')\n",
    "    plt.grid()\n",
    "    plt.show()"
   ]
  },
  {
   "cell_type": "code",
   "execution_count": 11,
   "metadata": {
    "collapsed": true,
    "slideshow": {
     "slide_type": "fragment"
    }
   },
   "outputs": [],
   "source": [
    "num_classifier = 11\n",
    "error_delta = 0.01\n",
    "base_error = 0.25"
   ]
  },
  {
   "cell_type": "code",
   "execution_count": 12,
   "metadata": {
    "collapsed": false,
    "scrolled": false,
    "slideshow": {
     "slide_type": "fragment"
    }
   },
   "outputs": [
    {
     "name": "stdout",
     "output_type": "stream",
     "text": [
      "0.034327507019\n"
     ]
    }
   ],
   "source": [
    "\n",
    "print(ensemble_error(num_classifier=num_classifier, base_error=base_error))\n"
   ]
  },
  {
   "cell_type": "code",
   "execution_count": 13,
   "metadata": {
    "collapsed": false,
    "scrolled": false,
    "slideshow": {
     "slide_type": "fragment"
    }
   },
   "outputs": [
    {
     "data": {
      "image/png": "[encoded data removed]",
      "text/plain": [
       "<matplotlib.figure.Figure at 0x1e1f9875a58>"
      ]
     },
     "metadata": {},
     "output_type": "display_data"
    }
   ],
   "source": [
    "plot_base_error(ensemble_error, num_classifier=num_classifier, error_delta=error_delta)"
   ]
  },
  {
   "cell_type": "markdown",
   "metadata": {
    "slideshow": {
     "slide_type": "fragment"
    }
   },
   "source": [
    "# Number of classifiers (40 points)\n",
    "\n",
    "The function plot_base_error() above plots the ensemble error as a function of the base error given a fixed number of classifiers.\n",
    "\n",
    "Write another function to plot ensembe error versus different number of classifiers with a given base error.\n",
    "\n",
    "Does the ensemble error always go down with more classifiers? \n",
    "Why or why not?\n",
    "\n",
    "Can you improve the method ensemble_error() to produce a more reasonable plot?"
   ]
  },
  {
   "cell_type": "markdown",
   "metadata": {
    "slideshow": {
     "slide_type": "subslide"
    }
   },
   "source": [
    "## Answer\n",
    "\n",
    "The code for plotting is below:"
   ]
  },
  {
   "cell_type": "code",
   "execution_count": 14,
   "metadata": {
    "collapsed": false,
    "slideshow": {
     "slide_type": "fragment"
    }
   },
   "outputs": [],
   "source": [
    "def plot_num_classifier(ensemble_error_func, max_num_classifier, base_error):\n",
    "    \n",
    "    num_range = range(1, max_num_classifier+1)\n",
    "\n",
    "    ensemble_errors = [ensemble_error_func(num_classifier=num_classifier, base_error=base_error) \n",
    "                       for num_classifier in num_range]\n",
    "\n",
    "    plt.plot(num_range, ensemble_errors, \n",
    "             label = 'ensemble error',\n",
    "             linewidth=2)\n",
    "    \n",
    "    plt.xlabel('number of classifier')\n",
    "    plt.ylabel('ensemble error')\n",
    "    plt.legend(loc='best')\n",
    "    plt.grid()\n",
    "    plt.show()"
   ]
  },
  {
   "cell_type": "markdown",
   "metadata": {
    "slideshow": {
     "slide_type": "fragment"
    }
   },
   "source": [
    "State your observations of the experiments of your code:\n",
    "\n",
    "* The overall trend goes down when the number of classifiers increases.\n",
    "* However, the curve is showed as in oscillation, when the number of classifiers increases to be an even number, the ensemble error would increase suddenly instead of decrease, and the ensemble error could be even larger than base error when number of classifier is small. "
   ]
  },
  {
   "cell_type": "code",
   "execution_count": 15,
   "metadata": {
    "collapsed": true,
    "slideshow": {
     "slide_type": "fragment"
    }
   },
   "outputs": [],
   "source": [
    "max_num_classifiers = 20\n",
    "base_error = 0.25"
   ]
  },
  {
   "cell_type": "code",
   "execution_count": 16,
   "metadata": {
    "collapsed": false,
    "scrolled": false,
    "slideshow": {
     "slide_type": "fragment"
    }
   },
   "outputs": [
    {
     "data": {
      "image/png": "[encoded data removed]",
      "text/plain": [
       "<matplotlib.figure.Figure at 0x1e1f9874a90>"
      ]
     },
     "metadata": {},
     "output_type": "display_data"
    }
   ],
   "source": [
    "plot_num_classifier(ensemble_error, \n",
    "                    max_num_classifier=max_num_classifiers, \n",
    "                    base_error=base_error)"
   ]
  },
  {
   "cell_type": "markdown",
   "metadata": {
    "slideshow": {
     "slide_type": "fragment"
    }
   },
   "source": [
    "Explain your observations above.\n",
    "\n",
    "* When there are more classifiers, the probability of that at least more than N/2 classifiers predict wrongly could be smaller, thus, the overall trend goes down when the number of classifiers increases.\n",
    "* However, when the number of classifiers increases from an odd number to be an even number, ceil(num_classifier/2) remains unchanged, but at the time the number of situation of wrong prediciton has increased by 1 while correct situation prediction remains the same amount. As a result, the ensemble error increased at such situation.\n",
    "\n",
    "Describe a better algorithm for computing the ensemble error.\n",
    "\n",
    "* Noticed that when number of classifiers is an even number, the error probability at N/2 is half by half, and to improve the algorithm and try to make the result more reasonable, I divided it by 2 at N/2 to make it remain the same as before. As a result, the curve keeps decreasing when the number of classifiers increases."
   ]
  },
  {
   "cell_type": "code",
   "execution_count": 17,
   "metadata": {
    "collapsed": true,
    "slideshow": {
     "slide_type": "fragment"
    }
   },
   "outputs": [],
   "source": [
    "def better_ensemble_error(num_classifier, base_error):\n",
    "    # replace the following default line with your implementation of a better algorithm for ensemble error\n",
    "    k_start = math.ceil(num_classifier/2)\n",
    "    probs = [comb(num_classifier, k)*(base_error**k)*((1-base_error)**(num_classifier-k)) \n",
    "             for k in range(k_start, num_classifier+1)]\n",
    "    if (num_classifier%2) == 0:\n",
    "        probs[0] /= 2\n",
    "    return sum(probs)"
   ]
  },
  {
   "cell_type": "code",
   "execution_count": 18,
   "metadata": {
    "collapsed": false,
    "slideshow": {
     "slide_type": "fragment"
    }
   },
   "outputs": [
    {
     "data": {
      "image/png": "[encoded data removed]",
      "text/plain": [
       "<matplotlib.figure.Figure at 0x1e1f9ca6588>"
      ]
     },
     "metadata": {},
     "output_type": "display_data"
    }
   ],
   "source": [
    "plot_num_classifier(better_ensemble_error, \n",
    "                    max_num_classifier=max_num_classifiers, \n",
    "                    base_error=base_error)"
   ]
  },
  {
   "cell_type": "markdown",
   "metadata": {},
   "source": [
    "<br><br><center> - END - </center>"
   ]
  }
 ],
 "metadata": {
  "anaconda-cloud": {},
  "kernelspec": {
   "display_name": "Python [Root]",
   "language": "python",
   "name": "Python [Root]"
  },
  "language_info": {
   "codemirror_mode": {
    "name": "ipython",
    "version": 3
   },
   "file_extension": ".py",
   "mimetype": "text/x-python",
   "name": "python",
   "nbconvert_exporter": "python",
   "pygments_lexer": "ipython3",
   "version": "3.5.2"
  },
  "name": "_merged"
 },
 "nbformat": 4,
 "nbformat_minor": 0
}
